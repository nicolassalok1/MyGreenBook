{
 "cells": [
  {
   "cell_type": "code",
   "id": "f03f3308-3878-4fb1-8976-99a280dcf4f8",
   "metadata": {
    "ExecuteTime": {
     "end_time": "2025-04-26T17:26:30.388475Z",
     "start_time": "2025-04-26T17:26:29.402944Z"
    }
   },
   "source": [
    "import module_loader\n",
    "import pandas as pd\n",
    "from bookirds.curves import *\n",
    "from bookirds.dual import Dual"
   ],
   "outputs": [],
   "execution_count": 1
  },
  {
   "cell_type": "markdown",
   "id": "4fb6b866-ad1c-471b-b359-6b82f4ac535f",
   "metadata": {},
   "source": [
    "### Pricing curve is assumed accurate\n",
    "\n",
    "This curve only has the four instruments 2Y, 5Y, 10Y, 30Y, as per the text."
   ]
  },
  {
   "cell_type": "code",
   "id": "009d4605-2598-43cf-be89-0b425b63f5e5",
   "metadata": {
    "ExecuteTime": {
     "end_time": "2025-04-26T17:26:30.413781Z",
     "start_time": "2025-04-26T17:26:30.391602Z"
    }
   },
   "source": [
    "nodes = {\n",
    "    datetime(2022, 1, 1): Dual(1, {\"v0\": 1}),\n",
    "    datetime(2024, 1, 1): Dual(1, {\"v1\": 1}),\n",
    "    datetime(2027, 1, 1): Dual(1, {\"v2\": 1}),\n",
    "    datetime(2032, 1, 1): Dual(1, {\"v3\": 1}),\n",
    "    datetime(2052, 1, 1): Dual(1, {\"v4\": 1})\n",
    "}\n",
    "swaps = {\n",
    "    Swap(datetime(2022, 1, 1), 12*2, 12, 12): 1.635,\n",
    "    Swap(datetime(2022, 1, 1), 12*5, 12, 12): 1.885,\n",
    "    Swap(datetime(2022, 1, 1), 12*10, 12, 12): 1.930,\n",
    "    Swap(datetime(2022, 1, 1), 12*30, 12, 12): 1.980,\n",
    "}\n",
    "s_cv = SolvedCurve(\n",
    "    nodes=nodes,\n",
    "    swaps=list(swaps.keys()),\n",
    "    obj_rates=list(swaps.values()),\n",
    "    interpolation=\"log_linear\",\n",
    "    algorithm=\"levenberg_marquardt\"\n",
    ")\n",
    "print(s_cv.iterate())"
   ],
   "outputs": [
    {
     "name": "stdout",
     "output_type": "stream",
     "text": [
      "tolerance reached (levenberg_marquardt) after 12 iterations, func: 3.692989489074287e-18\n"
     ]
    }
   ],
   "execution_count": 2
  },
  {
   "cell_type": "markdown",
   "id": "1d011888-0434-4329-b549-79020a057cb5",
   "metadata": {},
   "source": [
    "### Equivalent portfolios\n",
    "\n",
    "Suppose we construct three portfolios, each with either;\n",
    "\n",
    "  - A single 5Y5Y swap,\n",
    "  - A 5Y swap and a 10Y swap,\n",
    "  - A 5s10s swap spread and a 10Y swap,\n",
    "\n",
    "These portfolios are **equivalent** since their cashflows are identical.\n"
   ]
  },
  {
   "cell_type": "code",
   "id": "cd092194-aa8b-48bf-91e9-f4b6e7625038",
   "metadata": {
    "ExecuteTime": {
     "end_time": "2025-04-26T17:26:30.909710Z",
     "start_time": "2025-04-26T17:26:30.538850Z"
    }
   },
   "source": [
    "portfolio1 = Portfolio([\n",
    "    Swap(datetime(2027,1,1), 12*5, 12, 12, fixed_rate=1.9797, notional=-100e6)\n",
    "])\n",
    "portfolio2 = Portfolio([\n",
    "    Swap(datetime(2022,1,1), 12*5, 12, 12, fixed_rate=1.9797, notional=100e6),\n",
    "    Swap(datetime(2022,1,1), 12*10, 12, 12, fixed_rate=1.9797, notional=-100e6)\n",
    "])\n",
    "portfolio3 = Portfolio([\n",
    "    Swap(datetime(2022,1,1), 12*5, 12, 12, fixed_rate=1.9797, notional=100e6),\n",
    "    Swap(datetime(2022,1,1), 12*10, 12, 12, fixed_rate=1.9797, notional=-50e6),\n",
    "    Swap(datetime(2022,1,1), 12*10, 12, 12, fixed_rate=1.9797, notional=-50e6)\n",
    "])\n",
    "\n",
    "df = pd.DataFrame({\n",
    "    \"pf1\": portfolio1.risk(s_cv)[:,0],\n",
    "    \"pf2\": portfolio2.risk(s_cv)[:,0],\n",
    "    \"pf3\": portfolio3.risk(s_cv)[:,0],\n",
    "}, index=[\"2y\", \"5y\", \"10y\", \"30y\"])\n",
    "df.style.format(\"{:,.0f}\")"
   ],
   "outputs": [
    {
     "name": "stdout",
     "output_type": "stream",
     "text": [
      "fwd tolerance reached (gauss_newton) after 2 iterations, func: 4.199397490950246e-26\n",
      "bck tolerance reached (gauss_newton) after 2 iterations, func: 1.7514684248169515e-27\n",
      "fwd tolerance reached (gauss_newton) after 2 iterations, func: 2.65090889350345e-25\n",
      "bck tolerance reached (gauss_newton) after 2 iterations, func: 3.010377030794561e-25\n",
      "fwd tolerance reached (gauss_newton) after 2 iterations, func: 3.768634570235589e-25\n",
      "bck tolerance reached (gauss_newton) after 2 iterations, func: 3.589816073278156e-25\n",
      "fwd tolerance reached (gauss_newton) after 3 iterations, func: 8.504640393858521e-26\n",
      "bck tolerance reached (gauss_newton) after 3 iterations, func: 8.504152286173416e-26\n"
     ]
    },
    {
     "data": {
      "text/plain": [
       "<pandas.io.formats.style.Styler at 0x17029767350>"
      ],
      "text/html": [
       "<style type=\"text/css\">\n",
       "</style>\n",
       "<table id=\"T_18bef\">\n",
       "  <thead>\n",
       "    <tr>\n",
       "      <th class=\"blank level0\" >&nbsp;</th>\n",
       "      <th id=\"T_18bef_level0_col0\" class=\"col_heading level0 col0\" >pf1</th>\n",
       "      <th id=\"T_18bef_level0_col1\" class=\"col_heading level0 col1\" >pf2</th>\n",
       "      <th id=\"T_18bef_level0_col2\" class=\"col_heading level0 col2\" >pf3</th>\n",
       "    </tr>\n",
       "  </thead>\n",
       "  <tbody>\n",
       "    <tr>\n",
       "      <th id=\"T_18bef_level0_row0\" class=\"row_heading level0 row0\" >2y</th>\n",
       "      <td id=\"T_18bef_row0_col0\" class=\"data row0 col0\" >23</td>\n",
       "      <td id=\"T_18bef_row0_col1\" class=\"data row0 col1\" >23</td>\n",
       "      <td id=\"T_18bef_row0_col2\" class=\"data row0 col2\" >23</td>\n",
       "    </tr>\n",
       "    <tr>\n",
       "      <th id=\"T_18bef_level0_row1\" class=\"row_heading level0 row1\" >5y</th>\n",
       "      <td id=\"T_18bef_row1_col0\" class=\"data row1 col0\" >47,433</td>\n",
       "      <td id=\"T_18bef_row1_col1\" class=\"data row1 col1\" >47,433</td>\n",
       "      <td id=\"T_18bef_row1_col2\" class=\"data row1 col2\" >47,433</td>\n",
       "    </tr>\n",
       "    <tr>\n",
       "      <th id=\"T_18bef_level0_row2\" class=\"row_heading level0 row2\" >10y</th>\n",
       "      <td id=\"T_18bef_row2_col0\" class=\"data row2 col0\" >-90,529</td>\n",
       "      <td id=\"T_18bef_row2_col1\" class=\"data row2 col1\" >-90,529</td>\n",
       "      <td id=\"T_18bef_row2_col2\" class=\"data row2 col2\" >-90,529</td>\n",
       "    </tr>\n",
       "    <tr>\n",
       "      <th id=\"T_18bef_level0_row3\" class=\"row_heading level0 row3\" >30y</th>\n",
       "      <td id=\"T_18bef_row3_col0\" class=\"data row3 col0\" >0</td>\n",
       "      <td id=\"T_18bef_row3_col1\" class=\"data row3 col1\" >0</td>\n",
       "      <td id=\"T_18bef_row3_col2\" class=\"data row3 col2\" >0</td>\n",
       "    </tr>\n",
       "  </tbody>\n",
       "</table>\n"
      ]
     },
     "execution_count": 3,
     "metadata": {},
     "output_type": "execute_result"
    }
   ],
   "execution_count": 3
  },
  {
   "cell_type": "markdown",
   "id": "357ed670-064f-48a6-8005-ea9db3839b26",
   "metadata": {},
   "source": [
    "### Parametrised instruments\n",
    "\n",
    "Next we use the prices and the insruments as parametrised in the text."
   ]
  },
  {
   "cell_type": "code",
   "id": "c115f638-bfb5-4566-a810-ad9562166211",
   "metadata": {
    "ExecuteTime": {
     "end_time": "2025-04-26T17:26:30.923148Z",
     "start_time": "2025-04-26T17:26:30.917645Z"
    }
   },
   "source": [
    "df = pd.DataFrame({\n",
    "    \"2Y\": [1, 0, 0, 0, -1, -1, -1, 0, 0, 0, -1, 0],\n",
    "    \"5Y\": [0, 1, 0, 0, 1, 0, 0, -1, -1, 0, 2, -1],\n",
    "    \"10Y\": [0, 0, 1, 0, 0, 1, 0, 1, 0, -1, -1, 2],\n",
    "    \"30Y\": [0, 0, 0, 1, 0, 0, 1, 0, 1, 1, 0, -1],\n",
    "    \"margin\": [0.4, 0.5, 0.5, 0.6, 0.25, 0.45, 0.85, 0.25, 0.7, 0.55, 0.5, 0.6],\n",
    "}, index=[\"2Y\", \"5Y\", \"10Y\", \"30Y\", \"2s5s\", \"2s10s\", \"2s30s\", \"5s10s\", \"5s30s\", \"10s30s\", \"2s5s10s\", \"5s10s30s\"])\n",
    "df.style"
   ],
   "outputs": [
    {
     "data": {
      "text/plain": [
       "<pandas.io.formats.style.Styler at 0x1702b287a40>"
      ],
      "text/html": [
       "<style type=\"text/css\">\n",
       "</style>\n",
       "<table id=\"T_1a177\">\n",
       "  <thead>\n",
       "    <tr>\n",
       "      <th class=\"blank level0\" >&nbsp;</th>\n",
       "      <th id=\"T_1a177_level0_col0\" class=\"col_heading level0 col0\" >2Y</th>\n",
       "      <th id=\"T_1a177_level0_col1\" class=\"col_heading level0 col1\" >5Y</th>\n",
       "      <th id=\"T_1a177_level0_col2\" class=\"col_heading level0 col2\" >10Y</th>\n",
       "      <th id=\"T_1a177_level0_col3\" class=\"col_heading level0 col3\" >30Y</th>\n",
       "      <th id=\"T_1a177_level0_col4\" class=\"col_heading level0 col4\" >margin</th>\n",
       "    </tr>\n",
       "  </thead>\n",
       "  <tbody>\n",
       "    <tr>\n",
       "      <th id=\"T_1a177_level0_row0\" class=\"row_heading level0 row0\" >2Y</th>\n",
       "      <td id=\"T_1a177_row0_col0\" class=\"data row0 col0\" >1</td>\n",
       "      <td id=\"T_1a177_row0_col1\" class=\"data row0 col1\" >0</td>\n",
       "      <td id=\"T_1a177_row0_col2\" class=\"data row0 col2\" >0</td>\n",
       "      <td id=\"T_1a177_row0_col3\" class=\"data row0 col3\" >0</td>\n",
       "      <td id=\"T_1a177_row0_col4\" class=\"data row0 col4\" >0.400000</td>\n",
       "    </tr>\n",
       "    <tr>\n",
       "      <th id=\"T_1a177_level0_row1\" class=\"row_heading level0 row1\" >5Y</th>\n",
       "      <td id=\"T_1a177_row1_col0\" class=\"data row1 col0\" >0</td>\n",
       "      <td id=\"T_1a177_row1_col1\" class=\"data row1 col1\" >1</td>\n",
       "      <td id=\"T_1a177_row1_col2\" class=\"data row1 col2\" >0</td>\n",
       "      <td id=\"T_1a177_row1_col3\" class=\"data row1 col3\" >0</td>\n",
       "      <td id=\"T_1a177_row1_col4\" class=\"data row1 col4\" >0.500000</td>\n",
       "    </tr>\n",
       "    <tr>\n",
       "      <th id=\"T_1a177_level0_row2\" class=\"row_heading level0 row2\" >10Y</th>\n",
       "      <td id=\"T_1a177_row2_col0\" class=\"data row2 col0\" >0</td>\n",
       "      <td id=\"T_1a177_row2_col1\" class=\"data row2 col1\" >0</td>\n",
       "      <td id=\"T_1a177_row2_col2\" class=\"data row2 col2\" >1</td>\n",
       "      <td id=\"T_1a177_row2_col3\" class=\"data row2 col3\" >0</td>\n",
       "      <td id=\"T_1a177_row2_col4\" class=\"data row2 col4\" >0.500000</td>\n",
       "    </tr>\n",
       "    <tr>\n",
       "      <th id=\"T_1a177_level0_row3\" class=\"row_heading level0 row3\" >30Y</th>\n",
       "      <td id=\"T_1a177_row3_col0\" class=\"data row3 col0\" >0</td>\n",
       "      <td id=\"T_1a177_row3_col1\" class=\"data row3 col1\" >0</td>\n",
       "      <td id=\"T_1a177_row3_col2\" class=\"data row3 col2\" >0</td>\n",
       "      <td id=\"T_1a177_row3_col3\" class=\"data row3 col3\" >1</td>\n",
       "      <td id=\"T_1a177_row3_col4\" class=\"data row3 col4\" >0.600000</td>\n",
       "    </tr>\n",
       "    <tr>\n",
       "      <th id=\"T_1a177_level0_row4\" class=\"row_heading level0 row4\" >2s5s</th>\n",
       "      <td id=\"T_1a177_row4_col0\" class=\"data row4 col0\" >-1</td>\n",
       "      <td id=\"T_1a177_row4_col1\" class=\"data row4 col1\" >1</td>\n",
       "      <td id=\"T_1a177_row4_col2\" class=\"data row4 col2\" >0</td>\n",
       "      <td id=\"T_1a177_row4_col3\" class=\"data row4 col3\" >0</td>\n",
       "      <td id=\"T_1a177_row4_col4\" class=\"data row4 col4\" >0.250000</td>\n",
       "    </tr>\n",
       "    <tr>\n",
       "      <th id=\"T_1a177_level0_row5\" class=\"row_heading level0 row5\" >2s10s</th>\n",
       "      <td id=\"T_1a177_row5_col0\" class=\"data row5 col0\" >-1</td>\n",
       "      <td id=\"T_1a177_row5_col1\" class=\"data row5 col1\" >0</td>\n",
       "      <td id=\"T_1a177_row5_col2\" class=\"data row5 col2\" >1</td>\n",
       "      <td id=\"T_1a177_row5_col3\" class=\"data row5 col3\" >0</td>\n",
       "      <td id=\"T_1a177_row5_col4\" class=\"data row5 col4\" >0.450000</td>\n",
       "    </tr>\n",
       "    <tr>\n",
       "      <th id=\"T_1a177_level0_row6\" class=\"row_heading level0 row6\" >2s30s</th>\n",
       "      <td id=\"T_1a177_row6_col0\" class=\"data row6 col0\" >-1</td>\n",
       "      <td id=\"T_1a177_row6_col1\" class=\"data row6 col1\" >0</td>\n",
       "      <td id=\"T_1a177_row6_col2\" class=\"data row6 col2\" >0</td>\n",
       "      <td id=\"T_1a177_row6_col3\" class=\"data row6 col3\" >1</td>\n",
       "      <td id=\"T_1a177_row6_col4\" class=\"data row6 col4\" >0.850000</td>\n",
       "    </tr>\n",
       "    <tr>\n",
       "      <th id=\"T_1a177_level0_row7\" class=\"row_heading level0 row7\" >5s10s</th>\n",
       "      <td id=\"T_1a177_row7_col0\" class=\"data row7 col0\" >0</td>\n",
       "      <td id=\"T_1a177_row7_col1\" class=\"data row7 col1\" >-1</td>\n",
       "      <td id=\"T_1a177_row7_col2\" class=\"data row7 col2\" >1</td>\n",
       "      <td id=\"T_1a177_row7_col3\" class=\"data row7 col3\" >0</td>\n",
       "      <td id=\"T_1a177_row7_col4\" class=\"data row7 col4\" >0.250000</td>\n",
       "    </tr>\n",
       "    <tr>\n",
       "      <th id=\"T_1a177_level0_row8\" class=\"row_heading level0 row8\" >5s30s</th>\n",
       "      <td id=\"T_1a177_row8_col0\" class=\"data row8 col0\" >0</td>\n",
       "      <td id=\"T_1a177_row8_col1\" class=\"data row8 col1\" >-1</td>\n",
       "      <td id=\"T_1a177_row8_col2\" class=\"data row8 col2\" >0</td>\n",
       "      <td id=\"T_1a177_row8_col3\" class=\"data row8 col3\" >1</td>\n",
       "      <td id=\"T_1a177_row8_col4\" class=\"data row8 col4\" >0.700000</td>\n",
       "    </tr>\n",
       "    <tr>\n",
       "      <th id=\"T_1a177_level0_row9\" class=\"row_heading level0 row9\" >10s30s</th>\n",
       "      <td id=\"T_1a177_row9_col0\" class=\"data row9 col0\" >0</td>\n",
       "      <td id=\"T_1a177_row9_col1\" class=\"data row9 col1\" >0</td>\n",
       "      <td id=\"T_1a177_row9_col2\" class=\"data row9 col2\" >-1</td>\n",
       "      <td id=\"T_1a177_row9_col3\" class=\"data row9 col3\" >1</td>\n",
       "      <td id=\"T_1a177_row9_col4\" class=\"data row9 col4\" >0.550000</td>\n",
       "    </tr>\n",
       "    <tr>\n",
       "      <th id=\"T_1a177_level0_row10\" class=\"row_heading level0 row10\" >2s5s10s</th>\n",
       "      <td id=\"T_1a177_row10_col0\" class=\"data row10 col0\" >-1</td>\n",
       "      <td id=\"T_1a177_row10_col1\" class=\"data row10 col1\" >2</td>\n",
       "      <td id=\"T_1a177_row10_col2\" class=\"data row10 col2\" >-1</td>\n",
       "      <td id=\"T_1a177_row10_col3\" class=\"data row10 col3\" >0</td>\n",
       "      <td id=\"T_1a177_row10_col4\" class=\"data row10 col4\" >0.500000</td>\n",
       "    </tr>\n",
       "    <tr>\n",
       "      <th id=\"T_1a177_level0_row11\" class=\"row_heading level0 row11\" >5s10s30s</th>\n",
       "      <td id=\"T_1a177_row11_col0\" class=\"data row11 col0\" >0</td>\n",
       "      <td id=\"T_1a177_row11_col1\" class=\"data row11 col1\" >-1</td>\n",
       "      <td id=\"T_1a177_row11_col2\" class=\"data row11 col2\" >2</td>\n",
       "      <td id=\"T_1a177_row11_col3\" class=\"data row11 col3\" >-1</td>\n",
       "      <td id=\"T_1a177_row11_col4\" class=\"data row11 col4\" >0.600000</td>\n",
       "    </tr>\n",
       "  </tbody>\n",
       "</table>\n"
      ]
     },
     "execution_count": 4,
     "metadata": {},
     "output_type": "execute_result"
    }
   ],
   "execution_count": 4
  },
  {
   "cell_type": "code",
   "id": "5dcfdbc2-861d-42f7-b28b-72628cca044f",
   "metadata": {
    "ExecuteTime": {
     "end_time": "2025-04-26T17:26:30.954942Z",
     "start_time": "2025-04-26T17:26:30.929497Z"
    }
   },
   "source": [
    "c = df[\"margin\"].to_numpy()[:, np.newaxis]\n",
    "A = df[[\"2Y\", \"5Y\", \"10Y\", \"30Y\"]].to_numpy().T\n",
    "S = portfolio1.risk(s_cv)\n",
    "ret = portfolio1.model_margin(c, A, portfolio1.risk(s_cv))"
   ],
   "outputs": [],
   "execution_count": 5
  },
  {
   "cell_type": "code",
   "id": "6b406410-6d98-4054-a698-0778860e985e",
   "metadata": {
    "ExecuteTime": {
     "end_time": "2025-04-26T17:26:30.968781Z",
     "start_time": "2025-04-26T17:26:30.963408Z"
    }
   },
   "source": [
    "df[\"x\"], x = ret[1], ret[1][:, np.newaxis]\n",
    "df.style.format(\"{:,.1f}\")"
   ],
   "outputs": [
    {
     "data": {
      "text/plain": [
       "<pandas.io.formats.style.Styler at 0x1702b2c3650>"
      ],
      "text/html": [
       "<style type=\"text/css\">\n",
       "</style>\n",
       "<table id=\"T_6905e\">\n",
       "  <thead>\n",
       "    <tr>\n",
       "      <th class=\"blank level0\" >&nbsp;</th>\n",
       "      <th id=\"T_6905e_level0_col0\" class=\"col_heading level0 col0\" >2Y</th>\n",
       "      <th id=\"T_6905e_level0_col1\" class=\"col_heading level0 col1\" >5Y</th>\n",
       "      <th id=\"T_6905e_level0_col2\" class=\"col_heading level0 col2\" >10Y</th>\n",
       "      <th id=\"T_6905e_level0_col3\" class=\"col_heading level0 col3\" >30Y</th>\n",
       "      <th id=\"T_6905e_level0_col4\" class=\"col_heading level0 col4\" >margin</th>\n",
       "      <th id=\"T_6905e_level0_col5\" class=\"col_heading level0 col5\" >x</th>\n",
       "    </tr>\n",
       "  </thead>\n",
       "  <tbody>\n",
       "    <tr>\n",
       "      <th id=\"T_6905e_level0_row0\" class=\"row_heading level0 row0\" >2Y</th>\n",
       "      <td id=\"T_6905e_row0_col0\" class=\"data row0 col0\" >1.0</td>\n",
       "      <td id=\"T_6905e_row0_col1\" class=\"data row0 col1\" >0.0</td>\n",
       "      <td id=\"T_6905e_row0_col2\" class=\"data row0 col2\" >0.0</td>\n",
       "      <td id=\"T_6905e_row0_col3\" class=\"data row0 col3\" >0.0</td>\n",
       "      <td id=\"T_6905e_row0_col4\" class=\"data row0 col4\" >0.4</td>\n",
       "      <td id=\"T_6905e_row0_col5\" class=\"data row0 col5\" >-0.0</td>\n",
       "    </tr>\n",
       "    <tr>\n",
       "      <th id=\"T_6905e_level0_row1\" class=\"row_heading level0 row1\" >5Y</th>\n",
       "      <td id=\"T_6905e_row1_col0\" class=\"data row1 col0\" >0.0</td>\n",
       "      <td id=\"T_6905e_row1_col1\" class=\"data row1 col1\" >1.0</td>\n",
       "      <td id=\"T_6905e_row1_col2\" class=\"data row1 col2\" >0.0</td>\n",
       "      <td id=\"T_6905e_row1_col3\" class=\"data row1 col3\" >0.0</td>\n",
       "      <td id=\"T_6905e_row1_col4\" class=\"data row1 col4\" >0.5</td>\n",
       "      <td id=\"T_6905e_row1_col5\" class=\"data row1 col5\" >-0.0</td>\n",
       "    </tr>\n",
       "    <tr>\n",
       "      <th id=\"T_6905e_level0_row2\" class=\"row_heading level0 row2\" >10Y</th>\n",
       "      <td id=\"T_6905e_row2_col0\" class=\"data row2 col0\" >0.0</td>\n",
       "      <td id=\"T_6905e_row2_col1\" class=\"data row2 col1\" >0.0</td>\n",
       "      <td id=\"T_6905e_row2_col2\" class=\"data row2 col2\" >1.0</td>\n",
       "      <td id=\"T_6905e_row2_col3\" class=\"data row2 col3\" >0.0</td>\n",
       "      <td id=\"T_6905e_row2_col4\" class=\"data row2 col4\" >0.5</td>\n",
       "      <td id=\"T_6905e_row2_col5\" class=\"data row2 col5\" >-43,073.1</td>\n",
       "    </tr>\n",
       "    <tr>\n",
       "      <th id=\"T_6905e_level0_row3\" class=\"row_heading level0 row3\" >30Y</th>\n",
       "      <td id=\"T_6905e_row3_col0\" class=\"data row3 col0\" >0.0</td>\n",
       "      <td id=\"T_6905e_row3_col1\" class=\"data row3 col1\" >0.0</td>\n",
       "      <td id=\"T_6905e_row3_col2\" class=\"data row3 col2\" >0.0</td>\n",
       "      <td id=\"T_6905e_row3_col3\" class=\"data row3 col3\" >1.0</td>\n",
       "      <td id=\"T_6905e_row3_col4\" class=\"data row3 col4\" >0.6</td>\n",
       "      <td id=\"T_6905e_row3_col5\" class=\"data row3 col5\" >0.0</td>\n",
       "    </tr>\n",
       "    <tr>\n",
       "      <th id=\"T_6905e_level0_row4\" class=\"row_heading level0 row4\" >2s5s</th>\n",
       "      <td id=\"T_6905e_row4_col0\" class=\"data row4 col0\" >-1.0</td>\n",
       "      <td id=\"T_6905e_row4_col1\" class=\"data row4 col1\" >1.0</td>\n",
       "      <td id=\"T_6905e_row4_col2\" class=\"data row4 col2\" >0.0</td>\n",
       "      <td id=\"T_6905e_row4_col3\" class=\"data row4 col3\" >0.0</td>\n",
       "      <td id=\"T_6905e_row4_col4\" class=\"data row4 col4\" >0.2</td>\n",
       "      <td id=\"T_6905e_row4_col5\" class=\"data row4 col5\" >-0.0</td>\n",
       "    </tr>\n",
       "    <tr>\n",
       "      <th id=\"T_6905e_level0_row5\" class=\"row_heading level0 row5\" >2s10s</th>\n",
       "      <td id=\"T_6905e_row5_col0\" class=\"data row5 col0\" >-1.0</td>\n",
       "      <td id=\"T_6905e_row5_col1\" class=\"data row5 col1\" >0.0</td>\n",
       "      <td id=\"T_6905e_row5_col2\" class=\"data row5 col2\" >1.0</td>\n",
       "      <td id=\"T_6905e_row5_col3\" class=\"data row5 col3\" >0.0</td>\n",
       "      <td id=\"T_6905e_row5_col4\" class=\"data row5 col4\" >0.5</td>\n",
       "      <td id=\"T_6905e_row5_col5\" class=\"data row5 col5\" >-22.5</td>\n",
       "    </tr>\n",
       "    <tr>\n",
       "      <th id=\"T_6905e_level0_row6\" class=\"row_heading level0 row6\" >2s30s</th>\n",
       "      <td id=\"T_6905e_row6_col0\" class=\"data row6 col0\" >-1.0</td>\n",
       "      <td id=\"T_6905e_row6_col1\" class=\"data row6 col1\" >0.0</td>\n",
       "      <td id=\"T_6905e_row6_col2\" class=\"data row6 col2\" >0.0</td>\n",
       "      <td id=\"T_6905e_row6_col3\" class=\"data row6 col3\" >1.0</td>\n",
       "      <td id=\"T_6905e_row6_col4\" class=\"data row6 col4\" >0.8</td>\n",
       "      <td id=\"T_6905e_row6_col5\" class=\"data row6 col5\" >-0.0</td>\n",
       "    </tr>\n",
       "    <tr>\n",
       "      <th id=\"T_6905e_level0_row7\" class=\"row_heading level0 row7\" >5s10s</th>\n",
       "      <td id=\"T_6905e_row7_col0\" class=\"data row7 col0\" >0.0</td>\n",
       "      <td id=\"T_6905e_row7_col1\" class=\"data row7 col1\" >-1.0</td>\n",
       "      <td id=\"T_6905e_row7_col2\" class=\"data row7 col2\" >1.0</td>\n",
       "      <td id=\"T_6905e_row7_col3\" class=\"data row7 col3\" >0.0</td>\n",
       "      <td id=\"T_6905e_row7_col4\" class=\"data row7 col4\" >0.2</td>\n",
       "      <td id=\"T_6905e_row7_col5\" class=\"data row7 col5\" >-47,433.4</td>\n",
       "    </tr>\n",
       "    <tr>\n",
       "      <th id=\"T_6905e_level0_row8\" class=\"row_heading level0 row8\" >5s30s</th>\n",
       "      <td id=\"T_6905e_row8_col0\" class=\"data row8 col0\" >0.0</td>\n",
       "      <td id=\"T_6905e_row8_col1\" class=\"data row8 col1\" >-1.0</td>\n",
       "      <td id=\"T_6905e_row8_col2\" class=\"data row8 col2\" >0.0</td>\n",
       "      <td id=\"T_6905e_row8_col3\" class=\"data row8 col3\" >1.0</td>\n",
       "      <td id=\"T_6905e_row8_col4\" class=\"data row8 col4\" >0.7</td>\n",
       "      <td id=\"T_6905e_row8_col5\" class=\"data row8 col5\" >-0.0</td>\n",
       "    </tr>\n",
       "    <tr>\n",
       "      <th id=\"T_6905e_level0_row9\" class=\"row_heading level0 row9\" >10s30s</th>\n",
       "      <td id=\"T_6905e_row9_col0\" class=\"data row9 col0\" >0.0</td>\n",
       "      <td id=\"T_6905e_row9_col1\" class=\"data row9 col1\" >0.0</td>\n",
       "      <td id=\"T_6905e_row9_col2\" class=\"data row9 col2\" >-1.0</td>\n",
       "      <td id=\"T_6905e_row9_col3\" class=\"data row9 col3\" >1.0</td>\n",
       "      <td id=\"T_6905e_row9_col4\" class=\"data row9 col4\" >0.6</td>\n",
       "      <td id=\"T_6905e_row9_col5\" class=\"data row9 col5\" >-0.0</td>\n",
       "    </tr>\n",
       "    <tr>\n",
       "      <th id=\"T_6905e_level0_row10\" class=\"row_heading level0 row10\" >2s5s10s</th>\n",
       "      <td id=\"T_6905e_row10_col0\" class=\"data row10 col0\" >-1.0</td>\n",
       "      <td id=\"T_6905e_row10_col1\" class=\"data row10 col1\" >2.0</td>\n",
       "      <td id=\"T_6905e_row10_col2\" class=\"data row10 col2\" >-1.0</td>\n",
       "      <td id=\"T_6905e_row10_col3\" class=\"data row10 col3\" >0.0</td>\n",
       "      <td id=\"T_6905e_row10_col4\" class=\"data row10 col4\" >0.5</td>\n",
       "      <td id=\"T_6905e_row10_col5\" class=\"data row10 col5\" >-0.0</td>\n",
       "    </tr>\n",
       "    <tr>\n",
       "      <th id=\"T_6905e_level0_row11\" class=\"row_heading level0 row11\" >5s10s30s</th>\n",
       "      <td id=\"T_6905e_row11_col0\" class=\"data row11 col0\" >0.0</td>\n",
       "      <td id=\"T_6905e_row11_col1\" class=\"data row11 col1\" >-1.0</td>\n",
       "      <td id=\"T_6905e_row11_col2\" class=\"data row11 col2\" >2.0</td>\n",
       "      <td id=\"T_6905e_row11_col3\" class=\"data row11 col3\" >-1.0</td>\n",
       "      <td id=\"T_6905e_row11_col4\" class=\"data row11 col4\" >0.6</td>\n",
       "      <td id=\"T_6905e_row11_col5\" class=\"data row11 col5\" >0.0</td>\n",
       "    </tr>\n",
       "  </tbody>\n",
       "</table>\n"
      ]
     },
     "execution_count": 6,
     "metadata": {},
     "output_type": "execute_result"
    }
   ],
   "execution_count": 6
  },
  {
   "cell_type": "markdown",
   "id": "3d97e593-4cbb-49ba-a265-bbe056a471f0",
   "metadata": {},
   "source": [
    "The solution to this linear program is the above 'x' column and the calculated margin for these instruments is, below, which equates to a margin, from mid, of 0.78bps on the delta of the underlying 5Y5Y IRS."
   ]
  },
  {
   "cell_type": "code",
   "id": "9a04fed6-14e1-4813-b163-f9af2f38340d",
   "metadata": {
    "ExecuteTime": {
     "end_time": "2025-04-26T17:26:30.978848Z",
     "start_time": "2025-04-26T17:26:30.974738Z"
    }
   },
   "source": [
    "ret[0]"
   ],
   "outputs": [
    {
     "data": {
      "text/plain": [
       "33405.03110638657"
      ]
     },
     "execution_count": 7,
     "metadata": {},
     "output_type": "execute_result"
    }
   ],
   "execution_count": 7
  },
  {
   "cell_type": "markdown",
   "id": "4f174c8a-cec3-4ecf-b829-63c9b54159b8",
   "metadata": {},
   "source": [
    "### Volume\n",
    "\n",
    "To account for the fact that our model is volume agnostic we will assume an additional hedge cost of:\n",
    "\n",
    "$$ \\frac{2}{3000} * \\sqrt{x_i} * x_i $$"
   ]
  },
  {
   "cell_type": "code",
   "id": "259713ea-f9bf-43c7-8e28-e8c80dffc963",
   "metadata": {
    "ExecuteTime": {
     "end_time": "2025-04-26T17:26:30.994433Z",
     "start_time": "2025-04-26T17:26:30.987080Z"
    }
   },
   "source": [
    "df[\"basic margin\"] = df[\"margin\"] * np.abs(df[\"x\"])\n",
    "df[\"volume add on\"] = 2/3000 * np.abs(df[\"x\"])**1.5\n",
    "df.style.format(\"{:,.1f}\")"
   ],
   "outputs": [
    {
     "data": {
      "text/plain": [
       "<pandas.io.formats.style.Styler at 0x1702b1aa360>"
      ],
      "text/html": [
       "<style type=\"text/css\">\n",
       "</style>\n",
       "<table id=\"T_79e5a\">\n",
       "  <thead>\n",
       "    <tr>\n",
       "      <th class=\"blank level0\" >&nbsp;</th>\n",
       "      <th id=\"T_79e5a_level0_col0\" class=\"col_heading level0 col0\" >2Y</th>\n",
       "      <th id=\"T_79e5a_level0_col1\" class=\"col_heading level0 col1\" >5Y</th>\n",
       "      <th id=\"T_79e5a_level0_col2\" class=\"col_heading level0 col2\" >10Y</th>\n",
       "      <th id=\"T_79e5a_level0_col3\" class=\"col_heading level0 col3\" >30Y</th>\n",
       "      <th id=\"T_79e5a_level0_col4\" class=\"col_heading level0 col4\" >margin</th>\n",
       "      <th id=\"T_79e5a_level0_col5\" class=\"col_heading level0 col5\" >x</th>\n",
       "      <th id=\"T_79e5a_level0_col6\" class=\"col_heading level0 col6\" >basic margin</th>\n",
       "      <th id=\"T_79e5a_level0_col7\" class=\"col_heading level0 col7\" >volume add on</th>\n",
       "    </tr>\n",
       "  </thead>\n",
       "  <tbody>\n",
       "    <tr>\n",
       "      <th id=\"T_79e5a_level0_row0\" class=\"row_heading level0 row0\" >2Y</th>\n",
       "      <td id=\"T_79e5a_row0_col0\" class=\"data row0 col0\" >1.0</td>\n",
       "      <td id=\"T_79e5a_row0_col1\" class=\"data row0 col1\" >0.0</td>\n",
       "      <td id=\"T_79e5a_row0_col2\" class=\"data row0 col2\" >0.0</td>\n",
       "      <td id=\"T_79e5a_row0_col3\" class=\"data row0 col3\" >0.0</td>\n",
       "      <td id=\"T_79e5a_row0_col4\" class=\"data row0 col4\" >0.4</td>\n",
       "      <td id=\"T_79e5a_row0_col5\" class=\"data row0 col5\" >-0.0</td>\n",
       "      <td id=\"T_79e5a_row0_col6\" class=\"data row0 col6\" >0.0</td>\n",
       "      <td id=\"T_79e5a_row0_col7\" class=\"data row0 col7\" >0.0</td>\n",
       "    </tr>\n",
       "    <tr>\n",
       "      <th id=\"T_79e5a_level0_row1\" class=\"row_heading level0 row1\" >5Y</th>\n",
       "      <td id=\"T_79e5a_row1_col0\" class=\"data row1 col0\" >0.0</td>\n",
       "      <td id=\"T_79e5a_row1_col1\" class=\"data row1 col1\" >1.0</td>\n",
       "      <td id=\"T_79e5a_row1_col2\" class=\"data row1 col2\" >0.0</td>\n",
       "      <td id=\"T_79e5a_row1_col3\" class=\"data row1 col3\" >0.0</td>\n",
       "      <td id=\"T_79e5a_row1_col4\" class=\"data row1 col4\" >0.5</td>\n",
       "      <td id=\"T_79e5a_row1_col5\" class=\"data row1 col5\" >-0.0</td>\n",
       "      <td id=\"T_79e5a_row1_col6\" class=\"data row1 col6\" >0.0</td>\n",
       "      <td id=\"T_79e5a_row1_col7\" class=\"data row1 col7\" >0.0</td>\n",
       "    </tr>\n",
       "    <tr>\n",
       "      <th id=\"T_79e5a_level0_row2\" class=\"row_heading level0 row2\" >10Y</th>\n",
       "      <td id=\"T_79e5a_row2_col0\" class=\"data row2 col0\" >0.0</td>\n",
       "      <td id=\"T_79e5a_row2_col1\" class=\"data row2 col1\" >0.0</td>\n",
       "      <td id=\"T_79e5a_row2_col2\" class=\"data row2 col2\" >1.0</td>\n",
       "      <td id=\"T_79e5a_row2_col3\" class=\"data row2 col3\" >0.0</td>\n",
       "      <td id=\"T_79e5a_row2_col4\" class=\"data row2 col4\" >0.5</td>\n",
       "      <td id=\"T_79e5a_row2_col5\" class=\"data row2 col5\" >-43,073.1</td>\n",
       "      <td id=\"T_79e5a_row2_col6\" class=\"data row2 col6\" >21,536.5</td>\n",
       "      <td id=\"T_79e5a_row2_col7\" class=\"data row2 col7\" >5,959.6</td>\n",
       "    </tr>\n",
       "    <tr>\n",
       "      <th id=\"T_79e5a_level0_row3\" class=\"row_heading level0 row3\" >30Y</th>\n",
       "      <td id=\"T_79e5a_row3_col0\" class=\"data row3 col0\" >0.0</td>\n",
       "      <td id=\"T_79e5a_row3_col1\" class=\"data row3 col1\" >0.0</td>\n",
       "      <td id=\"T_79e5a_row3_col2\" class=\"data row3 col2\" >0.0</td>\n",
       "      <td id=\"T_79e5a_row3_col3\" class=\"data row3 col3\" >1.0</td>\n",
       "      <td id=\"T_79e5a_row3_col4\" class=\"data row3 col4\" >0.6</td>\n",
       "      <td id=\"T_79e5a_row3_col5\" class=\"data row3 col5\" >0.0</td>\n",
       "      <td id=\"T_79e5a_row3_col6\" class=\"data row3 col6\" >0.0</td>\n",
       "      <td id=\"T_79e5a_row3_col7\" class=\"data row3 col7\" >0.0</td>\n",
       "    </tr>\n",
       "    <tr>\n",
       "      <th id=\"T_79e5a_level0_row4\" class=\"row_heading level0 row4\" >2s5s</th>\n",
       "      <td id=\"T_79e5a_row4_col0\" class=\"data row4 col0\" >-1.0</td>\n",
       "      <td id=\"T_79e5a_row4_col1\" class=\"data row4 col1\" >1.0</td>\n",
       "      <td id=\"T_79e5a_row4_col2\" class=\"data row4 col2\" >0.0</td>\n",
       "      <td id=\"T_79e5a_row4_col3\" class=\"data row4 col3\" >0.0</td>\n",
       "      <td id=\"T_79e5a_row4_col4\" class=\"data row4 col4\" >0.2</td>\n",
       "      <td id=\"T_79e5a_row4_col5\" class=\"data row4 col5\" >-0.0</td>\n",
       "      <td id=\"T_79e5a_row4_col6\" class=\"data row4 col6\" >0.0</td>\n",
       "      <td id=\"T_79e5a_row4_col7\" class=\"data row4 col7\" >0.0</td>\n",
       "    </tr>\n",
       "    <tr>\n",
       "      <th id=\"T_79e5a_level0_row5\" class=\"row_heading level0 row5\" >2s10s</th>\n",
       "      <td id=\"T_79e5a_row5_col0\" class=\"data row5 col0\" >-1.0</td>\n",
       "      <td id=\"T_79e5a_row5_col1\" class=\"data row5 col1\" >0.0</td>\n",
       "      <td id=\"T_79e5a_row5_col2\" class=\"data row5 col2\" >1.0</td>\n",
       "      <td id=\"T_79e5a_row5_col3\" class=\"data row5 col3\" >0.0</td>\n",
       "      <td id=\"T_79e5a_row5_col4\" class=\"data row5 col4\" >0.5</td>\n",
       "      <td id=\"T_79e5a_row5_col5\" class=\"data row5 col5\" >-22.5</td>\n",
       "      <td id=\"T_79e5a_row5_col6\" class=\"data row5 col6\" >10.1</td>\n",
       "      <td id=\"T_79e5a_row5_col7\" class=\"data row5 col7\" >0.1</td>\n",
       "    </tr>\n",
       "    <tr>\n",
       "      <th id=\"T_79e5a_level0_row6\" class=\"row_heading level0 row6\" >2s30s</th>\n",
       "      <td id=\"T_79e5a_row6_col0\" class=\"data row6 col0\" >-1.0</td>\n",
       "      <td id=\"T_79e5a_row6_col1\" class=\"data row6 col1\" >0.0</td>\n",
       "      <td id=\"T_79e5a_row6_col2\" class=\"data row6 col2\" >0.0</td>\n",
       "      <td id=\"T_79e5a_row6_col3\" class=\"data row6 col3\" >1.0</td>\n",
       "      <td id=\"T_79e5a_row6_col4\" class=\"data row6 col4\" >0.8</td>\n",
       "      <td id=\"T_79e5a_row6_col5\" class=\"data row6 col5\" >-0.0</td>\n",
       "      <td id=\"T_79e5a_row6_col6\" class=\"data row6 col6\" >0.0</td>\n",
       "      <td id=\"T_79e5a_row6_col7\" class=\"data row6 col7\" >0.0</td>\n",
       "    </tr>\n",
       "    <tr>\n",
       "      <th id=\"T_79e5a_level0_row7\" class=\"row_heading level0 row7\" >5s10s</th>\n",
       "      <td id=\"T_79e5a_row7_col0\" class=\"data row7 col0\" >0.0</td>\n",
       "      <td id=\"T_79e5a_row7_col1\" class=\"data row7 col1\" >-1.0</td>\n",
       "      <td id=\"T_79e5a_row7_col2\" class=\"data row7 col2\" >1.0</td>\n",
       "      <td id=\"T_79e5a_row7_col3\" class=\"data row7 col3\" >0.0</td>\n",
       "      <td id=\"T_79e5a_row7_col4\" class=\"data row7 col4\" >0.2</td>\n",
       "      <td id=\"T_79e5a_row7_col5\" class=\"data row7 col5\" >-47,433.4</td>\n",
       "      <td id=\"T_79e5a_row7_col6\" class=\"data row7 col6\" >11,858.4</td>\n",
       "      <td id=\"T_79e5a_row7_col7\" class=\"data row7 col7\" >6,887.1</td>\n",
       "    </tr>\n",
       "    <tr>\n",
       "      <th id=\"T_79e5a_level0_row8\" class=\"row_heading level0 row8\" >5s30s</th>\n",
       "      <td id=\"T_79e5a_row8_col0\" class=\"data row8 col0\" >0.0</td>\n",
       "      <td id=\"T_79e5a_row8_col1\" class=\"data row8 col1\" >-1.0</td>\n",
       "      <td id=\"T_79e5a_row8_col2\" class=\"data row8 col2\" >0.0</td>\n",
       "      <td id=\"T_79e5a_row8_col3\" class=\"data row8 col3\" >1.0</td>\n",
       "      <td id=\"T_79e5a_row8_col4\" class=\"data row8 col4\" >0.7</td>\n",
       "      <td id=\"T_79e5a_row8_col5\" class=\"data row8 col5\" >-0.0</td>\n",
       "      <td id=\"T_79e5a_row8_col6\" class=\"data row8 col6\" >0.0</td>\n",
       "      <td id=\"T_79e5a_row8_col7\" class=\"data row8 col7\" >0.0</td>\n",
       "    </tr>\n",
       "    <tr>\n",
       "      <th id=\"T_79e5a_level0_row9\" class=\"row_heading level0 row9\" >10s30s</th>\n",
       "      <td id=\"T_79e5a_row9_col0\" class=\"data row9 col0\" >0.0</td>\n",
       "      <td id=\"T_79e5a_row9_col1\" class=\"data row9 col1\" >0.0</td>\n",
       "      <td id=\"T_79e5a_row9_col2\" class=\"data row9 col2\" >-1.0</td>\n",
       "      <td id=\"T_79e5a_row9_col3\" class=\"data row9 col3\" >1.0</td>\n",
       "      <td id=\"T_79e5a_row9_col4\" class=\"data row9 col4\" >0.6</td>\n",
       "      <td id=\"T_79e5a_row9_col5\" class=\"data row9 col5\" >-0.0</td>\n",
       "      <td id=\"T_79e5a_row9_col6\" class=\"data row9 col6\" >0.0</td>\n",
       "      <td id=\"T_79e5a_row9_col7\" class=\"data row9 col7\" >0.0</td>\n",
       "    </tr>\n",
       "    <tr>\n",
       "      <th id=\"T_79e5a_level0_row10\" class=\"row_heading level0 row10\" >2s5s10s</th>\n",
       "      <td id=\"T_79e5a_row10_col0\" class=\"data row10 col0\" >-1.0</td>\n",
       "      <td id=\"T_79e5a_row10_col1\" class=\"data row10 col1\" >2.0</td>\n",
       "      <td id=\"T_79e5a_row10_col2\" class=\"data row10 col2\" >-1.0</td>\n",
       "      <td id=\"T_79e5a_row10_col3\" class=\"data row10 col3\" >0.0</td>\n",
       "      <td id=\"T_79e5a_row10_col4\" class=\"data row10 col4\" >0.5</td>\n",
       "      <td id=\"T_79e5a_row10_col5\" class=\"data row10 col5\" >-0.0</td>\n",
       "      <td id=\"T_79e5a_row10_col6\" class=\"data row10 col6\" >0.0</td>\n",
       "      <td id=\"T_79e5a_row10_col7\" class=\"data row10 col7\" >0.0</td>\n",
       "    </tr>\n",
       "    <tr>\n",
       "      <th id=\"T_79e5a_level0_row11\" class=\"row_heading level0 row11\" >5s10s30s</th>\n",
       "      <td id=\"T_79e5a_row11_col0\" class=\"data row11 col0\" >0.0</td>\n",
       "      <td id=\"T_79e5a_row11_col1\" class=\"data row11 col1\" >-1.0</td>\n",
       "      <td id=\"T_79e5a_row11_col2\" class=\"data row11 col2\" >2.0</td>\n",
       "      <td id=\"T_79e5a_row11_col3\" class=\"data row11 col3\" >-1.0</td>\n",
       "      <td id=\"T_79e5a_row11_col4\" class=\"data row11 col4\" >0.6</td>\n",
       "      <td id=\"T_79e5a_row11_col5\" class=\"data row11 col5\" >0.0</td>\n",
       "      <td id=\"T_79e5a_row11_col6\" class=\"data row11 col6\" >0.0</td>\n",
       "      <td id=\"T_79e5a_row11_col7\" class=\"data row11 col7\" >0.0</td>\n",
       "    </tr>\n",
       "  </tbody>\n",
       "</table>\n"
      ]
     },
     "execution_count": 8,
     "metadata": {},
     "output_type": "execute_result"
    }
   ],
   "execution_count": 8
  },
  {
   "cell_type": "markdown",
   "id": "cb9e7203-a070-40e5-a0b1-9ed3b4b5c3f6",
   "metadata": {},
   "source": [
    "### Correlation of identified market hedges\n",
    "\n",
    "The hedges that our model has identified will be assessed to see if they are correlated and if we need to charge extra."
   ]
  },
  {
   "cell_type": "code",
   "id": "ca2df3e6-df94-4c12-b248-281ff575da29",
   "metadata": {
    "ExecuteTime": {
     "end_time": "2025-04-26T17:26:31.042133Z",
     "start_time": "2025-04-26T17:26:31.037073Z"
    }
   },
   "source": [
    "historical_rates = pd.DataFrame({\n",
    "    \"2Y\": [1.199, 1.228, 1.210, 1.215, 1.203, 1.159, 1.175, 1.188, 1.159, 1.100],\n",
    "    \"5Y\": [1.663, 1.696, 1.665, 1.680, 1.677, 1.657, 1.673, 1.676, 1.653, 1.600],\n",
    "    \"10Y\": [1.928, 1.945, 1.934, 1.93, 1.934, 1.931, 1.958, 1.972, 1.932, 1.900],\n",
    "    \"30Y\": [2.201, 2.217, 2.228, 2.239, 2.226, 2.235, 2.242, 2.236, 2.22, 2.200],\n",
    "})\n",
    "historical_chgs = historical_rates.diff(-1)*100\n",
    "historical_chgs.style.format(\"{:,.1f}\")\n",
    "Q = historical_chgs.cov().to_numpy()\n",
    "Q"
   ],
   "outputs": [
    {
     "data": {
      "text/plain": [
       "array([[8.66      , 7.3775    , 5.13625   , 2.185     ],\n",
       "       [7.3775    , 7.3075    , 4.73      , 2.1575    ],\n",
       "       [5.13625   , 4.73      , 4.89111111, 1.76236111],\n",
       "       [2.185     , 2.1575    , 1.76236111, 1.86111111]])"
      ]
     },
     "execution_count": 9,
     "metadata": {},
     "output_type": "execute_result"
    }
   ],
   "execution_count": 9
  },
  {
   "cell_type": "code",
   "id": "8c88a62a-fb62-4771-9d97-95226adcc755",
   "metadata": {
    "ExecuteTime": {
     "end_time": "2025-04-26T17:26:31.198682Z",
     "start_time": "2025-04-26T17:26:31.188686Z"
    }
   },
   "source": [
    "Q_model = np.matmul(np.matmul(A.T, Q), A)\n",
    "df2 = pd.DataFrame(Q_model, index=df.index, columns=df.index)\n",
    "df2.style.format(\"{:,.2f}\")"
   ],
   "outputs": [
    {
     "data": {
      "text/plain": [
       "<pandas.io.formats.style.Styler at 0x17077481970>"
      ],
      "text/html": [
       "<style type=\"text/css\">\n",
       "</style>\n",
       "<table id=\"T_deecc\">\n",
       "  <thead>\n",
       "    <tr>\n",
       "      <th class=\"blank level0\" >&nbsp;</th>\n",
       "      <th id=\"T_deecc_level0_col0\" class=\"col_heading level0 col0\" >2Y</th>\n",
       "      <th id=\"T_deecc_level0_col1\" class=\"col_heading level0 col1\" >5Y</th>\n",
       "      <th id=\"T_deecc_level0_col2\" class=\"col_heading level0 col2\" >10Y</th>\n",
       "      <th id=\"T_deecc_level0_col3\" class=\"col_heading level0 col3\" >30Y</th>\n",
       "      <th id=\"T_deecc_level0_col4\" class=\"col_heading level0 col4\" >2s5s</th>\n",
       "      <th id=\"T_deecc_level0_col5\" class=\"col_heading level0 col5\" >2s10s</th>\n",
       "      <th id=\"T_deecc_level0_col6\" class=\"col_heading level0 col6\" >2s30s</th>\n",
       "      <th id=\"T_deecc_level0_col7\" class=\"col_heading level0 col7\" >5s10s</th>\n",
       "      <th id=\"T_deecc_level0_col8\" class=\"col_heading level0 col8\" >5s30s</th>\n",
       "      <th id=\"T_deecc_level0_col9\" class=\"col_heading level0 col9\" >10s30s</th>\n",
       "      <th id=\"T_deecc_level0_col10\" class=\"col_heading level0 col10\" >2s5s10s</th>\n",
       "      <th id=\"T_deecc_level0_col11\" class=\"col_heading level0 col11\" >5s10s30s</th>\n",
       "    </tr>\n",
       "  </thead>\n",
       "  <tbody>\n",
       "    <tr>\n",
       "      <th id=\"T_deecc_level0_row0\" class=\"row_heading level0 row0\" >2Y</th>\n",
       "      <td id=\"T_deecc_row0_col0\" class=\"data row0 col0\" >8.66</td>\n",
       "      <td id=\"T_deecc_row0_col1\" class=\"data row0 col1\" >7.38</td>\n",
       "      <td id=\"T_deecc_row0_col2\" class=\"data row0 col2\" >5.14</td>\n",
       "      <td id=\"T_deecc_row0_col3\" class=\"data row0 col3\" >2.19</td>\n",
       "      <td id=\"T_deecc_row0_col4\" class=\"data row0 col4\" >-1.28</td>\n",
       "      <td id=\"T_deecc_row0_col5\" class=\"data row0 col5\" >-3.52</td>\n",
       "      <td id=\"T_deecc_row0_col6\" class=\"data row0 col6\" >-6.47</td>\n",
       "      <td id=\"T_deecc_row0_col7\" class=\"data row0 col7\" >-2.24</td>\n",
       "      <td id=\"T_deecc_row0_col8\" class=\"data row0 col8\" >-5.19</td>\n",
       "      <td id=\"T_deecc_row0_col9\" class=\"data row0 col9\" >-2.95</td>\n",
       "      <td id=\"T_deecc_row0_col10\" class=\"data row0 col10\" >0.96</td>\n",
       "      <td id=\"T_deecc_row0_col11\" class=\"data row0 col11\" >0.71</td>\n",
       "    </tr>\n",
       "    <tr>\n",
       "      <th id=\"T_deecc_level0_row1\" class=\"row_heading level0 row1\" >5Y</th>\n",
       "      <td id=\"T_deecc_row1_col0\" class=\"data row1 col0\" >7.38</td>\n",
       "      <td id=\"T_deecc_row1_col1\" class=\"data row1 col1\" >7.31</td>\n",
       "      <td id=\"T_deecc_row1_col2\" class=\"data row1 col2\" >4.73</td>\n",
       "      <td id=\"T_deecc_row1_col3\" class=\"data row1 col3\" >2.16</td>\n",
       "      <td id=\"T_deecc_row1_col4\" class=\"data row1 col4\" >-0.07</td>\n",
       "      <td id=\"T_deecc_row1_col5\" class=\"data row1 col5\" >-2.65</td>\n",
       "      <td id=\"T_deecc_row1_col6\" class=\"data row1 col6\" >-5.22</td>\n",
       "      <td id=\"T_deecc_row1_col7\" class=\"data row1 col7\" >-2.58</td>\n",
       "      <td id=\"T_deecc_row1_col8\" class=\"data row1 col8\" >-5.15</td>\n",
       "      <td id=\"T_deecc_row1_col9\" class=\"data row1 col9\" >-2.57</td>\n",
       "      <td id=\"T_deecc_row1_col10\" class=\"data row1 col10\" >2.51</td>\n",
       "      <td id=\"T_deecc_row1_col11\" class=\"data row1 col11\" >-0.00</td>\n",
       "    </tr>\n",
       "    <tr>\n",
       "      <th id=\"T_deecc_level0_row2\" class=\"row_heading level0 row2\" >10Y</th>\n",
       "      <td id=\"T_deecc_row2_col0\" class=\"data row2 col0\" >5.14</td>\n",
       "      <td id=\"T_deecc_row2_col1\" class=\"data row2 col1\" >4.73</td>\n",
       "      <td id=\"T_deecc_row2_col2\" class=\"data row2 col2\" >4.89</td>\n",
       "      <td id=\"T_deecc_row2_col3\" class=\"data row2 col3\" >1.76</td>\n",
       "      <td id=\"T_deecc_row2_col4\" class=\"data row2 col4\" >-0.41</td>\n",
       "      <td id=\"T_deecc_row2_col5\" class=\"data row2 col5\" >-0.25</td>\n",
       "      <td id=\"T_deecc_row2_col6\" class=\"data row2 col6\" >-3.37</td>\n",
       "      <td id=\"T_deecc_row2_col7\" class=\"data row2 col7\" >0.16</td>\n",
       "      <td id=\"T_deecc_row2_col8\" class=\"data row2 col8\" >-2.97</td>\n",
       "      <td id=\"T_deecc_row2_col9\" class=\"data row2 col9\" >-3.13</td>\n",
       "      <td id=\"T_deecc_row2_col10\" class=\"data row2 col10\" >-0.57</td>\n",
       "      <td id=\"T_deecc_row2_col11\" class=\"data row2 col11\" >3.29</td>\n",
       "    </tr>\n",
       "    <tr>\n",
       "      <th id=\"T_deecc_level0_row3\" class=\"row_heading level0 row3\" >30Y</th>\n",
       "      <td id=\"T_deecc_row3_col0\" class=\"data row3 col0\" >2.19</td>\n",
       "      <td id=\"T_deecc_row3_col1\" class=\"data row3 col1\" >2.16</td>\n",
       "      <td id=\"T_deecc_row3_col2\" class=\"data row3 col2\" >1.76</td>\n",
       "      <td id=\"T_deecc_row3_col3\" class=\"data row3 col3\" >1.86</td>\n",
       "      <td id=\"T_deecc_row3_col4\" class=\"data row3 col4\" >-0.03</td>\n",
       "      <td id=\"T_deecc_row3_col5\" class=\"data row3 col5\" >-0.42</td>\n",
       "      <td id=\"T_deecc_row3_col6\" class=\"data row3 col6\" >-0.32</td>\n",
       "      <td id=\"T_deecc_row3_col7\" class=\"data row3 col7\" >-0.40</td>\n",
       "      <td id=\"T_deecc_row3_col8\" class=\"data row3 col8\" >-0.30</td>\n",
       "      <td id=\"T_deecc_row3_col9\" class=\"data row3 col9\" >0.10</td>\n",
       "      <td id=\"T_deecc_row3_col10\" class=\"data row3 col10\" >0.37</td>\n",
       "      <td id=\"T_deecc_row3_col11\" class=\"data row3 col11\" >-0.49</td>\n",
       "    </tr>\n",
       "    <tr>\n",
       "      <th id=\"T_deecc_level0_row4\" class=\"row_heading level0 row4\" >2s5s</th>\n",
       "      <td id=\"T_deecc_row4_col0\" class=\"data row4 col0\" >-1.28</td>\n",
       "      <td id=\"T_deecc_row4_col1\" class=\"data row4 col1\" >-0.07</td>\n",
       "      <td id=\"T_deecc_row4_col2\" class=\"data row4 col2\" >-0.41</td>\n",
       "      <td id=\"T_deecc_row4_col3\" class=\"data row4 col3\" >-0.03</td>\n",
       "      <td id=\"T_deecc_row4_col4\" class=\"data row4 col4\" >1.21</td>\n",
       "      <td id=\"T_deecc_row4_col5\" class=\"data row4 col5\" >0.88</td>\n",
       "      <td id=\"T_deecc_row4_col6\" class=\"data row4 col6\" >1.25</td>\n",
       "      <td id=\"T_deecc_row4_col7\" class=\"data row4 col7\" >-0.34</td>\n",
       "      <td id=\"T_deecc_row4_col8\" class=\"data row4 col8\" >0.04</td>\n",
       "      <td id=\"T_deecc_row4_col9\" class=\"data row4 col9\" >0.38</td>\n",
       "      <td id=\"T_deecc_row4_col10\" class=\"data row4 col10\" >1.55</td>\n",
       "      <td id=\"T_deecc_row4_col11\" class=\"data row4 col11\" >-0.71</td>\n",
       "    </tr>\n",
       "    <tr>\n",
       "      <th id=\"T_deecc_level0_row5\" class=\"row_heading level0 row5\" >2s10s</th>\n",
       "      <td id=\"T_deecc_row5_col0\" class=\"data row5 col0\" >-3.52</td>\n",
       "      <td id=\"T_deecc_row5_col1\" class=\"data row5 col1\" >-2.65</td>\n",
       "      <td id=\"T_deecc_row5_col2\" class=\"data row5 col2\" >-0.25</td>\n",
       "      <td id=\"T_deecc_row5_col3\" class=\"data row5 col3\" >-0.42</td>\n",
       "      <td id=\"T_deecc_row5_col4\" class=\"data row5 col4\" >0.88</td>\n",
       "      <td id=\"T_deecc_row5_col5\" class=\"data row5 col5\" >3.28</td>\n",
       "      <td id=\"T_deecc_row5_col6\" class=\"data row5 col6\" >3.10</td>\n",
       "      <td id=\"T_deecc_row5_col7\" class=\"data row5 col7\" >2.40</td>\n",
       "      <td id=\"T_deecc_row5_col8\" class=\"data row5 col8\" >2.22</td>\n",
       "      <td id=\"T_deecc_row5_col9\" class=\"data row5 col9\" >-0.18</td>\n",
       "      <td id=\"T_deecc_row5_col10\" class=\"data row5 col10\" >-1.53</td>\n",
       "      <td id=\"T_deecc_row5_col11\" class=\"data row5 col11\" >2.58</td>\n",
       "    </tr>\n",
       "    <tr>\n",
       "      <th id=\"T_deecc_level0_row6\" class=\"row_heading level0 row6\" >2s30s</th>\n",
       "      <td id=\"T_deecc_row6_col0\" class=\"data row6 col0\" >-6.47</td>\n",
       "      <td id=\"T_deecc_row6_col1\" class=\"data row6 col1\" >-5.22</td>\n",
       "      <td id=\"T_deecc_row6_col2\" class=\"data row6 col2\" >-3.37</td>\n",
       "      <td id=\"T_deecc_row6_col3\" class=\"data row6 col3\" >-0.32</td>\n",
       "      <td id=\"T_deecc_row6_col4\" class=\"data row6 col4\" >1.25</td>\n",
       "      <td id=\"T_deecc_row6_col5\" class=\"data row6 col5\" >3.10</td>\n",
       "      <td id=\"T_deecc_row6_col6\" class=\"data row6 col6\" >6.15</td>\n",
       "      <td id=\"T_deecc_row6_col7\" class=\"data row6 col7\" >1.85</td>\n",
       "      <td id=\"T_deecc_row6_col8\" class=\"data row6 col8\" >4.90</td>\n",
       "      <td id=\"T_deecc_row6_col9\" class=\"data row6 col9\" >3.05</td>\n",
       "      <td id=\"T_deecc_row6_col10\" class=\"data row6 col10\" >-0.59</td>\n",
       "      <td id=\"T_deecc_row6_col11\" class=\"data row6 col11\" >-1.20</td>\n",
       "    </tr>\n",
       "    <tr>\n",
       "      <th id=\"T_deecc_level0_row7\" class=\"row_heading level0 row7\" >5s10s</th>\n",
       "      <td id=\"T_deecc_row7_col0\" class=\"data row7 col0\" >-2.24</td>\n",
       "      <td id=\"T_deecc_row7_col1\" class=\"data row7 col1\" >-2.58</td>\n",
       "      <td id=\"T_deecc_row7_col2\" class=\"data row7 col2\" >0.16</td>\n",
       "      <td id=\"T_deecc_row7_col3\" class=\"data row7 col3\" >-0.40</td>\n",
       "      <td id=\"T_deecc_row7_col4\" class=\"data row7 col4\" >-0.34</td>\n",
       "      <td id=\"T_deecc_row7_col5\" class=\"data row7 col5\" >2.40</td>\n",
       "      <td id=\"T_deecc_row7_col6\" class=\"data row7 col6\" >1.85</td>\n",
       "      <td id=\"T_deecc_row7_col7\" class=\"data row7 col7\" >2.74</td>\n",
       "      <td id=\"T_deecc_row7_col8\" class=\"data row7 col8\" >2.18</td>\n",
       "      <td id=\"T_deecc_row7_col9\" class=\"data row7 col9\" >-0.56</td>\n",
       "      <td id=\"T_deecc_row7_col10\" class=\"data row7 col10\" >-3.07</td>\n",
       "      <td id=\"T_deecc_row7_col11\" class=\"data row7 col11\" >3.29</td>\n",
       "    </tr>\n",
       "    <tr>\n",
       "      <th id=\"T_deecc_level0_row8\" class=\"row_heading level0 row8\" >5s30s</th>\n",
       "      <td id=\"T_deecc_row8_col0\" class=\"data row8 col0\" >-5.19</td>\n",
       "      <td id=\"T_deecc_row8_col1\" class=\"data row8 col1\" >-5.15</td>\n",
       "      <td id=\"T_deecc_row8_col2\" class=\"data row8 col2\" >-2.97</td>\n",
       "      <td id=\"T_deecc_row8_col3\" class=\"data row8 col3\" >-0.30</td>\n",
       "      <td id=\"T_deecc_row8_col4\" class=\"data row8 col4\" >0.04</td>\n",
       "      <td id=\"T_deecc_row8_col5\" class=\"data row8 col5\" >2.22</td>\n",
       "      <td id=\"T_deecc_row8_col6\" class=\"data row8 col6\" >4.90</td>\n",
       "      <td id=\"T_deecc_row8_col7\" class=\"data row8 col7\" >2.18</td>\n",
       "      <td id=\"T_deecc_row8_col8\" class=\"data row8 col8\" >4.85</td>\n",
       "      <td id=\"T_deecc_row8_col9\" class=\"data row8 col9\" >2.67</td>\n",
       "      <td id=\"T_deecc_row8_col10\" class=\"data row8 col10\" >-2.14</td>\n",
       "      <td id=\"T_deecc_row8_col11\" class=\"data row8 col11\" >-0.49</td>\n",
       "    </tr>\n",
       "    <tr>\n",
       "      <th id=\"T_deecc_level0_row9\" class=\"row_heading level0 row9\" >10s30s</th>\n",
       "      <td id=\"T_deecc_row9_col0\" class=\"data row9 col0\" >-2.95</td>\n",
       "      <td id=\"T_deecc_row9_col1\" class=\"data row9 col1\" >-2.57</td>\n",
       "      <td id=\"T_deecc_row9_col2\" class=\"data row9 col2\" >-3.13</td>\n",
       "      <td id=\"T_deecc_row9_col3\" class=\"data row9 col3\" >0.10</td>\n",
       "      <td id=\"T_deecc_row9_col4\" class=\"data row9 col4\" >0.38</td>\n",
       "      <td id=\"T_deecc_row9_col5\" class=\"data row9 col5\" >-0.18</td>\n",
       "      <td id=\"T_deecc_row9_col6\" class=\"data row9 col6\" >3.05</td>\n",
       "      <td id=\"T_deecc_row9_col7\" class=\"data row9 col7\" >-0.56</td>\n",
       "      <td id=\"T_deecc_row9_col8\" class=\"data row9 col8\" >2.67</td>\n",
       "      <td id=\"T_deecc_row9_col9\" class=\"data row9 col9\" >3.23</td>\n",
       "      <td id=\"T_deecc_row9_col10\" class=\"data row9 col10\" >0.93</td>\n",
       "      <td id=\"T_deecc_row9_col11\" class=\"data row9 col11\" >-3.78</td>\n",
       "    </tr>\n",
       "    <tr>\n",
       "      <th id=\"T_deecc_level0_row10\" class=\"row_heading level0 row10\" >2s5s10s</th>\n",
       "      <td id=\"T_deecc_row10_col0\" class=\"data row10 col0\" >0.96</td>\n",
       "      <td id=\"T_deecc_row10_col1\" class=\"data row10 col1\" >2.51</td>\n",
       "      <td id=\"T_deecc_row10_col2\" class=\"data row10 col2\" >-0.57</td>\n",
       "      <td id=\"T_deecc_row10_col3\" class=\"data row10 col3\" >0.37</td>\n",
       "      <td id=\"T_deecc_row10_col4\" class=\"data row10 col4\" >1.55</td>\n",
       "      <td id=\"T_deecc_row10_col5\" class=\"data row10 col5\" >-1.53</td>\n",
       "      <td id=\"T_deecc_row10_col6\" class=\"data row10 col6\" >-0.59</td>\n",
       "      <td id=\"T_deecc_row10_col7\" class=\"data row10 col7\" >-3.07</td>\n",
       "      <td id=\"T_deecc_row10_col8\" class=\"data row10 col8\" >-2.14</td>\n",
       "      <td id=\"T_deecc_row10_col9\" class=\"data row10 col9\" >0.93</td>\n",
       "      <td id=\"T_deecc_row10_col10\" class=\"data row10 col10\" >4.62</td>\n",
       "      <td id=\"T_deecc_row10_col11\" class=\"data row10 col11\" >-4.01</td>\n",
       "    </tr>\n",
       "    <tr>\n",
       "      <th id=\"T_deecc_level0_row11\" class=\"row_heading level0 row11\" >5s10s30s</th>\n",
       "      <td id=\"T_deecc_row11_col0\" class=\"data row11 col0\" >0.71</td>\n",
       "      <td id=\"T_deecc_row11_col1\" class=\"data row11 col1\" >-0.00</td>\n",
       "      <td id=\"T_deecc_row11_col2\" class=\"data row11 col2\" >3.29</td>\n",
       "      <td id=\"T_deecc_row11_col3\" class=\"data row11 col3\" >-0.49</td>\n",
       "      <td id=\"T_deecc_row11_col4\" class=\"data row11 col4\" >-0.71</td>\n",
       "      <td id=\"T_deecc_row11_col5\" class=\"data row11 col5\" >2.58</td>\n",
       "      <td id=\"T_deecc_row11_col6\" class=\"data row11 col6\" >-1.20</td>\n",
       "      <td id=\"T_deecc_row11_col7\" class=\"data row11 col7\" >3.29</td>\n",
       "      <td id=\"T_deecc_row11_col8\" class=\"data row11 col8\" >-0.49</td>\n",
       "      <td id=\"T_deecc_row11_col9\" class=\"data row11 col9\" >-3.78</td>\n",
       "      <td id=\"T_deecc_row11_col10\" class=\"data row11 col10\" >-4.01</td>\n",
       "      <td id=\"T_deecc_row11_col11\" class=\"data row11 col11\" >7.08</td>\n",
       "    </tr>\n",
       "  </tbody>\n",
       "</table>\n"
      ]
     },
     "execution_count": 10,
     "metadata": {},
     "output_type": "execute_result"
    }
   ],
   "execution_count": 10
  },
  {
   "cell_type": "markdown",
   "id": "5ddf2372-e726-441f-a360-1c3fd2ddd0c7",
   "metadata": {},
   "source": [
    "#### CoVaR Multiplier\n",
    "The covar multiplier for the trade is:"
   ]
  },
  {
   "cell_type": "code",
   "id": "a2603da6-95d6-4323-8899-481e55007a2e",
   "metadata": {
    "ExecuteTime": {
     "end_time": "2025-04-26T17:26:31.292329Z",
     "start_time": "2025-04-26T17:26:31.288328Z"
    }
   },
   "source": [
    "covar = np.matmul(np.matmul(x.T, Q_model), x)[0][0] ** 0.5\n",
    "covar"
   ],
   "outputs": [
    {
     "data": {
      "text/plain": [
       "np.float64(126091.63847801813)"
      ]
     },
     "execution_count": 11,
     "metadata": {},
     "output_type": "execute_result"
    }
   ],
   "execution_count": 11
  },
  {
   "cell_type": "code",
   "id": "ebbe8cca-0d57-4c3d-8267-3b4901b52659",
   "metadata": {
    "ExecuteTime": {
     "end_time": "2025-04-26T17:26:31.377098Z",
     "start_time": "2025-04-26T17:26:31.372998Z"
    }
   },
   "source": [
    "covar_zerocorr = np.matmul(np.matmul(x.T, np.diag(np.diagonal(Q_model))), x)[0][0] ** 0.5\n",
    "covar_zerocorr"
   ],
   "outputs": [
    {
     "data": {
      "text/plain": [
       "np.float64(123434.62650447342)"
      ]
     },
     "execution_count": 12,
     "metadata": {},
     "output_type": "execute_result"
    }
   ],
   "execution_count": 12
  },
  {
   "cell_type": "markdown",
   "id": "1d0133ed-9394-4131-82a7-947560902a47",
   "metadata": {},
   "source": [
    "The covar multiplier for the trade assuming completely uncorrelated instruments is:"
   ]
  },
  {
   "cell_type": "markdown",
   "id": "eb1b6554-8b35-4735-a99f-0137e47e0204",
   "metadata": {},
   "source": [
    "The difference is quite small. We can observe from the covariance matrix that 10Y and 5s10s has low correlation."
   ]
  },
  {
   "cell_type": "markdown",
   "id": "1db79ac2-d419-475d-b3eb-7763e5f0f50c",
   "metadata": {},
   "source": [
    "### Liquidity Assessment\n",
    "\n",
    "Assume the bund future represents our market, we calculate the intrinsic bid-ask width from different order books representing different conditions."
   ]
  },
  {
   "cell_type": "code",
   "id": "ccee784d-7c42-476a-a263-8fe9d9319a4f",
   "metadata": {
    "ExecuteTime": {
     "end_time": "2025-04-26T17:26:31.479449Z",
     "start_time": "2025-04-26T17:26:31.404092Z"
    }
   },
   "source": [
    "b = np.array([169.70, 169.69, 169.68, 169.67, 169.66, 169.65])\n",
    "a = np.array([169.71, 169.72, 169.73, 169.74, 169.75, 169.76])\n",
    "w1 = np.array([36, 78, 86, 111, 121, 189])\n",
    "v1 = np.array([53, 88, 79, 102, 198, 213])\n",
    "w2 = np.array([112, 145, 165, 156, 198, 256])\n",
    "v2 = np.array([145, 189, 199, 212, 215, 278])\n",
    "\n",
    "import matplotlib.pyplot as plt\n",
    "from bookirds.mid_market import single_sided_ida\n",
    "\n",
    "z = np.linspace(1, 400, 400)\n",
    "\n",
    "fig, ax = plt.subplots(1,1)\n",
    "ax.plot(z, [single_sided_ida(a, v1, x) - single_sided_ida(b, w1, x) for x in z], label=\"lower\")\n",
    "ax.plot(z, [single_sided_ida(a, v2, x) - single_sided_ida(b, w2, x) for x in z], label=\"normal\")\n",
    "ax.legend()\n",
    "plt.show()"
   ],
   "outputs": [
    {
     "data": {
      "text/plain": [
       "<Figure size 640x480 with 1 Axes>"
      ],
      "image/png": "[encoded data removed]"
     },
     "metadata": {},
     "output_type": "display_data"
    }
   ],
   "execution_count": 13
  },
  {
   "cell_type": "markdown",
   "id": "071c4117-b854-4882-af18-7f50226106e2",
   "metadata": {},
   "source": [
    "### Total Margin\n",
    "\n",
    "Basic margin:"
   ]
  },
  {
   "cell_type": "code",
   "id": "d4d4ff21-fab1-4e23-a9c8-d856cc97c347",
   "metadata": {
    "ExecuteTime": {
     "end_time": "2025-04-26T17:26:31.496939Z",
     "start_time": "2025-04-26T17:26:31.492939Z"
    }
   },
   "source": [
    "f\"Ccy: {df['basic margin'].sum():,.0f}\""
   ],
   "outputs": [
    {
     "data": {
      "text/plain": [
       "'Ccy: 33,405'"
      ]
     },
     "execution_count": 14,
     "metadata": {},
     "output_type": "execute_result"
    }
   ],
   "execution_count": 14
  },
  {
   "cell_type": "markdown",
   "id": "b826362c-6a61-4ca3-95af-08ddfd61ecaf",
   "metadata": {},
   "source": [
    "Volume add-on adjusted for liquidity:"
   ]
  },
  {
   "cell_type": "code",
   "id": "8d005af9-5420-469d-a751-db9ccc010203",
   "metadata": {
    "ExecuteTime": {
     "end_time": "2025-04-26T17:26:31.512884Z",
     "start_time": "2025-04-26T17:26:31.508570Z"
    }
   },
   "source": [
    "f\"Ccy: {df['volume add on'].sum() * 2:,.0f}\""
   ],
   "outputs": [
    {
     "data": {
      "text/plain": [
       "'Ccy: 25,694'"
      ]
     },
     "execution_count": 15,
     "metadata": {},
     "output_type": "execute_result"
    }
   ],
   "execution_count": 15
  },
  {
   "cell_type": "markdown",
   "id": "ee8b41ba-b439-457e-adfa-683ae781fc79",
   "metadata": {},
   "source": [
    "Correlation add-on adjusted for liquidity:"
   ]
  },
  {
   "cell_type": "code",
   "id": "01261da0-97c5-435a-af9f-1633eed433ec",
   "metadata": {
    "ExecuteTime": {
     "end_time": "2025-04-26T17:26:31.528970Z",
     "start_time": "2025-04-26T17:26:31.524889Z"
    }
   },
   "source": [
    "f\"Ccy: {(covar - covar_zerocorr) * 2:,.0f}\""
   ],
   "outputs": [
    {
     "data": {
      "text/plain": [
       "'Ccy: 5,314'"
      ]
     },
     "execution_count": 16,
     "metadata": {},
     "output_type": "execute_result"
    }
   ],
   "execution_count": 16
  },
  {
   "cell_type": "markdown",
   "id": "912dcb68-46e4-40fb-ba25-83b0c3e3765b",
   "metadata": {},
   "source": [
    "Total Margin:"
   ]
  },
  {
   "cell_type": "code",
   "id": "38f6d234-3614-4a94-b2a2-a5c0ef538aff",
   "metadata": {
    "ExecuteTime": {
     "end_time": "2025-04-26T17:26:31.549004Z",
     "start_time": "2025-04-26T17:26:31.543619Z"
    }
   },
   "source": [
    "tm = df[\"basic margin\"].sum() + df[\"volume add on\"].sum() * 2 + (covar - covar_zerocorr) * 2\n",
    "f\"Ccy: {tm:,.0f}\""
   ],
   "outputs": [
    {
     "data": {
      "text/plain": [
       "'Ccy: 64,413'"
      ]
     },
     "execution_count": 17,
     "metadata": {},
     "output_type": "execute_result"
    }
   ],
   "execution_count": 17
  },
  {
   "cell_type": "markdown",
   "id": "5991022e-0ee3-43bf-b57c-794846dbe5bc",
   "metadata": {},
   "source": [
    "# Alternative Example\n",
    "\n",
    "Specify the risk and mid-market NPV of the requested trade."
   ]
  },
  {
   "cell_type": "code",
   "id": "4a877399-d546-4dce-82df-27fd3f5d8a2c",
   "metadata": {
    "ExecuteTime": {
     "end_time": "2025-04-26T17:26:31.570196Z",
     "start_time": "2025-04-26T17:26:31.563196Z"
    }
   },
   "source": [
    "portfolio = Portfolio([\n",
    "    Swap(datetime(2023,1,1), 12*4, 12, 12, notional=-100e6, fixed_rate=1.5),\n",
    "    Swap(datetime(2027,5,21), 12*9, 12, 12, notional=45e6, fixed_rate=2.0),\n",
    "    Swap(datetime(2028,9,16), 12*14, 12, 12, notional=21e6, fixed_rate=1.9)\n",
    "])\n",
    "portfolio.risk(s_cv)"
   ],
   "outputs": [
    {
     "data": {
      "text/plain": [
       "array([[  9985.19023984],\n",
       "       [-73154.59648459],\n",
       "       [ 28139.35620729],\n",
       "       [ 53482.80872486]])"
      ]
     },
     "execution_count": 18,
     "metadata": {},
     "output_type": "execute_result"
    }
   ],
   "execution_count": 18
  },
  {
   "cell_type": "code",
   "id": "5a13da4b-dd3f-45df-bca7-bca9d4e7884b",
   "metadata": {
    "ExecuteTime": {
     "end_time": "2025-04-26T17:26:31.684834Z",
     "start_time": "2025-04-26T17:26:31.678155Z"
    }
   },
   "source": [
    "f\"Ccy: {portfolio.npv(s_cv).real:,.0f}\""
   ],
   "outputs": [
    {
     "data": {
      "text/plain": [
       "'Ccy: -1,473,959'"
      ]
     },
     "execution_count": 19,
     "metadata": {},
     "output_type": "execute_result"
    }
   ],
   "execution_count": 19
  },
  {
   "cell_type": "markdown",
   "id": "60854309-6a33-44d9-9936-f1341d8bf074",
   "metadata": {},
   "source": [
    "Get the current market-maker risk inventory"
   ]
  },
  {
   "cell_type": "code",
   "id": "1bd4b2f0-1e9a-4522-9884-5284fb68d36b",
   "metadata": {
    "ExecuteTime": {
     "end_time": "2025-04-26T17:26:31.730473Z",
     "start_time": "2025-04-26T17:26:31.725463Z"
    }
   },
   "source": [
    "S_inv = np.array([[1000, 35000, -10000, -35000]]).transpose()\n",
    "x_inv = portfolio.model_margin(c, A, S_inv)[1][:, np.newaxis]"
   ],
   "outputs": [],
   "execution_count": 20
  },
  {
   "cell_type": "code",
   "id": "99d5a9c6-d13d-40c9-97b6-e752cf45d8eb",
   "metadata": {
    "ExecuteTime": {
     "end_time": "2025-04-26T17:26:31.796940Z",
     "start_time": "2025-04-26T17:26:31.782243Z"
    }
   },
   "source": [
    "ret = portfolio.model_margin(c, A, portfolio.risk(s_cv))\n",
    "df = pd.DataFrame({\n",
    "    \"2Y\": [1, 0, 0, 0, -1, -1, -1, 0, 0, 0, -1, 0],\n",
    "    \"5Y\": [0, 1, 0, 0, 1, 0, 0, -1, -1, 0, 2, -1],\n",
    "    \"10Y\": [0, 0, 1, 0, 0, 1, 0, 1, 0, -1, -1, 2],\n",
    "    \"30Y\": [0, 0, 0, 1, 0, 0, 1, 0, 1, 1, 0, -1],\n",
    "    \"margin\": [0.4, 0.5, 0.5, 0.6, 0.25, 0.45, 0.85, 0.25, 0.7, 0.55, 0.5, 0.6],\n",
    "}, index=[\"2Y\", \"5Y\", \"10Y\", \"30Y\", \"2s5s\", \"2s10s\", \"2s30s\", \"5s10s\", \"5s30s\", \"10s30s\", \"2s5s10s\", \"5s10s30s\"])\n",
    "df[\"x\"], x = ret[1], ret[1][:, np.newaxis]\n",
    "df[\"x_inv\"] = x_inv[:, 0]\n",
    "df[\"basic margin\"] = df[\"margin\"] * np.abs(df[\"x\"])\n",
    "df[\"volume add on\"] = 2/3000 * (np.abs((x_inv+x))**1.5 - np.abs(x_inv)**1.5)\n",
    "df.style.format(\"{:,.1f}\")"
   ],
   "outputs": [
    {
     "data": {
      "text/plain": [
       "<pandas.io.formats.style.Styler at 0x1702c384740>"
      ],
      "text/html": [
       "<style type=\"text/css\">\n",
       "</style>\n",
       "<table id=\"T_c7296\">\n",
       "  <thead>\n",
       "    <tr>\n",
       "      <th class=\"blank level0\" >&nbsp;</th>\n",
       "      <th id=\"T_c7296_level0_col0\" class=\"col_heading level0 col0\" >2Y</th>\n",
       "      <th id=\"T_c7296_level0_col1\" class=\"col_heading level0 col1\" >5Y</th>\n",
       "      <th id=\"T_c7296_level0_col2\" class=\"col_heading level0 col2\" >10Y</th>\n",
       "      <th id=\"T_c7296_level0_col3\" class=\"col_heading level0 col3\" >30Y</th>\n",
       "      <th id=\"T_c7296_level0_col4\" class=\"col_heading level0 col4\" >margin</th>\n",
       "      <th id=\"T_c7296_level0_col5\" class=\"col_heading level0 col5\" >x</th>\n",
       "      <th id=\"T_c7296_level0_col6\" class=\"col_heading level0 col6\" >x_inv</th>\n",
       "      <th id=\"T_c7296_level0_col7\" class=\"col_heading level0 col7\" >basic margin</th>\n",
       "      <th id=\"T_c7296_level0_col8\" class=\"col_heading level0 col8\" >volume add on</th>\n",
       "    </tr>\n",
       "  </thead>\n",
       "  <tbody>\n",
       "    <tr>\n",
       "      <th id=\"T_c7296_level0_row0\" class=\"row_heading level0 row0\" >2Y</th>\n",
       "      <td id=\"T_c7296_row0_col0\" class=\"data row0 col0\" >1.0</td>\n",
       "      <td id=\"T_c7296_row0_col1\" class=\"data row0 col1\" >0.0</td>\n",
       "      <td id=\"T_c7296_row0_col2\" class=\"data row0 col2\" >0.0</td>\n",
       "      <td id=\"T_c7296_row0_col3\" class=\"data row0 col3\" >0.0</td>\n",
       "      <td id=\"T_c7296_row0_col4\" class=\"data row0 col4\" >0.4</td>\n",
       "      <td id=\"T_c7296_row0_col5\" class=\"data row0 col5\" >-0.0</td>\n",
       "      <td id=\"T_c7296_row0_col6\" class=\"data row0 col6\" >-0.0</td>\n",
       "      <td id=\"T_c7296_row0_col7\" class=\"data row0 col7\" >0.0</td>\n",
       "      <td id=\"T_c7296_row0_col8\" class=\"data row0 col8\" >0.0</td>\n",
       "    </tr>\n",
       "    <tr>\n",
       "      <th id=\"T_c7296_level0_row1\" class=\"row_heading level0 row1\" >5Y</th>\n",
       "      <td id=\"T_c7296_row1_col0\" class=\"data row1 col0\" >0.0</td>\n",
       "      <td id=\"T_c7296_row1_col1\" class=\"data row1 col1\" >1.0</td>\n",
       "      <td id=\"T_c7296_row1_col2\" class=\"data row1 col2\" >0.0</td>\n",
       "      <td id=\"T_c7296_row1_col3\" class=\"data row1 col3\" >0.0</td>\n",
       "      <td id=\"T_c7296_row1_col4\" class=\"data row1 col4\" >0.5</td>\n",
       "      <td id=\"T_c7296_row1_col5\" class=\"data row1 col5\" >-0.0</td>\n",
       "      <td id=\"T_c7296_row1_col6\" class=\"data row1 col6\" >-0.0</td>\n",
       "      <td id=\"T_c7296_row1_col7\" class=\"data row1 col7\" >0.0</td>\n",
       "      <td id=\"T_c7296_row1_col8\" class=\"data row1 col8\" >0.0</td>\n",
       "    </tr>\n",
       "    <tr>\n",
       "      <th id=\"T_c7296_level0_row2\" class=\"row_heading level0 row2\" >10Y</th>\n",
       "      <td id=\"T_c7296_row2_col0\" class=\"data row2 col0\" >0.0</td>\n",
       "      <td id=\"T_c7296_row2_col1\" class=\"data row2 col1\" >0.0</td>\n",
       "      <td id=\"T_c7296_row2_col2\" class=\"data row2 col2\" >1.0</td>\n",
       "      <td id=\"T_c7296_row2_col3\" class=\"data row2 col3\" >0.0</td>\n",
       "      <td id=\"T_c7296_row2_col4\" class=\"data row2 col4\" >0.5</td>\n",
       "      <td id=\"T_c7296_row2_col5\" class=\"data row2 col5\" >-0.0</td>\n",
       "      <td id=\"T_c7296_row2_col6\" class=\"data row2 col6\" >-0.0</td>\n",
       "      <td id=\"T_c7296_row2_col7\" class=\"data row2 col7\" >0.0</td>\n",
       "      <td id=\"T_c7296_row2_col8\" class=\"data row2 col8\" >0.0</td>\n",
       "    </tr>\n",
       "    <tr>\n",
       "      <th id=\"T_c7296_level0_row3\" class=\"row_heading level0 row3\" >30Y</th>\n",
       "      <td id=\"T_c7296_row3_col0\" class=\"data row3 col0\" >0.0</td>\n",
       "      <td id=\"T_c7296_row3_col1\" class=\"data row3 col1\" >0.0</td>\n",
       "      <td id=\"T_c7296_row3_col2\" class=\"data row3 col2\" >0.0</td>\n",
       "      <td id=\"T_c7296_row3_col3\" class=\"data row3 col3\" >1.0</td>\n",
       "      <td id=\"T_c7296_row3_col4\" class=\"data row3 col4\" >0.6</td>\n",
       "      <td id=\"T_c7296_row3_col5\" class=\"data row3 col5\" >18,452.8</td>\n",
       "      <td id=\"T_c7296_row3_col6\" class=\"data row3 col6\" >-9,000.0</td>\n",
       "      <td id=\"T_c7296_row3_col7\" class=\"data row3 col7\" >11,071.7</td>\n",
       "      <td id=\"T_c7296_row3_col8\" class=\"data row3 col8\" >43.5</td>\n",
       "    </tr>\n",
       "    <tr>\n",
       "      <th id=\"T_c7296_level0_row4\" class=\"row_heading level0 row4\" >2s5s</th>\n",
       "      <td id=\"T_c7296_row4_col0\" class=\"data row4 col0\" >-1.0</td>\n",
       "      <td id=\"T_c7296_row4_col1\" class=\"data row4 col1\" >1.0</td>\n",
       "      <td id=\"T_c7296_row4_col2\" class=\"data row4 col2\" >0.0</td>\n",
       "      <td id=\"T_c7296_row4_col3\" class=\"data row4 col3\" >0.0</td>\n",
       "      <td id=\"T_c7296_row4_col4\" class=\"data row4 col4\" >0.2</td>\n",
       "      <td id=\"T_c7296_row4_col5\" class=\"data row4 col5\" >-0.0</td>\n",
       "      <td id=\"T_c7296_row4_col6\" class=\"data row4 col6\" >-0.0</td>\n",
       "      <td id=\"T_c7296_row4_col7\" class=\"data row4 col7\" >0.0</td>\n",
       "      <td id=\"T_c7296_row4_col8\" class=\"data row4 col8\" >0.0</td>\n",
       "    </tr>\n",
       "    <tr>\n",
       "      <th id=\"T_c7296_level0_row5\" class=\"row_heading level0 row5\" >2s10s</th>\n",
       "      <td id=\"T_c7296_row5_col0\" class=\"data row5 col0\" >-1.0</td>\n",
       "      <td id=\"T_c7296_row5_col1\" class=\"data row5 col1\" >0.0</td>\n",
       "      <td id=\"T_c7296_row5_col2\" class=\"data row5 col2\" >1.0</td>\n",
       "      <td id=\"T_c7296_row5_col3\" class=\"data row5 col3\" >0.0</td>\n",
       "      <td id=\"T_c7296_row5_col4\" class=\"data row5 col4\" >0.5</td>\n",
       "      <td id=\"T_c7296_row5_col5\" class=\"data row5 col5\" >0.0</td>\n",
       "      <td id=\"T_c7296_row5_col6\" class=\"data row5 col6\" >-0.0</td>\n",
       "      <td id=\"T_c7296_row5_col7\" class=\"data row5 col7\" >0.0</td>\n",
       "      <td id=\"T_c7296_row5_col8\" class=\"data row5 col8\" >0.0</td>\n",
       "    </tr>\n",
       "    <tr>\n",
       "      <th id=\"T_c7296_level0_row6\" class=\"row_heading level0 row6\" >2s30s</th>\n",
       "      <td id=\"T_c7296_row6_col0\" class=\"data row6 col0\" >-1.0</td>\n",
       "      <td id=\"T_c7296_row6_col1\" class=\"data row6 col1\" >0.0</td>\n",
       "      <td id=\"T_c7296_row6_col2\" class=\"data row6 col2\" >0.0</td>\n",
       "      <td id=\"T_c7296_row6_col3\" class=\"data row6 col3\" >1.0</td>\n",
       "      <td id=\"T_c7296_row6_col4\" class=\"data row6 col4\" >0.8</td>\n",
       "      <td id=\"T_c7296_row6_col5\" class=\"data row6 col5\" >-0.0</td>\n",
       "      <td id=\"T_c7296_row6_col6\" class=\"data row6 col6\" >-1,000.0</td>\n",
       "      <td id=\"T_c7296_row6_col7\" class=\"data row6 col7\" >0.0</td>\n",
       "      <td id=\"T_c7296_row6_col8\" class=\"data row6 col8\" >0.0</td>\n",
       "    </tr>\n",
       "    <tr>\n",
       "      <th id=\"T_c7296_level0_row7\" class=\"row_heading level0 row7\" >5s10s</th>\n",
       "      <td id=\"T_c7296_row7_col0\" class=\"data row7 col0\" >0.0</td>\n",
       "      <td id=\"T_c7296_row7_col1\" class=\"data row7 col1\" >-1.0</td>\n",
       "      <td id=\"T_c7296_row7_col2\" class=\"data row7 col2\" >1.0</td>\n",
       "      <td id=\"T_c7296_row7_col3\" class=\"data row7 col3\" >0.0</td>\n",
       "      <td id=\"T_c7296_row7_col4\" class=\"data row7 col4\" >0.2</td>\n",
       "      <td id=\"T_c7296_row7_col5\" class=\"data row7 col5\" >18,154.2</td>\n",
       "      <td id=\"T_c7296_row7_col6\" class=\"data row7 col6\" >-10,000.0</td>\n",
       "      <td id=\"T_c7296_row7_col7\" class=\"data row7 col7\" >4,538.5</td>\n",
       "      <td id=\"T_c7296_row7_col8\" class=\"data row7 col8\" >-175.8</td>\n",
       "    </tr>\n",
       "    <tr>\n",
       "      <th id=\"T_c7296_level0_row8\" class=\"row_heading level0 row8\" >5s30s</th>\n",
       "      <td id=\"T_c7296_row8_col0\" class=\"data row8 col0\" >0.0</td>\n",
       "      <td id=\"T_c7296_row8_col1\" class=\"data row8 col1\" >-1.0</td>\n",
       "      <td id=\"T_c7296_row8_col2\" class=\"data row8 col2\" >0.0</td>\n",
       "      <td id=\"T_c7296_row8_col3\" class=\"data row8 col3\" >1.0</td>\n",
       "      <td id=\"T_c7296_row8_col4\" class=\"data row8 col4\" >0.7</td>\n",
       "      <td id=\"T_c7296_row8_col5\" class=\"data row8 col5\" >35,030.1</td>\n",
       "      <td id=\"T_c7296_row8_col6\" class=\"data row8 col6\" >-25,000.0</td>\n",
       "      <td id=\"T_c7296_row8_col7\" class=\"data row8 col7\" >24,521.0</td>\n",
       "      <td id=\"T_c7296_row8_col8\" class=\"data row8 col8\" >-1,965.6</td>\n",
       "    </tr>\n",
       "    <tr>\n",
       "      <th id=\"T_c7296_level0_row9\" class=\"row_heading level0 row9\" >10s30s</th>\n",
       "      <td id=\"T_c7296_row9_col0\" class=\"data row9 col0\" >0.0</td>\n",
       "      <td id=\"T_c7296_row9_col1\" class=\"data row9 col1\" >0.0</td>\n",
       "      <td id=\"T_c7296_row9_col2\" class=\"data row9 col2\" >-1.0</td>\n",
       "      <td id=\"T_c7296_row9_col3\" class=\"data row9 col3\" >1.0</td>\n",
       "      <td id=\"T_c7296_row9_col4\" class=\"data row9 col4\" >0.6</td>\n",
       "      <td id=\"T_c7296_row9_col5\" class=\"data row9 col5\" >-0.0</td>\n",
       "      <td id=\"T_c7296_row9_col6\" class=\"data row9 col6\" >-0.0</td>\n",
       "      <td id=\"T_c7296_row9_col7\" class=\"data row9 col7\" >0.0</td>\n",
       "      <td id=\"T_c7296_row9_col8\" class=\"data row9 col8\" >0.0</td>\n",
       "    </tr>\n",
       "    <tr>\n",
       "      <th id=\"T_c7296_level0_row10\" class=\"row_heading level0 row10\" >2s5s10s</th>\n",
       "      <td id=\"T_c7296_row10_col0\" class=\"data row10 col0\" >-1.0</td>\n",
       "      <td id=\"T_c7296_row10_col1\" class=\"data row10 col1\" >2.0</td>\n",
       "      <td id=\"T_c7296_row10_col2\" class=\"data row10 col2\" >-1.0</td>\n",
       "      <td id=\"T_c7296_row10_col3\" class=\"data row10 col3\" >0.0</td>\n",
       "      <td id=\"T_c7296_row10_col4\" class=\"data row10 col4\" >0.5</td>\n",
       "      <td id=\"T_c7296_row10_col5\" class=\"data row10 col5\" >-9,985.2</td>\n",
       "      <td id=\"T_c7296_row10_col6\" class=\"data row10 col6\" >-0.0</td>\n",
       "      <td id=\"T_c7296_row10_col7\" class=\"data row10 col7\" >4,992.6</td>\n",
       "      <td id=\"T_c7296_row10_col8\" class=\"data row10 col8\" >665.2</td>\n",
       "    </tr>\n",
       "    <tr>\n",
       "      <th id=\"T_c7296_level0_row11\" class=\"row_heading level0 row11\" >5s10s30s</th>\n",
       "      <td id=\"T_c7296_row11_col0\" class=\"data row11 col0\" >0.0</td>\n",
       "      <td id=\"T_c7296_row11_col1\" class=\"data row11 col1\" >-1.0</td>\n",
       "      <td id=\"T_c7296_row11_col2\" class=\"data row11 col2\" >2.0</td>\n",
       "      <td id=\"T_c7296_row11_col3\" class=\"data row11 col3\" >-1.0</td>\n",
       "      <td id=\"T_c7296_row11_col4\" class=\"data row11 col4\" >0.6</td>\n",
       "      <td id=\"T_c7296_row11_col5\" class=\"data row11 col5\" >-0.0</td>\n",
       "      <td id=\"T_c7296_row11_col6\" class=\"data row11 col6\" >-0.0</td>\n",
       "      <td id=\"T_c7296_row11_col7\" class=\"data row11 col7\" >0.0</td>\n",
       "      <td id=\"T_c7296_row11_col8\" class=\"data row11 col8\" >0.0</td>\n",
       "    </tr>\n",
       "  </tbody>\n",
       "</table>\n"
      ]
     },
     "execution_count": 21,
     "metadata": {},
     "output_type": "execute_result"
    }
   ],
   "execution_count": 21
  },
  {
   "cell_type": "code",
   "id": "7bd04cf7-470a-4837-b9aa-3f58b27a317b",
   "metadata": {
    "ExecuteTime": {
     "end_time": "2025-04-26T17:26:31.834710Z",
     "start_time": "2025-04-26T17:26:31.830405Z"
    }
   },
   "source": [
    "covar = np.matmul(np.matmul(x.T, Q_model), x)[0][0] ** 0.5\n",
    "covar"
   ],
   "outputs": [
    {
     "data": {
      "text/plain": [
       "np.float64(112059.07001730968)"
      ]
     },
     "execution_count": 22,
     "metadata": {},
     "output_type": "execute_result"
    }
   ],
   "execution_count": 22
  },
  {
   "cell_type": "code",
   "id": "3c0463e4-43ca-4de9-ada0-c1bb0d544367",
   "metadata": {
    "ExecuteTime": {
     "end_time": "2025-04-26T17:26:31.887630Z",
     "start_time": "2025-04-26T17:26:31.882534Z"
    }
   },
   "source": [
    "covar_zerocorr = np.matmul(np.matmul(x.T, np.diag(np.diagonal(Q_model))), x)[0][0] ** 0.5\n",
    "covar_zerocorr"
   ],
   "outputs": [
    {
     "data": {
      "text/plain": [
       "np.float64(89180.55205669193)"
      ]
     },
     "execution_count": 23,
     "metadata": {},
     "output_type": "execute_result"
    }
   ],
   "execution_count": 23
  },
  {
   "cell_type": "markdown",
   "id": "d24fe3d4-c1e6-405a-802a-9297eca22420",
   "metadata": {},
   "source": [
    "The total we charge for this swap package is"
   ]
  },
  {
   "cell_type": "code",
   "id": "d2148284-49db-4a80-bb78-426073764aff",
   "metadata": {
    "ExecuteTime": {
     "end_time": "2025-04-26T17:26:31.911334Z",
     "start_time": "2025-04-26T17:26:31.906335Z"
    }
   },
   "source": [
    "auto_margin = df[\"basic margin\"].sum() + df[\"volume add on\"].sum() + (covar - covar_zerocorr) * 0.15\n",
    "f\"Ccy: {auto_margin:,.0f}\""
   ],
   "outputs": [
    {
     "data": {
      "text/plain": [
       "'Ccy: 47,123'"
      ]
     },
     "execution_count": 24,
     "metadata": {},
     "output_type": "execute_result"
    }
   ],
   "execution_count": 24
  },
  {
   "cell_type": "markdown",
   "id": "f1629f75-ecc4-4ae8-9154-8b8ce8cc54fb",
   "metadata": {},
   "source": [
    "The price show to the customer is (negative is customer pays cash)"
   ]
  },
  {
   "cell_type": "code",
   "id": "c0d34e4c-ac80-4d74-832e-e93438c5603c",
   "metadata": {
    "ExecuteTime": {
     "end_time": "2025-04-26T17:26:31.932502Z",
     "start_time": "2025-04-26T17:26:31.926899Z"
    }
   },
   "source": [
    "f\"Ccy: {(portfolio.npv(s_cv) - auto_margin).real:,.0f}\""
   ],
   "outputs": [
    {
     "data": {
      "text/plain": [
       "'Ccy: -1,521,082'"
      ]
     },
     "execution_count": 25,
     "metadata": {},
     "output_type": "execute_result"
    }
   ],
   "execution_count": 25
  },
  {
   "cell_type": "markdown",
   "id": "09acd7d0-e7d9-47fb-90de-e2ea23589169",
   "metadata": {},
   "source": [
    "This does not include an off-the-run charge which is a major component of risk in this package."
   ]
  }
 ],
 "metadata": {
  "kernelspec": {
   "display_name": "Python 3 (ipykernel)",
   "language": "python",
   "name": "python3"
  },
  "language_info": {
   "codemirror_mode": {
    "name": "ipython",
    "version": 3
   },
   "file_extension": ".py",
   "mimetype": "text/x-python",
   "name": "python",
   "nbconvert_exporter": "python",
   "pygments_lexer": "ipython3",
   "version": "3.9.5"
  }
 },
 "nbformat": 4,
 "nbformat_minor": 5
}
