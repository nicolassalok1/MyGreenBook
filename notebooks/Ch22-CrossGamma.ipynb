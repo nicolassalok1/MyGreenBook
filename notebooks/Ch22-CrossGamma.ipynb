{
 "cells": [
  {
   "cell_type": "code",
   "id": "b7b1ebea-0cd1-4bdd-8d3d-1cd9bc7060cc",
   "metadata": {
    "ExecuteTime": {
     "end_time": "2025-04-26T17:26:34.330679Z",
     "start_time": "2025-04-26T17:26:33.229632Z"
    }
   },
   "source": [
    "import module_loader\n",
    "import pandas as pd\n",
    "from bookirds.curves import *\n",
    "from bookirds.dual import Dual"
   ],
   "outputs": [],
   "execution_count": 1
  },
  {
   "cell_type": "markdown",
   "id": "961f24c7-f02f-4c07-9199-8f230e4a1b35",
   "metadata": {},
   "source": [
    "## Forward zero coupon cross-gamma"
   ]
  },
  {
   "cell_type": "code",
   "id": "d08ff1ad-a21c-4f12-96aa-ee5120defa53",
   "metadata": {
    "ExecuteTime": {
     "end_time": "2025-04-26T17:26:34.379111Z",
     "start_time": "2025-04-26T17:26:34.345063Z"
    }
   },
   "source": [
    "nodes = {\n",
    "    datetime(2022, 1, 1): Dual(1, {\"v0\": 1}),\n",
    "    datetime(2023, 1, 1): Dual(1, {\"v1\": 1}),\n",
    "    datetime(2024, 1, 1): Dual(1, {\"v2\": 1}),\n",
    "    datetime(2025, 1, 1): Dual(1, {\"v3\": 1}),\n",
    "    datetime(2026, 1, 1): Dual(1, {\"v4\": 1}),\n",
    "    datetime(2027, 1, 1): Dual(1, {\"v5\": 1}),\n",
    "}\n",
    "swaps = {\n",
    "    Swap(datetime(2022,1,1), 12*1, 12, 12): 1.00,\n",
    "    Swap(datetime(2022,1,1), 12*2, 12, 12): 1.10,\n",
    "    Swap(datetime(2022,1,1), 12*3, 12, 12): 1.20,\n",
    "    Swap(datetime(2022,1,1), 12*4, 12, 12): 1.25,\n",
    "    Swap(datetime(2022,1,1), 12*5, 12, 12): 1.27,\n",
    "}\n",
    "s_cv = SolvedCurve(\n",
    "    nodes=nodes, interpolation=\"log_linear\",\n",
    "    obj_rates=list(swaps.values()), \n",
    "    swaps=list(swaps.keys()),\n",
    "    algorithm=\"levenberg_marquardt\"\n",
    ")\n",
    "s_cv.iterate()   "
   ],
   "outputs": [
    {
     "data": {
      "text/plain": [
       "'tolerance reached (levenberg_marquardt) after 8 iterations, func: 5.595472642983513e-18'"
      ]
     },
     "execution_count": 2,
     "metadata": {},
     "output_type": "execute_result"
    }
   ],
   "execution_count": 2
  },
  {
   "cell_type": "code",
   "id": "3be296d1-4393-4262-8a2b-9e6b94d477a6",
   "metadata": {
    "ExecuteTime": {
     "end_time": "2025-04-26T17:26:34.504889Z",
     "start_time": "2025-04-26T17:26:34.501785Z"
    }
   },
   "source": [
    "portfolio = Portfolio([\n",
    "    Swap2(datetime(2022, 1, 1), 5*12, 12, 12, fixed_rate=25.0, notional=-8.3e8),\n",
    "])"
   ],
   "outputs": [],
   "execution_count": 3
  },
  {
   "cell_type": "code",
   "id": "bd282c57-9a0b-4822-9d99-5fd04b730441",
   "metadata": {
    "ExecuteTime": {
     "end_time": "2025-04-26T17:26:34.861459Z",
     "start_time": "2025-04-26T17:26:34.511120Z"
    }
   },
   "source": [
    "dz, ds = portfolio.risk_fwd_zero_rates(s_cv)\n",
    "df = pd.DataFrame({\"dPdz\": dz[:,0], \"dPds\": ds[:,0], \"dPdr\": (dz+ds)[:,0]})\n",
    "df.style.format(\"{:,.0f}\")"
   ],
   "outputs": [
    {
     "data": {
      "text/plain": [
       "<pandas.io.formats.style.Styler at 0x228ba6b4cb0>"
      ],
      "text/html": [
       "<style type=\"text/css\">\n",
       "</style>\n",
       "<table id=\"T_9e54f\">\n",
       "  <thead>\n",
       "    <tr>\n",
       "      <th class=\"blank level0\" >&nbsp;</th>\n",
       "      <th id=\"T_9e54f_level0_col0\" class=\"col_heading level0 col0\" >dPdz</th>\n",
       "      <th id=\"T_9e54f_level0_col1\" class=\"col_heading level0 col1\" >dPds</th>\n",
       "      <th id=\"T_9e54f_level0_col2\" class=\"col_heading level0 col2\" >dPdr</th>\n",
       "    </tr>\n",
       "  </thead>\n",
       "  <tbody>\n",
       "    <tr>\n",
       "      <th id=\"T_9e54f_level0_row0\" class=\"row_heading level0 row0\" >0</th>\n",
       "      <td id=\"T_9e54f_row0_col0\" class=\"data row0 col0\" >-82,178</td>\n",
       "      <td id=\"T_9e54f_row0_col1\" class=\"data row0 col1\" >-94,111</td>\n",
       "      <td id=\"T_9e54f_row0_col2\" class=\"data row0 col2\" >-176,289</td>\n",
       "    </tr>\n",
       "    <tr>\n",
       "      <th id=\"T_9e54f_level0_row1\" class=\"row_heading level0 row1\" >1</th>\n",
       "      <td id=\"T_9e54f_row1_col0\" class=\"data row1 col0\" >-81,203</td>\n",
       "      <td id=\"T_9e54f_row1_col1\" class=\"data row1 col1\" >-74,435</td>\n",
       "      <td id=\"T_9e54f_row1_col2\" class=\"data row1 col2\" >-155,638</td>\n",
       "    </tr>\n",
       "    <tr>\n",
       "      <th id=\"T_9e54f_level0_row2\" class=\"row_heading level0 row2\" >2</th>\n",
       "      <td id=\"T_9e54f_row2_col0\" class=\"data row2 col0\" >-80,295</td>\n",
       "      <td id=\"T_9e54f_row2_col1\" class=\"data row2 col1\" >-55,378</td>\n",
       "      <td id=\"T_9e54f_row2_col2\" class=\"data row2 col2\" >-135,673</td>\n",
       "    </tr>\n",
       "    <tr>\n",
       "      <th id=\"T_9e54f_level0_row3\" class=\"row_heading level0 row3\" >3</th>\n",
       "      <td id=\"T_9e54f_row3_col0\" class=\"data row3 col0\" >-78,967</td>\n",
       "      <td id=\"T_9e54f_row3_col1\" class=\"data row3 col1\" >-36,544</td>\n",
       "      <td id=\"T_9e54f_row3_col2\" class=\"data row3 col2\" >-115,511</td>\n",
       "    </tr>\n",
       "    <tr>\n",
       "      <th id=\"T_9e54f_level0_row4\" class=\"row_heading level0 row4\" >4</th>\n",
       "      <td id=\"T_9e54f_row4_col0\" class=\"data row4 col0\" >-77,913</td>\n",
       "      <td id=\"T_9e54f_row4_col1\" class=\"data row4 col1\" >-18,178</td>\n",
       "      <td id=\"T_9e54f_row4_col2\" class=\"data row4 col2\" >-96,091</td>\n",
       "    </tr>\n",
       "  </tbody>\n",
       "</table>\n"
      ]
     },
     "execution_count": 4,
     "metadata": {},
     "output_type": "execute_result"
    }
   ],
   "execution_count": 4
  },
  {
   "cell_type": "code",
   "id": "75cdacf7-b99d-4057-bb39-7adccf1a7481",
   "metadata": {
    "ExecuteTime": {
     "end_time": "2025-04-26T17:26:34.873469Z",
     "start_time": "2025-04-26T17:26:34.868427Z"
    }
   },
   "source": [
    "ss, sz, zz = portfolio.cross_gamma(s_cv)"
   ],
   "outputs": [],
   "execution_count": 5
  },
  {
   "cell_type": "code",
   "id": "a8faea36-2d90-47d5-83cb-e29f1946b832",
   "metadata": {
    "ExecuteTime": {
     "end_time": "2025-04-26T17:26:34.889605Z",
     "start_time": "2025-04-26T17:26:34.880434Z"
    }
   },
   "source": [
    "G = np.block([[ss, sz, ss + sz],\n",
    "              [sz.T, zz, sz.T + zz],\n",
    "              [(ss + sz).T, (sz.T + zz).T, ss + sz + sz.T + zz]])\n",
    "labels = [\"s1\", \"s2\", \"s3\", \"s4\", \"s5\", \"z1\", \"z2\", \"z3\", \"z4\", \"z5\", \"r1\", \"r2\", \"r3\", \"r4\", \"r5\"]\n",
    "df = pd.DataFrame(G, index=labels, columns=labels)\n",
    "df.style.format(\"{:,.1f}\")"
   ],
   "outputs": [
    {
     "data": {
      "text/plain": [
       "<pandas.io.formats.style.Styler at 0x228bd8b2c30>"
      ],
      "text/html": [
       "<style type=\"text/css\">\n",
       "</style>\n",
       "<table id=\"T_84a98\">\n",
       "  <thead>\n",
       "    <tr>\n",
       "      <th class=\"blank level0\" >&nbsp;</th>\n",
       "      <th id=\"T_84a98_level0_col0\" class=\"col_heading level0 col0\" >s1</th>\n",
       "      <th id=\"T_84a98_level0_col1\" class=\"col_heading level0 col1\" >s2</th>\n",
       "      <th id=\"T_84a98_level0_col2\" class=\"col_heading level0 col2\" >s3</th>\n",
       "      <th id=\"T_84a98_level0_col3\" class=\"col_heading level0 col3\" >s4</th>\n",
       "      <th id=\"T_84a98_level0_col4\" class=\"col_heading level0 col4\" >s5</th>\n",
       "      <th id=\"T_84a98_level0_col5\" class=\"col_heading level0 col5\" >z1</th>\n",
       "      <th id=\"T_84a98_level0_col6\" class=\"col_heading level0 col6\" >z2</th>\n",
       "      <th id=\"T_84a98_level0_col7\" class=\"col_heading level0 col7\" >z3</th>\n",
       "      <th id=\"T_84a98_level0_col8\" class=\"col_heading level0 col8\" >z4</th>\n",
       "      <th id=\"T_84a98_level0_col9\" class=\"col_heading level0 col9\" >z5</th>\n",
       "      <th id=\"T_84a98_level0_col10\" class=\"col_heading level0 col10\" >r1</th>\n",
       "      <th id=\"T_84a98_level0_col11\" class=\"col_heading level0 col11\" >r2</th>\n",
       "      <th id=\"T_84a98_level0_col12\" class=\"col_heading level0 col12\" >r3</th>\n",
       "      <th id=\"T_84a98_level0_col13\" class=\"col_heading level0 col13\" >r4</th>\n",
       "      <th id=\"T_84a98_level0_col14\" class=\"col_heading level0 col14\" >r5</th>\n",
       "    </tr>\n",
       "  </thead>\n",
       "  <tbody>\n",
       "    <tr>\n",
       "      <th id=\"T_84a98_level0_row0\" class=\"row_heading level0 row0\" >s1</th>\n",
       "      <td id=\"T_84a98_row0_col0\" class=\"data row0 col0\" >18.6</td>\n",
       "      <td id=\"T_84a98_row0_col1\" class=\"data row0 col1\" >7.4</td>\n",
       "      <td id=\"T_84a98_row0_col2\" class=\"data row0 col2\" >5.5</td>\n",
       "      <td id=\"T_84a98_row0_col3\" class=\"data row0 col3\" >3.6</td>\n",
       "      <td id=\"T_84a98_row0_col4\" class=\"data row0 col4\" >1.8</td>\n",
       "      <td id=\"T_84a98_row0_col5\" class=\"data row0 col5\" >8.1</td>\n",
       "      <td id=\"T_84a98_row0_col6\" class=\"data row0 col6\" >8.0</td>\n",
       "      <td id=\"T_84a98_row0_col7\" class=\"data row0 col7\" >8.0</td>\n",
       "      <td id=\"T_84a98_row0_col8\" class=\"data row0 col8\" >7.8</td>\n",
       "      <td id=\"T_84a98_row0_col9\" class=\"data row0 col9\" >7.7</td>\n",
       "      <td id=\"T_84a98_row0_col10\" class=\"data row0 col10\" >26.8</td>\n",
       "      <td id=\"T_84a98_row0_col11\" class=\"data row0 col11\" >15.4</td>\n",
       "      <td id=\"T_84a98_row0_col12\" class=\"data row0 col12\" >13.4</td>\n",
       "      <td id=\"T_84a98_row0_col13\" class=\"data row0 col13\" >11.4</td>\n",
       "      <td id=\"T_84a98_row0_col14\" class=\"data row0 col14\" >9.5</td>\n",
       "    </tr>\n",
       "    <tr>\n",
       "      <th id=\"T_84a98_level0_row1\" class=\"row_heading level0 row1\" >s2</th>\n",
       "      <td id=\"T_84a98_row1_col0\" class=\"data row1 col0\" >7.4</td>\n",
       "      <td id=\"T_84a98_row1_col1\" class=\"data row1 col1\" >14.7</td>\n",
       "      <td id=\"T_84a98_row1_col2\" class=\"data row1 col2\" >5.5</td>\n",
       "      <td id=\"T_84a98_row1_col3\" class=\"data row1 col3\" >3.6</td>\n",
       "      <td id=\"T_84a98_row1_col4\" class=\"data row1 col4\" >1.8</td>\n",
       "      <td id=\"T_84a98_row1_col5\" class=\"data row1 col5\" >-0.0</td>\n",
       "      <td id=\"T_84a98_row1_col6\" class=\"data row1 col6\" >8.0</td>\n",
       "      <td id=\"T_84a98_row1_col7\" class=\"data row1 col7\" >7.9</td>\n",
       "      <td id=\"T_84a98_row1_col8\" class=\"data row1 col8\" >7.8</td>\n",
       "      <td id=\"T_84a98_row1_col9\" class=\"data row1 col9\" >7.7</td>\n",
       "      <td id=\"T_84a98_row1_col10\" class=\"data row1 col10\" >7.4</td>\n",
       "      <td id=\"T_84a98_row1_col11\" class=\"data row1 col11\" >22.7</td>\n",
       "      <td id=\"T_84a98_row1_col12\" class=\"data row1 col12\" >13.4</td>\n",
       "      <td id=\"T_84a98_row1_col13\" class=\"data row1 col13\" >11.4</td>\n",
       "      <td id=\"T_84a98_row1_col14\" class=\"data row1 col14\" >9.5</td>\n",
       "    </tr>\n",
       "    <tr>\n",
       "      <th id=\"T_84a98_level0_row2\" class=\"row_heading level0 row2\" >s3</th>\n",
       "      <td id=\"T_84a98_row2_col0\" class=\"data row2 col0\" >5.5</td>\n",
       "      <td id=\"T_84a98_row2_col1\" class=\"data row2 col1\" >5.5</td>\n",
       "      <td id=\"T_84a98_row2_col2\" class=\"data row2 col2\" >11.0</td>\n",
       "      <td id=\"T_84a98_row2_col3\" class=\"data row2 col3\" >3.6</td>\n",
       "      <td id=\"T_84a98_row2_col4\" class=\"data row2 col4\" >1.8</td>\n",
       "      <td id=\"T_84a98_row2_col5\" class=\"data row2 col5\" >-0.0</td>\n",
       "      <td id=\"T_84a98_row2_col6\" class=\"data row2 col6\" >-0.0</td>\n",
       "      <td id=\"T_84a98_row2_col7\" class=\"data row2 col7\" >7.9</td>\n",
       "      <td id=\"T_84a98_row2_col8\" class=\"data row2 col8\" >7.8</td>\n",
       "      <td id=\"T_84a98_row2_col9\" class=\"data row2 col9\" >7.7</td>\n",
       "      <td id=\"T_84a98_row2_col10\" class=\"data row2 col10\" >5.5</td>\n",
       "      <td id=\"T_84a98_row2_col11\" class=\"data row2 col11\" >5.5</td>\n",
       "      <td id=\"T_84a98_row2_col12\" class=\"data row2 col12\" >18.9</td>\n",
       "      <td id=\"T_84a98_row2_col13\" class=\"data row2 col13\" >11.4</td>\n",
       "      <td id=\"T_84a98_row2_col14\" class=\"data row2 col14\" >9.5</td>\n",
       "    </tr>\n",
       "    <tr>\n",
       "      <th id=\"T_84a98_level0_row3\" class=\"row_heading level0 row3\" >s4</th>\n",
       "      <td id=\"T_84a98_row3_col0\" class=\"data row3 col0\" >3.6</td>\n",
       "      <td id=\"T_84a98_row3_col1\" class=\"data row3 col1\" >3.6</td>\n",
       "      <td id=\"T_84a98_row3_col2\" class=\"data row3 col2\" >3.6</td>\n",
       "      <td id=\"T_84a98_row3_col3\" class=\"data row3 col3\" >7.2</td>\n",
       "      <td id=\"T_84a98_row3_col4\" class=\"data row3 col4\" >1.8</td>\n",
       "      <td id=\"T_84a98_row3_col5\" class=\"data row3 col5\" >-0.0</td>\n",
       "      <td id=\"T_84a98_row3_col6\" class=\"data row3 col6\" >-0.0</td>\n",
       "      <td id=\"T_84a98_row3_col7\" class=\"data row3 col7\" >-0.0</td>\n",
       "      <td id=\"T_84a98_row3_col8\" class=\"data row3 col8\" >7.8</td>\n",
       "      <td id=\"T_84a98_row3_col9\" class=\"data row3 col9\" >7.7</td>\n",
       "      <td id=\"T_84a98_row3_col10\" class=\"data row3 col10\" >3.6</td>\n",
       "      <td id=\"T_84a98_row3_col11\" class=\"data row3 col11\" >3.6</td>\n",
       "      <td id=\"T_84a98_row3_col12\" class=\"data row3 col12\" >3.6</td>\n",
       "      <td id=\"T_84a98_row3_col13\" class=\"data row3 col13\" >15.0</td>\n",
       "      <td id=\"T_84a98_row3_col14\" class=\"data row3 col14\" >9.5</td>\n",
       "    </tr>\n",
       "    <tr>\n",
       "      <th id=\"T_84a98_level0_row4\" class=\"row_heading level0 row4\" >s5</th>\n",
       "      <td id=\"T_84a98_row4_col0\" class=\"data row4 col0\" >1.8</td>\n",
       "      <td id=\"T_84a98_row4_col1\" class=\"data row4 col1\" >1.8</td>\n",
       "      <td id=\"T_84a98_row4_col2\" class=\"data row4 col2\" >1.8</td>\n",
       "      <td id=\"T_84a98_row4_col3\" class=\"data row4 col3\" >1.8</td>\n",
       "      <td id=\"T_84a98_row4_col4\" class=\"data row4 col4\" >3.6</td>\n",
       "      <td id=\"T_84a98_row4_col5\" class=\"data row4 col5\" >-0.0</td>\n",
       "      <td id=\"T_84a98_row4_col6\" class=\"data row4 col6\" >-0.0</td>\n",
       "      <td id=\"T_84a98_row4_col7\" class=\"data row4 col7\" >-0.0</td>\n",
       "      <td id=\"T_84a98_row4_col8\" class=\"data row4 col8\" >-0.0</td>\n",
       "      <td id=\"T_84a98_row4_col9\" class=\"data row4 col9\" >7.7</td>\n",
       "      <td id=\"T_84a98_row4_col10\" class=\"data row4 col10\" >1.8</td>\n",
       "      <td id=\"T_84a98_row4_col11\" class=\"data row4 col11\" >1.8</td>\n",
       "      <td id=\"T_84a98_row4_col12\" class=\"data row4 col12\" >1.8</td>\n",
       "      <td id=\"T_84a98_row4_col13\" class=\"data row4 col13\" >1.8</td>\n",
       "      <td id=\"T_84a98_row4_col14\" class=\"data row4 col14\" >11.3</td>\n",
       "    </tr>\n",
       "    <tr>\n",
       "      <th id=\"T_84a98_level0_row5\" class=\"row_heading level0 row5\" >z1</th>\n",
       "      <td id=\"T_84a98_row5_col0\" class=\"data row5 col0\" >8.1</td>\n",
       "      <td id=\"T_84a98_row5_col1\" class=\"data row5 col1\" >-0.0</td>\n",
       "      <td id=\"T_84a98_row5_col2\" class=\"data row5 col2\" >-0.0</td>\n",
       "      <td id=\"T_84a98_row5_col3\" class=\"data row5 col3\" >-0.0</td>\n",
       "      <td id=\"T_84a98_row5_col4\" class=\"data row5 col4\" >-0.0</td>\n",
       "      <td id=\"T_84a98_row5_col5\" class=\"data row5 col5\" >0.0</td>\n",
       "      <td id=\"T_84a98_row5_col6\" class=\"data row5 col6\" >0.0</td>\n",
       "      <td id=\"T_84a98_row5_col7\" class=\"data row5 col7\" >0.0</td>\n",
       "      <td id=\"T_84a98_row5_col8\" class=\"data row5 col8\" >0.0</td>\n",
       "      <td id=\"T_84a98_row5_col9\" class=\"data row5 col9\" >0.0</td>\n",
       "      <td id=\"T_84a98_row5_col10\" class=\"data row5 col10\" >8.1</td>\n",
       "      <td id=\"T_84a98_row5_col11\" class=\"data row5 col11\" >0.0</td>\n",
       "      <td id=\"T_84a98_row5_col12\" class=\"data row5 col12\" >0.0</td>\n",
       "      <td id=\"T_84a98_row5_col13\" class=\"data row5 col13\" >0.0</td>\n",
       "      <td id=\"T_84a98_row5_col14\" class=\"data row5 col14\" >0.0</td>\n",
       "    </tr>\n",
       "    <tr>\n",
       "      <th id=\"T_84a98_level0_row6\" class=\"row_heading level0 row6\" >z2</th>\n",
       "      <td id=\"T_84a98_row6_col0\" class=\"data row6 col0\" >8.0</td>\n",
       "      <td id=\"T_84a98_row6_col1\" class=\"data row6 col1\" >8.0</td>\n",
       "      <td id=\"T_84a98_row6_col2\" class=\"data row6 col2\" >-0.0</td>\n",
       "      <td id=\"T_84a98_row6_col3\" class=\"data row6 col3\" >-0.0</td>\n",
       "      <td id=\"T_84a98_row6_col4\" class=\"data row6 col4\" >-0.0</td>\n",
       "      <td id=\"T_84a98_row6_col5\" class=\"data row6 col5\" >0.0</td>\n",
       "      <td id=\"T_84a98_row6_col6\" class=\"data row6 col6\" >0.0</td>\n",
       "      <td id=\"T_84a98_row6_col7\" class=\"data row6 col7\" >0.0</td>\n",
       "      <td id=\"T_84a98_row6_col8\" class=\"data row6 col8\" >0.0</td>\n",
       "      <td id=\"T_84a98_row6_col9\" class=\"data row6 col9\" >0.0</td>\n",
       "      <td id=\"T_84a98_row6_col10\" class=\"data row6 col10\" >8.0</td>\n",
       "      <td id=\"T_84a98_row6_col11\" class=\"data row6 col11\" >8.0</td>\n",
       "      <td id=\"T_84a98_row6_col12\" class=\"data row6 col12\" >0.0</td>\n",
       "      <td id=\"T_84a98_row6_col13\" class=\"data row6 col13\" >0.0</td>\n",
       "      <td id=\"T_84a98_row6_col14\" class=\"data row6 col14\" >0.0</td>\n",
       "    </tr>\n",
       "    <tr>\n",
       "      <th id=\"T_84a98_level0_row7\" class=\"row_heading level0 row7\" >z3</th>\n",
       "      <td id=\"T_84a98_row7_col0\" class=\"data row7 col0\" >8.0</td>\n",
       "      <td id=\"T_84a98_row7_col1\" class=\"data row7 col1\" >7.9</td>\n",
       "      <td id=\"T_84a98_row7_col2\" class=\"data row7 col2\" >7.9</td>\n",
       "      <td id=\"T_84a98_row7_col3\" class=\"data row7 col3\" >-0.0</td>\n",
       "      <td id=\"T_84a98_row7_col4\" class=\"data row7 col4\" >-0.0</td>\n",
       "      <td id=\"T_84a98_row7_col5\" class=\"data row7 col5\" >0.0</td>\n",
       "      <td id=\"T_84a98_row7_col6\" class=\"data row7 col6\" >0.0</td>\n",
       "      <td id=\"T_84a98_row7_col7\" class=\"data row7 col7\" >0.0</td>\n",
       "      <td id=\"T_84a98_row7_col8\" class=\"data row7 col8\" >0.0</td>\n",
       "      <td id=\"T_84a98_row7_col9\" class=\"data row7 col9\" >0.0</td>\n",
       "      <td id=\"T_84a98_row7_col10\" class=\"data row7 col10\" >8.0</td>\n",
       "      <td id=\"T_84a98_row7_col11\" class=\"data row7 col11\" >7.9</td>\n",
       "      <td id=\"T_84a98_row7_col12\" class=\"data row7 col12\" >7.9</td>\n",
       "      <td id=\"T_84a98_row7_col13\" class=\"data row7 col13\" >0.0</td>\n",
       "      <td id=\"T_84a98_row7_col14\" class=\"data row7 col14\" >0.0</td>\n",
       "    </tr>\n",
       "    <tr>\n",
       "      <th id=\"T_84a98_level0_row8\" class=\"row_heading level0 row8\" >z4</th>\n",
       "      <td id=\"T_84a98_row8_col0\" class=\"data row8 col0\" >7.8</td>\n",
       "      <td id=\"T_84a98_row8_col1\" class=\"data row8 col1\" >7.8</td>\n",
       "      <td id=\"T_84a98_row8_col2\" class=\"data row8 col2\" >7.8</td>\n",
       "      <td id=\"T_84a98_row8_col3\" class=\"data row8 col3\" >7.8</td>\n",
       "      <td id=\"T_84a98_row8_col4\" class=\"data row8 col4\" >-0.0</td>\n",
       "      <td id=\"T_84a98_row8_col5\" class=\"data row8 col5\" >0.0</td>\n",
       "      <td id=\"T_84a98_row8_col6\" class=\"data row8 col6\" >0.0</td>\n",
       "      <td id=\"T_84a98_row8_col7\" class=\"data row8 col7\" >0.0</td>\n",
       "      <td id=\"T_84a98_row8_col8\" class=\"data row8 col8\" >0.0</td>\n",
       "      <td id=\"T_84a98_row8_col9\" class=\"data row8 col9\" >0.0</td>\n",
       "      <td id=\"T_84a98_row8_col10\" class=\"data row8 col10\" >7.8</td>\n",
       "      <td id=\"T_84a98_row8_col11\" class=\"data row8 col11\" >7.8</td>\n",
       "      <td id=\"T_84a98_row8_col12\" class=\"data row8 col12\" >7.8</td>\n",
       "      <td id=\"T_84a98_row8_col13\" class=\"data row8 col13\" >7.8</td>\n",
       "      <td id=\"T_84a98_row8_col14\" class=\"data row8 col14\" >0.0</td>\n",
       "    </tr>\n",
       "    <tr>\n",
       "      <th id=\"T_84a98_level0_row9\" class=\"row_heading level0 row9\" >z5</th>\n",
       "      <td id=\"T_84a98_row9_col0\" class=\"data row9 col0\" >7.7</td>\n",
       "      <td id=\"T_84a98_row9_col1\" class=\"data row9 col1\" >7.7</td>\n",
       "      <td id=\"T_84a98_row9_col2\" class=\"data row9 col2\" >7.7</td>\n",
       "      <td id=\"T_84a98_row9_col3\" class=\"data row9 col3\" >7.7</td>\n",
       "      <td id=\"T_84a98_row9_col4\" class=\"data row9 col4\" >7.7</td>\n",
       "      <td id=\"T_84a98_row9_col5\" class=\"data row9 col5\" >0.0</td>\n",
       "      <td id=\"T_84a98_row9_col6\" class=\"data row9 col6\" >0.0</td>\n",
       "      <td id=\"T_84a98_row9_col7\" class=\"data row9 col7\" >0.0</td>\n",
       "      <td id=\"T_84a98_row9_col8\" class=\"data row9 col8\" >0.0</td>\n",
       "      <td id=\"T_84a98_row9_col9\" class=\"data row9 col9\" >0.0</td>\n",
       "      <td id=\"T_84a98_row9_col10\" class=\"data row9 col10\" >7.7</td>\n",
       "      <td id=\"T_84a98_row9_col11\" class=\"data row9 col11\" >7.7</td>\n",
       "      <td id=\"T_84a98_row9_col12\" class=\"data row9 col12\" >7.7</td>\n",
       "      <td id=\"T_84a98_row9_col13\" class=\"data row9 col13\" >7.7</td>\n",
       "      <td id=\"T_84a98_row9_col14\" class=\"data row9 col14\" >7.7</td>\n",
       "    </tr>\n",
       "    <tr>\n",
       "      <th id=\"T_84a98_level0_row10\" class=\"row_heading level0 row10\" >r1</th>\n",
       "      <td id=\"T_84a98_row10_col0\" class=\"data row10 col0\" >26.8</td>\n",
       "      <td id=\"T_84a98_row10_col1\" class=\"data row10 col1\" >7.4</td>\n",
       "      <td id=\"T_84a98_row10_col2\" class=\"data row10 col2\" >5.5</td>\n",
       "      <td id=\"T_84a98_row10_col3\" class=\"data row10 col3\" >3.6</td>\n",
       "      <td id=\"T_84a98_row10_col4\" class=\"data row10 col4\" >1.8</td>\n",
       "      <td id=\"T_84a98_row10_col5\" class=\"data row10 col5\" >8.1</td>\n",
       "      <td id=\"T_84a98_row10_col6\" class=\"data row10 col6\" >8.0</td>\n",
       "      <td id=\"T_84a98_row10_col7\" class=\"data row10 col7\" >8.0</td>\n",
       "      <td id=\"T_84a98_row10_col8\" class=\"data row10 col8\" >7.8</td>\n",
       "      <td id=\"T_84a98_row10_col9\" class=\"data row10 col9\" >7.7</td>\n",
       "      <td id=\"T_84a98_row10_col10\" class=\"data row10 col10\" >34.9</td>\n",
       "      <td id=\"T_84a98_row10_col11\" class=\"data row10 col11\" >15.4</td>\n",
       "      <td id=\"T_84a98_row10_col12\" class=\"data row10 col12\" >13.4</td>\n",
       "      <td id=\"T_84a98_row10_col13\" class=\"data row10 col13\" >11.4</td>\n",
       "      <td id=\"T_84a98_row10_col14\" class=\"data row10 col14\" >9.5</td>\n",
       "    </tr>\n",
       "    <tr>\n",
       "      <th id=\"T_84a98_level0_row11\" class=\"row_heading level0 row11\" >r2</th>\n",
       "      <td id=\"T_84a98_row11_col0\" class=\"data row11 col0\" >15.4</td>\n",
       "      <td id=\"T_84a98_row11_col1\" class=\"data row11 col1\" >22.7</td>\n",
       "      <td id=\"T_84a98_row11_col2\" class=\"data row11 col2\" >5.5</td>\n",
       "      <td id=\"T_84a98_row11_col3\" class=\"data row11 col3\" >3.6</td>\n",
       "      <td id=\"T_84a98_row11_col4\" class=\"data row11 col4\" >1.8</td>\n",
       "      <td id=\"T_84a98_row11_col5\" class=\"data row11 col5\" >0.0</td>\n",
       "      <td id=\"T_84a98_row11_col6\" class=\"data row11 col6\" >8.0</td>\n",
       "      <td id=\"T_84a98_row11_col7\" class=\"data row11 col7\" >7.9</td>\n",
       "      <td id=\"T_84a98_row11_col8\" class=\"data row11 col8\" >7.8</td>\n",
       "      <td id=\"T_84a98_row11_col9\" class=\"data row11 col9\" >7.7</td>\n",
       "      <td id=\"T_84a98_row11_col10\" class=\"data row11 col10\" >15.4</td>\n",
       "      <td id=\"T_84a98_row11_col11\" class=\"data row11 col11\" >30.8</td>\n",
       "      <td id=\"T_84a98_row11_col12\" class=\"data row11 col12\" >13.4</td>\n",
       "      <td id=\"T_84a98_row11_col13\" class=\"data row11 col13\" >11.4</td>\n",
       "      <td id=\"T_84a98_row11_col14\" class=\"data row11 col14\" >9.5</td>\n",
       "    </tr>\n",
       "    <tr>\n",
       "      <th id=\"T_84a98_level0_row12\" class=\"row_heading level0 row12\" >r3</th>\n",
       "      <td id=\"T_84a98_row12_col0\" class=\"data row12 col0\" >13.4</td>\n",
       "      <td id=\"T_84a98_row12_col1\" class=\"data row12 col1\" >13.4</td>\n",
       "      <td id=\"T_84a98_row12_col2\" class=\"data row12 col2\" >18.9</td>\n",
       "      <td id=\"T_84a98_row12_col3\" class=\"data row12 col3\" >3.6</td>\n",
       "      <td id=\"T_84a98_row12_col4\" class=\"data row12 col4\" >1.8</td>\n",
       "      <td id=\"T_84a98_row12_col5\" class=\"data row12 col5\" >0.0</td>\n",
       "      <td id=\"T_84a98_row12_col6\" class=\"data row12 col6\" >0.0</td>\n",
       "      <td id=\"T_84a98_row12_col7\" class=\"data row12 col7\" >7.9</td>\n",
       "      <td id=\"T_84a98_row12_col8\" class=\"data row12 col8\" >7.8</td>\n",
       "      <td id=\"T_84a98_row12_col9\" class=\"data row12 col9\" >7.7</td>\n",
       "      <td id=\"T_84a98_row12_col10\" class=\"data row12 col10\" >13.4</td>\n",
       "      <td id=\"T_84a98_row12_col11\" class=\"data row12 col11\" >13.4</td>\n",
       "      <td id=\"T_84a98_row12_col12\" class=\"data row12 col12\" >26.8</td>\n",
       "      <td id=\"T_84a98_row12_col13\" class=\"data row12 col13\" >11.4</td>\n",
       "      <td id=\"T_84a98_row12_col14\" class=\"data row12 col14\" >9.5</td>\n",
       "    </tr>\n",
       "    <tr>\n",
       "      <th id=\"T_84a98_level0_row13\" class=\"row_heading level0 row13\" >r4</th>\n",
       "      <td id=\"T_84a98_row13_col0\" class=\"data row13 col0\" >11.4</td>\n",
       "      <td id=\"T_84a98_row13_col1\" class=\"data row13 col1\" >11.4</td>\n",
       "      <td id=\"T_84a98_row13_col2\" class=\"data row13 col2\" >11.4</td>\n",
       "      <td id=\"T_84a98_row13_col3\" class=\"data row13 col3\" >15.0</td>\n",
       "      <td id=\"T_84a98_row13_col4\" class=\"data row13 col4\" >1.8</td>\n",
       "      <td id=\"T_84a98_row13_col5\" class=\"data row13 col5\" >0.0</td>\n",
       "      <td id=\"T_84a98_row13_col6\" class=\"data row13 col6\" >0.0</td>\n",
       "      <td id=\"T_84a98_row13_col7\" class=\"data row13 col7\" >0.0</td>\n",
       "      <td id=\"T_84a98_row13_col8\" class=\"data row13 col8\" >7.8</td>\n",
       "      <td id=\"T_84a98_row13_col9\" class=\"data row13 col9\" >7.7</td>\n",
       "      <td id=\"T_84a98_row13_col10\" class=\"data row13 col10\" >11.4</td>\n",
       "      <td id=\"T_84a98_row13_col11\" class=\"data row13 col11\" >11.4</td>\n",
       "      <td id=\"T_84a98_row13_col12\" class=\"data row13 col12\" >11.4</td>\n",
       "      <td id=\"T_84a98_row13_col13\" class=\"data row13 col13\" >22.8</td>\n",
       "      <td id=\"T_84a98_row13_col14\" class=\"data row13 col14\" >9.5</td>\n",
       "    </tr>\n",
       "    <tr>\n",
       "      <th id=\"T_84a98_level0_row14\" class=\"row_heading level0 row14\" >r5</th>\n",
       "      <td id=\"T_84a98_row14_col0\" class=\"data row14 col0\" >9.5</td>\n",
       "      <td id=\"T_84a98_row14_col1\" class=\"data row14 col1\" >9.5</td>\n",
       "      <td id=\"T_84a98_row14_col2\" class=\"data row14 col2\" >9.5</td>\n",
       "      <td id=\"T_84a98_row14_col3\" class=\"data row14 col3\" >9.5</td>\n",
       "      <td id=\"T_84a98_row14_col4\" class=\"data row14 col4\" >11.3</td>\n",
       "      <td id=\"T_84a98_row14_col5\" class=\"data row14 col5\" >0.0</td>\n",
       "      <td id=\"T_84a98_row14_col6\" class=\"data row14 col6\" >0.0</td>\n",
       "      <td id=\"T_84a98_row14_col7\" class=\"data row14 col7\" >0.0</td>\n",
       "      <td id=\"T_84a98_row14_col8\" class=\"data row14 col8\" >0.0</td>\n",
       "      <td id=\"T_84a98_row14_col9\" class=\"data row14 col9\" >7.7</td>\n",
       "      <td id=\"T_84a98_row14_col10\" class=\"data row14 col10\" >9.5</td>\n",
       "      <td id=\"T_84a98_row14_col11\" class=\"data row14 col11\" >9.5</td>\n",
       "      <td id=\"T_84a98_row14_col12\" class=\"data row14 col12\" >9.5</td>\n",
       "      <td id=\"T_84a98_row14_col13\" class=\"data row14 col13\" >9.5</td>\n",
       "      <td id=\"T_84a98_row14_col14\" class=\"data row14 col14\" >19.0</td>\n",
       "    </tr>\n",
       "  </tbody>\n",
       "</table>\n"
      ]
     },
     "execution_count": 6,
     "metadata": {},
     "output_type": "execute_result"
    }
   ],
   "execution_count": 6
  },
  {
   "cell_type": "code",
   "id": "f8ab58d7-ecfe-4c23-ace0-56e5859a0c04",
   "metadata": {
    "ExecuteTime": {
     "end_time": "2025-04-26T17:26:34.909854Z",
     "start_time": "2025-04-26T17:26:34.905321Z"
    }
   },
   "source": [
    "dx = np.array([0.2, 0.3, 0.2, 0.1, -0.1,\n",
    "               -1.1, -1.2, -1.1, -0.8, -0.5,\n",
    "               -5.2, -4.1, -2, 2.4, 7.8])[:, np.newaxis]\n",
    "np.matmul(np.matmul(dx[10:15, 0], G[10:15, 10:15]), dx[10:15, :])"
   ],
   "outputs": [
    {
     "data": {
      "text/plain": [
       "array([2069.00971954])"
      ]
     },
     "execution_count": 7,
     "metadata": {},
     "output_type": "execute_result"
    }
   ],
   "execution_count": 7
  },
  {
   "cell_type": "code",
   "id": "b450136b-3935-4592-b598-c05928d4b022",
   "metadata": {
    "ExecuteTime": {
     "end_time": "2025-04-26T17:26:34.920214Z",
     "start_time": "2025-04-26T17:26:34.916333Z"
    }
   },
   "source": [
    "np.matmul(np.matmul(dx.T, G), dx) / 2"
   ],
   "outputs": [
    {
     "data": {
      "text/plain": [
       "array([[1271.09654629]])"
      ]
     },
     "execution_count": 8,
     "metadata": {},
     "output_type": "execute_result"
    }
   ],
   "execution_count": 8
  },
  {
   "cell_type": "markdown",
   "id": "840583d6-ca46-4503-9053-75ad2551e223",
   "metadata": {},
   "source": [
    "## Testing the Jacobian Calculations"
   ]
  },
  {
   "cell_type": "code",
   "id": "dd657ba1-8ab1-4670-962c-e3bd2a03d4a1",
   "metadata": {
    "ExecuteTime": {
     "end_time": "2025-04-26T17:26:34.953766Z",
     "start_time": "2025-04-26T17:26:34.949911Z"
    }
   },
   "source": [
    "s_cv.grad_v_r"
   ],
   "outputs": [
    {
     "data": {
      "text/plain": [
       "array([[-1.0201    ,  1.02213213,  0.        ,  0.        ,  0.        ],\n",
       "       [ 0.        , -1.03441   ,  1.03368479,  0.        ,  0.        ],\n",
       "       [ 0.        ,  0.        , -1.04823205,  1.05107251,  0.        ],\n",
       "       [ 0.        ,  0.        ,  0.        , -1.06583262,  1.06529164],\n",
       "       [ 0.        ,  0.        ,  0.        ,  0.        , -1.07970314]])"
      ]
     },
     "execution_count": 9,
     "metadata": {},
     "output_type": "execute_result"
    }
   ],
   "execution_count": 9
  },
  {
   "cell_type": "code",
   "id": "6ec861b4-f257-4f5c-bba6-3d307abf1789",
   "metadata": {
    "ExecuteTime": {
     "end_time": "2025-04-26T17:26:34.988351Z",
     "start_time": "2025-04-26T17:26:34.983347Z"
    }
   },
   "source": [
    "s_cv.grad_r_v"
   ],
   "outputs": [
    {
     "data": {
      "text/plain": [
       "array([[-0.98029605, -0.96866049, -0.95521752, -0.94198926, -0.92941592],\n",
       "       [-0.        , -0.96673466, -0.95331842, -0.94011646, -0.92756812],\n",
       "       [-0.        , -0.        , -0.95398724, -0.94077602, -0.92821887],\n",
       "       [-0.        , -0.        , -0.        , -0.93823363, -0.92571042],\n",
       "       [-0.        , -0.        , -0.        , -0.        , -0.92618051]])"
      ]
     },
     "execution_count": 10,
     "metadata": {},
     "output_type": "execute_result"
    }
   ],
   "execution_count": 10
  },
  {
   "cell_type": "code",
   "id": "94fc41fb-0a94-4f0d-a479-1d3807f88001",
   "metadata": {
    "ExecuteTime": {
     "end_time": "2025-04-26T17:26:35.110902Z",
     "start_time": "2025-04-26T17:26:35.105881Z"
    }
   },
   "source": [
    "pd.DataFrame(np.matmul(s_cv.grad_v_r, s_cv.grad_r_v)).style"
   ],
   "outputs": [
    {
     "data": {
      "text/plain": [
       "<pandas.io.formats.style.Styler at 0x228bd93a870>"
      ],
      "text/html": [
       "<style type=\"text/css\">\n",
       "</style>\n",
       "<table id=\"T_27e5f\">\n",
       "  <thead>\n",
       "    <tr>\n",
       "      <th class=\"blank level0\" >&nbsp;</th>\n",
       "      <th id=\"T_27e5f_level0_col0\" class=\"col_heading level0 col0\" >0</th>\n",
       "      <th id=\"T_27e5f_level0_col1\" class=\"col_heading level0 col1\" >1</th>\n",
       "      <th id=\"T_27e5f_level0_col2\" class=\"col_heading level0 col2\" >2</th>\n",
       "      <th id=\"T_27e5f_level0_col3\" class=\"col_heading level0 col3\" >3</th>\n",
       "      <th id=\"T_27e5f_level0_col4\" class=\"col_heading level0 col4\" >4</th>\n",
       "    </tr>\n",
       "  </thead>\n",
       "  <tbody>\n",
       "    <tr>\n",
       "      <th id=\"T_27e5f_level0_row0\" class=\"row_heading level0 row0\" >0</th>\n",
       "      <td id=\"T_27e5f_row0_col0\" class=\"data row0 col0\" >1.000000</td>\n",
       "      <td id=\"T_27e5f_row0_col1\" class=\"data row0 col1\" >0.000000</td>\n",
       "      <td id=\"T_27e5f_row0_col2\" class=\"data row0 col2\" >0.000000</td>\n",
       "      <td id=\"T_27e5f_row0_col3\" class=\"data row0 col3\" >0.000000</td>\n",
       "      <td id=\"T_27e5f_row0_col4\" class=\"data row0 col4\" >0.000000</td>\n",
       "    </tr>\n",
       "    <tr>\n",
       "      <th id=\"T_27e5f_level0_row1\" class=\"row_heading level0 row1\" >1</th>\n",
       "      <td id=\"T_27e5f_row1_col0\" class=\"data row1 col0\" >0.000000</td>\n",
       "      <td id=\"T_27e5f_row1_col1\" class=\"data row1 col1\" >1.000000</td>\n",
       "      <td id=\"T_27e5f_row1_col2\" class=\"data row1 col2\" >0.000000</td>\n",
       "      <td id=\"T_27e5f_row1_col3\" class=\"data row1 col3\" >0.000000</td>\n",
       "      <td id=\"T_27e5f_row1_col4\" class=\"data row1 col4\" >0.000000</td>\n",
       "    </tr>\n",
       "    <tr>\n",
       "      <th id=\"T_27e5f_level0_row2\" class=\"row_heading level0 row2\" >2</th>\n",
       "      <td id=\"T_27e5f_row2_col0\" class=\"data row2 col0\" >0.000000</td>\n",
       "      <td id=\"T_27e5f_row2_col1\" class=\"data row2 col1\" >0.000000</td>\n",
       "      <td id=\"T_27e5f_row2_col2\" class=\"data row2 col2\" >1.000000</td>\n",
       "      <td id=\"T_27e5f_row2_col3\" class=\"data row2 col3\" >-0.000000</td>\n",
       "      <td id=\"T_27e5f_row2_col4\" class=\"data row2 col4\" >-0.000000</td>\n",
       "    </tr>\n",
       "    <tr>\n",
       "      <th id=\"T_27e5f_level0_row3\" class=\"row_heading level0 row3\" >3</th>\n",
       "      <td id=\"T_27e5f_row3_col0\" class=\"data row3 col0\" >0.000000</td>\n",
       "      <td id=\"T_27e5f_row3_col1\" class=\"data row3 col1\" >0.000000</td>\n",
       "      <td id=\"T_27e5f_row3_col2\" class=\"data row3 col2\" >0.000000</td>\n",
       "      <td id=\"T_27e5f_row3_col3\" class=\"data row3 col3\" >1.000000</td>\n",
       "      <td id=\"T_27e5f_row3_col4\" class=\"data row3 col4\" >-0.000000</td>\n",
       "    </tr>\n",
       "    <tr>\n",
       "      <th id=\"T_27e5f_level0_row4\" class=\"row_heading level0 row4\" >4</th>\n",
       "      <td id=\"T_27e5f_row4_col0\" class=\"data row4 col0\" >0.000000</td>\n",
       "      <td id=\"T_27e5f_row4_col1\" class=\"data row4 col1\" >0.000000</td>\n",
       "      <td id=\"T_27e5f_row4_col2\" class=\"data row4 col2\" >0.000000</td>\n",
       "      <td id=\"T_27e5f_row4_col3\" class=\"data row4 col3\" >0.000000</td>\n",
       "      <td id=\"T_27e5f_row4_col4\" class=\"data row4 col4\" >1.000000</td>\n",
       "    </tr>\n",
       "  </tbody>\n",
       "</table>\n"
      ]
     },
     "execution_count": 11,
     "metadata": {},
     "output_type": "execute_result"
    }
   ],
   "execution_count": 11
  },
  {
   "cell_type": "markdown",
   "id": "c4c8c9fc-8778-4bf7-8a42-f5be0f491cc9",
   "metadata": {},
   "source": [
    "## Delta/Delta Cross-Gamma on a 5Y IRS expressed in Par space"
   ]
  },
  {
   "cell_type": "code",
   "id": "6407fc60-da03-4732-bcee-fd3b33d7dbdd",
   "metadata": {
    "ExecuteTime": {
     "end_time": "2025-04-26T17:26:35.155461Z",
     "start_time": "2025-04-26T17:26:35.151791Z"
    }
   },
   "source": [
    "portfolio = Portfolio([\n",
    "    Swap2(datetime(2022, 1, 1), 5*12, 12, 12, fixed_rate=1.270, notional=-100e6),\n",
    "])"
   ],
   "outputs": [],
   "execution_count": 12
  },
  {
   "cell_type": "code",
   "id": "9c4f42d8-2e02-4d6a-abdb-879a60e375a8",
   "metadata": {
    "ExecuteTime": {
     "end_time": "2025-04-26T17:26:35.185014Z",
     "start_time": "2025-04-26T17:26:35.162938Z"
    }
   },
   "source": [
    "names = [\"1Y\", \"2Y\", \"3Y\", \"4Y\", \"5Y\"]\n",
    "ss, sz, zz = portfolio.cross_gamma(s_cv, swaps=True)\n",
    "G = np.block([[ss, sz, ss + sz],\n",
    "              [sz.T, zz, sz.T + zz],\n",
    "              [(ss + sz).T, (sz.T + zz).T, ss + sz + sz.T + zz]])\n",
    "labels = [\"1Ys\", \"2Ys\", \"3Ys\", \"4Ys\", \"5Ys\", \n",
    "          \"1Yz\", \"2Yz\", \"3Yz\", \"4Yz\", \"5Yz\", \n",
    "          \"1Yr\", \"2Yr\", \"3Yr\", \"4Yr\", \"5Yr\"]\n",
    "df = pd.DataFrame(G, index=labels, columns=labels)\n",
    "df.style.format(\"{:,.0f}\").applymap(lambda v: \"color: red;\" if v < 0 else \"\")"
   ],
   "outputs": [
    {
     "name": "stdout",
     "output_type": "stream",
     "text": [
      "fwd tolerance reached (gauss_newton) after 2 iterations, func: 1.6313050888215477e-24\n",
      "bck tolerance reached (gauss_newton) after 2 iterations, func: 2.4551778103837574e-24\n",
      "fwd tolerance reached (gauss_newton) after 2 iterations, func: 3.36070212228274e-24\n",
      "bck tolerance reached (gauss_newton) after 2 iterations, func: 3.8346906762989824e-24\n",
      "fwd tolerance reached (gauss_newton) after 2 iterations, func: 2.8645783284812227e-24\n",
      "bck tolerance reached (gauss_newton) after 2 iterations, func: 2.948624654007214e-24\n",
      "fwd tolerance reached (gauss_newton) after 2 iterations, func: 2.883094373040957e-24\n",
      "bck tolerance reached (gauss_newton) after 2 iterations, func: 2.897018359663787e-24\n",
      "fwd tolerance reached (gauss_newton) after 2 iterations, func: 3.0461158317637264e-24\n",
      "bck tolerance reached (gauss_newton) after 2 iterations, func: 2.906940405610624e-24\n"
     ]
    },
    {
     "name": "stderr",
     "output_type": "stream",
     "text": [
      "C:\\Users\\nicol\\AppData\\Local\\Temp\\ipykernel_37172\\1890375550.py:10: FutureWarning: Styler.applymap has been deprecated. Use Styler.map instead.\n",
      "  df.style.format(\"{:,.0f}\").applymap(lambda v: \"color: red;\" if v < 0 else \"\")\n"
     ]
    },
    {
     "data": {
      "text/plain": [
       "<pandas.io.formats.style.Styler at 0x228bd281670>"
      ],
      "text/html": [
       "<style type=\"text/css\">\n",
       "#T_cfb78_row0_col0, #T_cfb78_row0_col9, #T_cfb78_row0_col14, #T_cfb78_row1_col1, #T_cfb78_row1_col5, #T_cfb78_row1_col9, #T_cfb78_row1_col10, #T_cfb78_row1_col14, #T_cfb78_row2_col2, #T_cfb78_row2_col5, #T_cfb78_row2_col6, #T_cfb78_row2_col9, #T_cfb78_row2_col10, #T_cfb78_row2_col11, #T_cfb78_row2_col14, #T_cfb78_row3_col3, #T_cfb78_row3_col5, #T_cfb78_row3_col6, #T_cfb78_row3_col7, #T_cfb78_row3_col9, #T_cfb78_row3_col10, #T_cfb78_row3_col11, #T_cfb78_row3_col12, #T_cfb78_row3_col14, #T_cfb78_row4_col4, #T_cfb78_row4_col5, #T_cfb78_row4_col6, #T_cfb78_row4_col7, #T_cfb78_row4_col8, #T_cfb78_row4_col10, #T_cfb78_row4_col11, #T_cfb78_row4_col12, #T_cfb78_row4_col13, #T_cfb78_row5_col1, #T_cfb78_row5_col2, #T_cfb78_row5_col3, #T_cfb78_row5_col4, #T_cfb78_row5_col11, #T_cfb78_row5_col12, #T_cfb78_row5_col13, #T_cfb78_row5_col14, #T_cfb78_row6_col2, #T_cfb78_row6_col3, #T_cfb78_row6_col4, #T_cfb78_row6_col12, #T_cfb78_row6_col13, #T_cfb78_row6_col14, #T_cfb78_row7_col3, #T_cfb78_row7_col4, #T_cfb78_row7_col13, #T_cfb78_row7_col14, #T_cfb78_row8_col4, #T_cfb78_row8_col14, #T_cfb78_row9_col0, #T_cfb78_row9_col1, #T_cfb78_row9_col2, #T_cfb78_row9_col3, #T_cfb78_row9_col10, #T_cfb78_row9_col11, #T_cfb78_row9_col12, #T_cfb78_row9_col13, #T_cfb78_row10_col1, #T_cfb78_row10_col2, #T_cfb78_row10_col3, #T_cfb78_row10_col4, #T_cfb78_row10_col9, #T_cfb78_row10_col11, #T_cfb78_row10_col12, #T_cfb78_row10_col13, #T_cfb78_row10_col14, #T_cfb78_row11_col2, #T_cfb78_row11_col3, #T_cfb78_row11_col4, #T_cfb78_row11_col5, #T_cfb78_row11_col9, #T_cfb78_row11_col10, #T_cfb78_row11_col12, #T_cfb78_row11_col13, #T_cfb78_row11_col14, #T_cfb78_row12_col3, #T_cfb78_row12_col4, #T_cfb78_row12_col5, #T_cfb78_row12_col6, #T_cfb78_row12_col9, #T_cfb78_row12_col10, #T_cfb78_row12_col11, #T_cfb78_row12_col13, #T_cfb78_row12_col14, #T_cfb78_row13_col4, #T_cfb78_row13_col5, #T_cfb78_row13_col6, #T_cfb78_row13_col7, #T_cfb78_row13_col9, #T_cfb78_row13_col10, #T_cfb78_row13_col11, #T_cfb78_row13_col12, #T_cfb78_row13_col14, #T_cfb78_row14_col0, #T_cfb78_row14_col1, #T_cfb78_row14_col2, #T_cfb78_row14_col3, #T_cfb78_row14_col5, #T_cfb78_row14_col6, #T_cfb78_row14_col7, #T_cfb78_row14_col8, #T_cfb78_row14_col10, #T_cfb78_row14_col11, #T_cfb78_row14_col12, #T_cfb78_row14_col13 {\n",
       "  color: red;\n",
       "}\n",
       "</style>\n",
       "<table id=\"T_cfb78\">\n",
       "  <thead>\n",
       "    <tr>\n",
       "      <th class=\"blank level0\" >&nbsp;</th>\n",
       "      <th id=\"T_cfb78_level0_col0\" class=\"col_heading level0 col0\" >1Ys</th>\n",
       "      <th id=\"T_cfb78_level0_col1\" class=\"col_heading level0 col1\" >2Ys</th>\n",
       "      <th id=\"T_cfb78_level0_col2\" class=\"col_heading level0 col2\" >3Ys</th>\n",
       "      <th id=\"T_cfb78_level0_col3\" class=\"col_heading level0 col3\" >4Ys</th>\n",
       "      <th id=\"T_cfb78_level0_col4\" class=\"col_heading level0 col4\" >5Ys</th>\n",
       "      <th id=\"T_cfb78_level0_col5\" class=\"col_heading level0 col5\" >1Yz</th>\n",
       "      <th id=\"T_cfb78_level0_col6\" class=\"col_heading level0 col6\" >2Yz</th>\n",
       "      <th id=\"T_cfb78_level0_col7\" class=\"col_heading level0 col7\" >3Yz</th>\n",
       "      <th id=\"T_cfb78_level0_col8\" class=\"col_heading level0 col8\" >4Yz</th>\n",
       "      <th id=\"T_cfb78_level0_col9\" class=\"col_heading level0 col9\" >5Yz</th>\n",
       "      <th id=\"T_cfb78_level0_col10\" class=\"col_heading level0 col10\" >1Yr</th>\n",
       "      <th id=\"T_cfb78_level0_col11\" class=\"col_heading level0 col11\" >2Yr</th>\n",
       "      <th id=\"T_cfb78_level0_col12\" class=\"col_heading level0 col12\" >3Yr</th>\n",
       "      <th id=\"T_cfb78_level0_col13\" class=\"col_heading level0 col13\" >4Yr</th>\n",
       "      <th id=\"T_cfb78_level0_col14\" class=\"col_heading level0 col14\" >5Yr</th>\n",
       "    </tr>\n",
       "  </thead>\n",
       "  <tbody>\n",
       "    <tr>\n",
       "      <th id=\"T_cfb78_level0_row0\" class=\"row_heading level0 row0\" >1Ys</th>\n",
       "      <td id=\"T_cfb78_row0_col0\" class=\"data row0 col0\" >-0</td>\n",
       "      <td id=\"T_cfb78_row0_col1\" class=\"data row0 col1\" >0</td>\n",
       "      <td id=\"T_cfb78_row0_col2\" class=\"data row0 col2\" >0</td>\n",
       "      <td id=\"T_cfb78_row0_col3\" class=\"data row0 col3\" >0</td>\n",
       "      <td id=\"T_cfb78_row0_col4\" class=\"data row0 col4\" >0</td>\n",
       "      <td id=\"T_cfb78_row0_col5\" class=\"data row0 col5\" >1</td>\n",
       "      <td id=\"T_cfb78_row0_col6\" class=\"data row0 col6\" >0</td>\n",
       "      <td id=\"T_cfb78_row0_col7\" class=\"data row0 col7\" >0</td>\n",
       "      <td id=\"T_cfb78_row0_col8\" class=\"data row0 col8\" >0</td>\n",
       "      <td id=\"T_cfb78_row0_col9\" class=\"data row0 col9\" >-0</td>\n",
       "      <td id=\"T_cfb78_row0_col10\" class=\"data row0 col10\" >1</td>\n",
       "      <td id=\"T_cfb78_row0_col11\" class=\"data row0 col11\" >0</td>\n",
       "      <td id=\"T_cfb78_row0_col12\" class=\"data row0 col12\" >0</td>\n",
       "      <td id=\"T_cfb78_row0_col13\" class=\"data row0 col13\" >0</td>\n",
       "      <td id=\"T_cfb78_row0_col14\" class=\"data row0 col14\" >-0</td>\n",
       "    </tr>\n",
       "    <tr>\n",
       "      <th id=\"T_cfb78_level0_row1\" class=\"row_heading level0 row1\" >2Ys</th>\n",
       "      <td id=\"T_cfb78_row1_col0\" class=\"data row1 col0\" >0</td>\n",
       "      <td id=\"T_cfb78_row1_col1\" class=\"data row1 col1\" >-0</td>\n",
       "      <td id=\"T_cfb78_row1_col2\" class=\"data row1 col2\" >0</td>\n",
       "      <td id=\"T_cfb78_row1_col3\" class=\"data row1 col3\" >0</td>\n",
       "      <td id=\"T_cfb78_row1_col4\" class=\"data row1 col4\" >0</td>\n",
       "      <td id=\"T_cfb78_row1_col5\" class=\"data row1 col5\" >-2</td>\n",
       "      <td id=\"T_cfb78_row1_col6\" class=\"data row1 col6\" >4</td>\n",
       "      <td id=\"T_cfb78_row1_col7\" class=\"data row1 col7\" >0</td>\n",
       "      <td id=\"T_cfb78_row1_col8\" class=\"data row1 col8\" >0</td>\n",
       "      <td id=\"T_cfb78_row1_col9\" class=\"data row1 col9\" >-0</td>\n",
       "      <td id=\"T_cfb78_row1_col10\" class=\"data row1 col10\" >-2</td>\n",
       "      <td id=\"T_cfb78_row1_col11\" class=\"data row1 col11\" >4</td>\n",
       "      <td id=\"T_cfb78_row1_col12\" class=\"data row1 col12\" >0</td>\n",
       "      <td id=\"T_cfb78_row1_col13\" class=\"data row1 col13\" >0</td>\n",
       "      <td id=\"T_cfb78_row1_col14\" class=\"data row1 col14\" >-0</td>\n",
       "    </tr>\n",
       "    <tr>\n",
       "      <th id=\"T_cfb78_level0_row2\" class=\"row_heading level0 row2\" >3Ys</th>\n",
       "      <td id=\"T_cfb78_row2_col0\" class=\"data row2 col0\" >0</td>\n",
       "      <td id=\"T_cfb78_row2_col1\" class=\"data row2 col1\" >0</td>\n",
       "      <td id=\"T_cfb78_row2_col2\" class=\"data row2 col2\" >-0</td>\n",
       "      <td id=\"T_cfb78_row2_col3\" class=\"data row2 col3\" >0</td>\n",
       "      <td id=\"T_cfb78_row2_col4\" class=\"data row2 col4\" >0</td>\n",
       "      <td id=\"T_cfb78_row2_col5\" class=\"data row2 col5\" >-0</td>\n",
       "      <td id=\"T_cfb78_row2_col6\" class=\"data row2 col6\" >-6</td>\n",
       "      <td id=\"T_cfb78_row2_col7\" class=\"data row2 col7\" >9</td>\n",
       "      <td id=\"T_cfb78_row2_col8\" class=\"data row2 col8\" >0</td>\n",
       "      <td id=\"T_cfb78_row2_col9\" class=\"data row2 col9\" >-0</td>\n",
       "      <td id=\"T_cfb78_row2_col10\" class=\"data row2 col10\" >-0</td>\n",
       "      <td id=\"T_cfb78_row2_col11\" class=\"data row2 col11\" >-6</td>\n",
       "      <td id=\"T_cfb78_row2_col12\" class=\"data row2 col12\" >9</td>\n",
       "      <td id=\"T_cfb78_row2_col13\" class=\"data row2 col13\" >0</td>\n",
       "      <td id=\"T_cfb78_row2_col14\" class=\"data row2 col14\" >-0</td>\n",
       "    </tr>\n",
       "    <tr>\n",
       "      <th id=\"T_cfb78_level0_row3\" class=\"row_heading level0 row3\" >4Ys</th>\n",
       "      <td id=\"T_cfb78_row3_col0\" class=\"data row3 col0\" >0</td>\n",
       "      <td id=\"T_cfb78_row3_col1\" class=\"data row3 col1\" >0</td>\n",
       "      <td id=\"T_cfb78_row3_col2\" class=\"data row3 col2\" >0</td>\n",
       "      <td id=\"T_cfb78_row3_col3\" class=\"data row3 col3\" >-0</td>\n",
       "      <td id=\"T_cfb78_row3_col4\" class=\"data row3 col4\" >0</td>\n",
       "      <td id=\"T_cfb78_row3_col5\" class=\"data row3 col5\" >-0</td>\n",
       "      <td id=\"T_cfb78_row3_col6\" class=\"data row3 col6\" >-0</td>\n",
       "      <td id=\"T_cfb78_row3_col7\" class=\"data row3 col7\" >-12</td>\n",
       "      <td id=\"T_cfb78_row3_col8\" class=\"data row3 col8\" >16</td>\n",
       "      <td id=\"T_cfb78_row3_col9\" class=\"data row3 col9\" >-0</td>\n",
       "      <td id=\"T_cfb78_row3_col10\" class=\"data row3 col10\" >-0</td>\n",
       "      <td id=\"T_cfb78_row3_col11\" class=\"data row3 col11\" >-0</td>\n",
       "      <td id=\"T_cfb78_row3_col12\" class=\"data row3 col12\" >-12</td>\n",
       "      <td id=\"T_cfb78_row3_col13\" class=\"data row3 col13\" >16</td>\n",
       "      <td id=\"T_cfb78_row3_col14\" class=\"data row3 col14\" >-0</td>\n",
       "    </tr>\n",
       "    <tr>\n",
       "      <th id=\"T_cfb78_level0_row4\" class=\"row_heading level0 row4\" >5Ys</th>\n",
       "      <td id=\"T_cfb78_row4_col0\" class=\"data row4 col0\" >0</td>\n",
       "      <td id=\"T_cfb78_row4_col1\" class=\"data row4 col1\" >0</td>\n",
       "      <td id=\"T_cfb78_row4_col2\" class=\"data row4 col2\" >0</td>\n",
       "      <td id=\"T_cfb78_row4_col3\" class=\"data row4 col3\" >0</td>\n",
       "      <td id=\"T_cfb78_row4_col4\" class=\"data row4 col4\" >-0</td>\n",
       "      <td id=\"T_cfb78_row4_col5\" class=\"data row4 col5\" >-0</td>\n",
       "      <td id=\"T_cfb78_row4_col6\" class=\"data row4 col6\" >-0</td>\n",
       "      <td id=\"T_cfb78_row4_col7\" class=\"data row4 col7\" >-0</td>\n",
       "      <td id=\"T_cfb78_row4_col8\" class=\"data row4 col8\" >-20</td>\n",
       "      <td id=\"T_cfb78_row4_col9\" class=\"data row4 col9\" >25</td>\n",
       "      <td id=\"T_cfb78_row4_col10\" class=\"data row4 col10\" >-0</td>\n",
       "      <td id=\"T_cfb78_row4_col11\" class=\"data row4 col11\" >-0</td>\n",
       "      <td id=\"T_cfb78_row4_col12\" class=\"data row4 col12\" >-0</td>\n",
       "      <td id=\"T_cfb78_row4_col13\" class=\"data row4 col13\" >-20</td>\n",
       "      <td id=\"T_cfb78_row4_col14\" class=\"data row4 col14\" >24</td>\n",
       "    </tr>\n",
       "    <tr>\n",
       "      <th id=\"T_cfb78_level0_row5\" class=\"row_heading level0 row5\" >1Yz</th>\n",
       "      <td id=\"T_cfb78_row5_col0\" class=\"data row5 col0\" >1</td>\n",
       "      <td id=\"T_cfb78_row5_col1\" class=\"data row5 col1\" >-2</td>\n",
       "      <td id=\"T_cfb78_row5_col2\" class=\"data row5 col2\" >-0</td>\n",
       "      <td id=\"T_cfb78_row5_col3\" class=\"data row5 col3\" >-0</td>\n",
       "      <td id=\"T_cfb78_row5_col4\" class=\"data row5 col4\" >-0</td>\n",
       "      <td id=\"T_cfb78_row5_col5\" class=\"data row5 col5\" >0</td>\n",
       "      <td id=\"T_cfb78_row5_col6\" class=\"data row5 col6\" >0</td>\n",
       "      <td id=\"T_cfb78_row5_col7\" class=\"data row5 col7\" >0</td>\n",
       "      <td id=\"T_cfb78_row5_col8\" class=\"data row5 col8\" >0</td>\n",
       "      <td id=\"T_cfb78_row5_col9\" class=\"data row5 col9\" >0</td>\n",
       "      <td id=\"T_cfb78_row5_col10\" class=\"data row5 col10\" >1</td>\n",
       "      <td id=\"T_cfb78_row5_col11\" class=\"data row5 col11\" >-2</td>\n",
       "      <td id=\"T_cfb78_row5_col12\" class=\"data row5 col12\" >-0</td>\n",
       "      <td id=\"T_cfb78_row5_col13\" class=\"data row5 col13\" >-0</td>\n",
       "      <td id=\"T_cfb78_row5_col14\" class=\"data row5 col14\" >-0</td>\n",
       "    </tr>\n",
       "    <tr>\n",
       "      <th id=\"T_cfb78_level0_row6\" class=\"row_heading level0 row6\" >2Yz</th>\n",
       "      <td id=\"T_cfb78_row6_col0\" class=\"data row6 col0\" >0</td>\n",
       "      <td id=\"T_cfb78_row6_col1\" class=\"data row6 col1\" >4</td>\n",
       "      <td id=\"T_cfb78_row6_col2\" class=\"data row6 col2\" >-6</td>\n",
       "      <td id=\"T_cfb78_row6_col3\" class=\"data row6 col3\" >-0</td>\n",
       "      <td id=\"T_cfb78_row6_col4\" class=\"data row6 col4\" >-0</td>\n",
       "      <td id=\"T_cfb78_row6_col5\" class=\"data row6 col5\" >0</td>\n",
       "      <td id=\"T_cfb78_row6_col6\" class=\"data row6 col6\" >0</td>\n",
       "      <td id=\"T_cfb78_row6_col7\" class=\"data row6 col7\" >0</td>\n",
       "      <td id=\"T_cfb78_row6_col8\" class=\"data row6 col8\" >0</td>\n",
       "      <td id=\"T_cfb78_row6_col9\" class=\"data row6 col9\" >0</td>\n",
       "      <td id=\"T_cfb78_row6_col10\" class=\"data row6 col10\" >0</td>\n",
       "      <td id=\"T_cfb78_row6_col11\" class=\"data row6 col11\" >4</td>\n",
       "      <td id=\"T_cfb78_row6_col12\" class=\"data row6 col12\" >-6</td>\n",
       "      <td id=\"T_cfb78_row6_col13\" class=\"data row6 col13\" >-0</td>\n",
       "      <td id=\"T_cfb78_row6_col14\" class=\"data row6 col14\" >-0</td>\n",
       "    </tr>\n",
       "    <tr>\n",
       "      <th id=\"T_cfb78_level0_row7\" class=\"row_heading level0 row7\" >3Yz</th>\n",
       "      <td id=\"T_cfb78_row7_col0\" class=\"data row7 col0\" >0</td>\n",
       "      <td id=\"T_cfb78_row7_col1\" class=\"data row7 col1\" >0</td>\n",
       "      <td id=\"T_cfb78_row7_col2\" class=\"data row7 col2\" >9</td>\n",
       "      <td id=\"T_cfb78_row7_col3\" class=\"data row7 col3\" >-12</td>\n",
       "      <td id=\"T_cfb78_row7_col4\" class=\"data row7 col4\" >-0</td>\n",
       "      <td id=\"T_cfb78_row7_col5\" class=\"data row7 col5\" >0</td>\n",
       "      <td id=\"T_cfb78_row7_col6\" class=\"data row7 col6\" >0</td>\n",
       "      <td id=\"T_cfb78_row7_col7\" class=\"data row7 col7\" >0</td>\n",
       "      <td id=\"T_cfb78_row7_col8\" class=\"data row7 col8\" >0</td>\n",
       "      <td id=\"T_cfb78_row7_col9\" class=\"data row7 col9\" >0</td>\n",
       "      <td id=\"T_cfb78_row7_col10\" class=\"data row7 col10\" >0</td>\n",
       "      <td id=\"T_cfb78_row7_col11\" class=\"data row7 col11\" >0</td>\n",
       "      <td id=\"T_cfb78_row7_col12\" class=\"data row7 col12\" >9</td>\n",
       "      <td id=\"T_cfb78_row7_col13\" class=\"data row7 col13\" >-12</td>\n",
       "      <td id=\"T_cfb78_row7_col14\" class=\"data row7 col14\" >-0</td>\n",
       "    </tr>\n",
       "    <tr>\n",
       "      <th id=\"T_cfb78_level0_row8\" class=\"row_heading level0 row8\" >4Yz</th>\n",
       "      <td id=\"T_cfb78_row8_col0\" class=\"data row8 col0\" >0</td>\n",
       "      <td id=\"T_cfb78_row8_col1\" class=\"data row8 col1\" >0</td>\n",
       "      <td id=\"T_cfb78_row8_col2\" class=\"data row8 col2\" >0</td>\n",
       "      <td id=\"T_cfb78_row8_col3\" class=\"data row8 col3\" >16</td>\n",
       "      <td id=\"T_cfb78_row8_col4\" class=\"data row8 col4\" >-20</td>\n",
       "      <td id=\"T_cfb78_row8_col5\" class=\"data row8 col5\" >0</td>\n",
       "      <td id=\"T_cfb78_row8_col6\" class=\"data row8 col6\" >0</td>\n",
       "      <td id=\"T_cfb78_row8_col7\" class=\"data row8 col7\" >0</td>\n",
       "      <td id=\"T_cfb78_row8_col8\" class=\"data row8 col8\" >0</td>\n",
       "      <td id=\"T_cfb78_row8_col9\" class=\"data row8 col9\" >0</td>\n",
       "      <td id=\"T_cfb78_row8_col10\" class=\"data row8 col10\" >0</td>\n",
       "      <td id=\"T_cfb78_row8_col11\" class=\"data row8 col11\" >0</td>\n",
       "      <td id=\"T_cfb78_row8_col12\" class=\"data row8 col12\" >0</td>\n",
       "      <td id=\"T_cfb78_row8_col13\" class=\"data row8 col13\" >16</td>\n",
       "      <td id=\"T_cfb78_row8_col14\" class=\"data row8 col14\" >-20</td>\n",
       "    </tr>\n",
       "    <tr>\n",
       "      <th id=\"T_cfb78_level0_row9\" class=\"row_heading level0 row9\" >5Yz</th>\n",
       "      <td id=\"T_cfb78_row9_col0\" class=\"data row9 col0\" >-0</td>\n",
       "      <td id=\"T_cfb78_row9_col1\" class=\"data row9 col1\" >-0</td>\n",
       "      <td id=\"T_cfb78_row9_col2\" class=\"data row9 col2\" >-0</td>\n",
       "      <td id=\"T_cfb78_row9_col3\" class=\"data row9 col3\" >-0</td>\n",
       "      <td id=\"T_cfb78_row9_col4\" class=\"data row9 col4\" >25</td>\n",
       "      <td id=\"T_cfb78_row9_col5\" class=\"data row9 col5\" >0</td>\n",
       "      <td id=\"T_cfb78_row9_col6\" class=\"data row9 col6\" >0</td>\n",
       "      <td id=\"T_cfb78_row9_col7\" class=\"data row9 col7\" >0</td>\n",
       "      <td id=\"T_cfb78_row9_col8\" class=\"data row9 col8\" >0</td>\n",
       "      <td id=\"T_cfb78_row9_col9\" class=\"data row9 col9\" >0</td>\n",
       "      <td id=\"T_cfb78_row9_col10\" class=\"data row9 col10\" >-0</td>\n",
       "      <td id=\"T_cfb78_row9_col11\" class=\"data row9 col11\" >-0</td>\n",
       "      <td id=\"T_cfb78_row9_col12\" class=\"data row9 col12\" >-0</td>\n",
       "      <td id=\"T_cfb78_row9_col13\" class=\"data row9 col13\" >-0</td>\n",
       "      <td id=\"T_cfb78_row9_col14\" class=\"data row9 col14\" >25</td>\n",
       "    </tr>\n",
       "    <tr>\n",
       "      <th id=\"T_cfb78_level0_row10\" class=\"row_heading level0 row10\" >1Yr</th>\n",
       "      <td id=\"T_cfb78_row10_col0\" class=\"data row10 col0\" >1</td>\n",
       "      <td id=\"T_cfb78_row10_col1\" class=\"data row10 col1\" >-2</td>\n",
       "      <td id=\"T_cfb78_row10_col2\" class=\"data row10 col2\" >-0</td>\n",
       "      <td id=\"T_cfb78_row10_col3\" class=\"data row10 col3\" >-0</td>\n",
       "      <td id=\"T_cfb78_row10_col4\" class=\"data row10 col4\" >-0</td>\n",
       "      <td id=\"T_cfb78_row10_col5\" class=\"data row10 col5\" >1</td>\n",
       "      <td id=\"T_cfb78_row10_col6\" class=\"data row10 col6\" >0</td>\n",
       "      <td id=\"T_cfb78_row10_col7\" class=\"data row10 col7\" >0</td>\n",
       "      <td id=\"T_cfb78_row10_col8\" class=\"data row10 col8\" >0</td>\n",
       "      <td id=\"T_cfb78_row10_col9\" class=\"data row10 col9\" >-0</td>\n",
       "      <td id=\"T_cfb78_row10_col10\" class=\"data row10 col10\" >2</td>\n",
       "      <td id=\"T_cfb78_row10_col11\" class=\"data row10 col11\" >-2</td>\n",
       "      <td id=\"T_cfb78_row10_col12\" class=\"data row10 col12\" >-0</td>\n",
       "      <td id=\"T_cfb78_row10_col13\" class=\"data row10 col13\" >-0</td>\n",
       "      <td id=\"T_cfb78_row10_col14\" class=\"data row10 col14\" >-0</td>\n",
       "    </tr>\n",
       "    <tr>\n",
       "      <th id=\"T_cfb78_level0_row11\" class=\"row_heading level0 row11\" >2Yr</th>\n",
       "      <td id=\"T_cfb78_row11_col0\" class=\"data row11 col0\" >0</td>\n",
       "      <td id=\"T_cfb78_row11_col1\" class=\"data row11 col1\" >4</td>\n",
       "      <td id=\"T_cfb78_row11_col2\" class=\"data row11 col2\" >-6</td>\n",
       "      <td id=\"T_cfb78_row11_col3\" class=\"data row11 col3\" >-0</td>\n",
       "      <td id=\"T_cfb78_row11_col4\" class=\"data row11 col4\" >-0</td>\n",
       "      <td id=\"T_cfb78_row11_col5\" class=\"data row11 col5\" >-2</td>\n",
       "      <td id=\"T_cfb78_row11_col6\" class=\"data row11 col6\" >4</td>\n",
       "      <td id=\"T_cfb78_row11_col7\" class=\"data row11 col7\" >0</td>\n",
       "      <td id=\"T_cfb78_row11_col8\" class=\"data row11 col8\" >0</td>\n",
       "      <td id=\"T_cfb78_row11_col9\" class=\"data row11 col9\" >-0</td>\n",
       "      <td id=\"T_cfb78_row11_col10\" class=\"data row11 col10\" >-2</td>\n",
       "      <td id=\"T_cfb78_row11_col11\" class=\"data row11 col11\" >8</td>\n",
       "      <td id=\"T_cfb78_row11_col12\" class=\"data row11 col12\" >-6</td>\n",
       "      <td id=\"T_cfb78_row11_col13\" class=\"data row11 col13\" >-0</td>\n",
       "      <td id=\"T_cfb78_row11_col14\" class=\"data row11 col14\" >-0</td>\n",
       "    </tr>\n",
       "    <tr>\n",
       "      <th id=\"T_cfb78_level0_row12\" class=\"row_heading level0 row12\" >3Yr</th>\n",
       "      <td id=\"T_cfb78_row12_col0\" class=\"data row12 col0\" >0</td>\n",
       "      <td id=\"T_cfb78_row12_col1\" class=\"data row12 col1\" >0</td>\n",
       "      <td id=\"T_cfb78_row12_col2\" class=\"data row12 col2\" >9</td>\n",
       "      <td id=\"T_cfb78_row12_col3\" class=\"data row12 col3\" >-12</td>\n",
       "      <td id=\"T_cfb78_row12_col4\" class=\"data row12 col4\" >-0</td>\n",
       "      <td id=\"T_cfb78_row12_col5\" class=\"data row12 col5\" >-0</td>\n",
       "      <td id=\"T_cfb78_row12_col6\" class=\"data row12 col6\" >-6</td>\n",
       "      <td id=\"T_cfb78_row12_col7\" class=\"data row12 col7\" >9</td>\n",
       "      <td id=\"T_cfb78_row12_col8\" class=\"data row12 col8\" >0</td>\n",
       "      <td id=\"T_cfb78_row12_col9\" class=\"data row12 col9\" >-0</td>\n",
       "      <td id=\"T_cfb78_row12_col10\" class=\"data row12 col10\" >-0</td>\n",
       "      <td id=\"T_cfb78_row12_col11\" class=\"data row12 col11\" >-6</td>\n",
       "      <td id=\"T_cfb78_row12_col12\" class=\"data row12 col12\" >18</td>\n",
       "      <td id=\"T_cfb78_row12_col13\" class=\"data row12 col13\" >-12</td>\n",
       "      <td id=\"T_cfb78_row12_col14\" class=\"data row12 col14\" >-0</td>\n",
       "    </tr>\n",
       "    <tr>\n",
       "      <th id=\"T_cfb78_level0_row13\" class=\"row_heading level0 row13\" >4Yr</th>\n",
       "      <td id=\"T_cfb78_row13_col0\" class=\"data row13 col0\" >0</td>\n",
       "      <td id=\"T_cfb78_row13_col1\" class=\"data row13 col1\" >0</td>\n",
       "      <td id=\"T_cfb78_row13_col2\" class=\"data row13 col2\" >0</td>\n",
       "      <td id=\"T_cfb78_row13_col3\" class=\"data row13 col3\" >16</td>\n",
       "      <td id=\"T_cfb78_row13_col4\" class=\"data row13 col4\" >-20</td>\n",
       "      <td id=\"T_cfb78_row13_col5\" class=\"data row13 col5\" >-0</td>\n",
       "      <td id=\"T_cfb78_row13_col6\" class=\"data row13 col6\" >-0</td>\n",
       "      <td id=\"T_cfb78_row13_col7\" class=\"data row13 col7\" >-12</td>\n",
       "      <td id=\"T_cfb78_row13_col8\" class=\"data row13 col8\" >16</td>\n",
       "      <td id=\"T_cfb78_row13_col9\" class=\"data row13 col9\" >-0</td>\n",
       "      <td id=\"T_cfb78_row13_col10\" class=\"data row13 col10\" >-0</td>\n",
       "      <td id=\"T_cfb78_row13_col11\" class=\"data row13 col11\" >-0</td>\n",
       "      <td id=\"T_cfb78_row13_col12\" class=\"data row13 col12\" >-12</td>\n",
       "      <td id=\"T_cfb78_row13_col13\" class=\"data row13 col13\" >32</td>\n",
       "      <td id=\"T_cfb78_row13_col14\" class=\"data row13 col14\" >-20</td>\n",
       "    </tr>\n",
       "    <tr>\n",
       "      <th id=\"T_cfb78_level0_row14\" class=\"row_heading level0 row14\" >5Yr</th>\n",
       "      <td id=\"T_cfb78_row14_col0\" class=\"data row14 col0\" >-0</td>\n",
       "      <td id=\"T_cfb78_row14_col1\" class=\"data row14 col1\" >-0</td>\n",
       "      <td id=\"T_cfb78_row14_col2\" class=\"data row14 col2\" >-0</td>\n",
       "      <td id=\"T_cfb78_row14_col3\" class=\"data row14 col3\" >-0</td>\n",
       "      <td id=\"T_cfb78_row14_col4\" class=\"data row14 col4\" >24</td>\n",
       "      <td id=\"T_cfb78_row14_col5\" class=\"data row14 col5\" >-0</td>\n",
       "      <td id=\"T_cfb78_row14_col6\" class=\"data row14 col6\" >-0</td>\n",
       "      <td id=\"T_cfb78_row14_col7\" class=\"data row14 col7\" >-0</td>\n",
       "      <td id=\"T_cfb78_row14_col8\" class=\"data row14 col8\" >-20</td>\n",
       "      <td id=\"T_cfb78_row14_col9\" class=\"data row14 col9\" >25</td>\n",
       "      <td id=\"T_cfb78_row14_col10\" class=\"data row14 col10\" >-0</td>\n",
       "      <td id=\"T_cfb78_row14_col11\" class=\"data row14 col11\" >-0</td>\n",
       "      <td id=\"T_cfb78_row14_col12\" class=\"data row14 col12\" >-0</td>\n",
       "      <td id=\"T_cfb78_row14_col13\" class=\"data row14 col13\" >-20</td>\n",
       "      <td id=\"T_cfb78_row14_col14\" class=\"data row14 col14\" >49</td>\n",
       "    </tr>\n",
       "  </tbody>\n",
       "</table>\n"
      ]
     },
     "execution_count": 13,
     "metadata": {},
     "output_type": "execute_result"
    }
   ],
   "execution_count": 13
  },
  {
   "cell_type": "code",
   "id": "6c42ee50-cf0c-44c0-b960-837dbfc3197c",
   "metadata": {
    "ExecuteTime": {
     "end_time": "2025-04-26T17:26:35.202035Z",
     "start_time": "2025-04-26T17:26:35.193861Z"
    }
   },
   "source": [
    "df2 = df.loc[[\"1Yr\", \"2Yr\", \"3Yr\", \"4Yr\", \"5Yr\"], [\"1Yr\", \"2Yr\", \"3Yr\", \"4Yr\", \"5Yr\"]]\n",
    "df2\n",
    "df2[\"Total\"] = df2.sum(axis=1)\n",
    "df2.loc[\"Total\", :] = df2.sum(axis=0)\n",
    "df2.style.format(\"{:,.1f}\").applymap(lambda v: \"color: red;\" if v < 0 else \"\")"
   ],
   "outputs": [
    {
     "name": "stderr",
     "output_type": "stream",
     "text": [
      "C:\\Users\\nicol\\AppData\\Local\\Temp\\ipykernel_37172\\2873948093.py:5: FutureWarning: Styler.applymap has been deprecated. Use Styler.map instead.\n",
      "  df2.style.format(\"{:,.1f}\").applymap(lambda v: \"color: red;\" if v < 0 else \"\")\n"
     ]
    },
    {
     "data": {
      "text/plain": [
       "<pandas.io.formats.style.Styler at 0x228bc9d2780>"
      ],
      "text/html": [
       "<style type=\"text/css\">\n",
       "#T_0b3ab_row0_col1, #T_0b3ab_row0_col2, #T_0b3ab_row0_col3, #T_0b3ab_row0_col4, #T_0b3ab_row0_col5, #T_0b3ab_row1_col0, #T_0b3ab_row1_col2, #T_0b3ab_row1_col3, #T_0b3ab_row1_col4, #T_0b3ab_row1_col5, #T_0b3ab_row2_col0, #T_0b3ab_row2_col1, #T_0b3ab_row2_col3, #T_0b3ab_row2_col4, #T_0b3ab_row2_col5, #T_0b3ab_row3_col0, #T_0b3ab_row3_col1, #T_0b3ab_row3_col2, #T_0b3ab_row3_col4, #T_0b3ab_row3_col5, #T_0b3ab_row4_col0, #T_0b3ab_row4_col1, #T_0b3ab_row4_col2, #T_0b3ab_row4_col3, #T_0b3ab_row5_col0, #T_0b3ab_row5_col1, #T_0b3ab_row5_col2, #T_0b3ab_row5_col3 {\n",
       "  color: red;\n",
       "}\n",
       "</style>\n",
       "<table id=\"T_0b3ab\">\n",
       "  <thead>\n",
       "    <tr>\n",
       "      <th class=\"blank level0\" >&nbsp;</th>\n",
       "      <th id=\"T_0b3ab_level0_col0\" class=\"col_heading level0 col0\" >1Yr</th>\n",
       "      <th id=\"T_0b3ab_level0_col1\" class=\"col_heading level0 col1\" >2Yr</th>\n",
       "      <th id=\"T_0b3ab_level0_col2\" class=\"col_heading level0 col2\" >3Yr</th>\n",
       "      <th id=\"T_0b3ab_level0_col3\" class=\"col_heading level0 col3\" >4Yr</th>\n",
       "      <th id=\"T_0b3ab_level0_col4\" class=\"col_heading level0 col4\" >5Yr</th>\n",
       "      <th id=\"T_0b3ab_level0_col5\" class=\"col_heading level0 col5\" >Total</th>\n",
       "    </tr>\n",
       "  </thead>\n",
       "  <tbody>\n",
       "    <tr>\n",
       "      <th id=\"T_0b3ab_level0_row0\" class=\"row_heading level0 row0\" >1Yr</th>\n",
       "      <td id=\"T_0b3ab_row0_col0\" class=\"data row0 col0\" >2.0</td>\n",
       "      <td id=\"T_0b3ab_row0_col1\" class=\"data row0 col1\" >-2.0</td>\n",
       "      <td id=\"T_0b3ab_row0_col2\" class=\"data row0 col2\" >-0.0</td>\n",
       "      <td id=\"T_0b3ab_row0_col3\" class=\"data row0 col3\" >-0.0</td>\n",
       "      <td id=\"T_0b3ab_row0_col4\" class=\"data row0 col4\" >-0.1</td>\n",
       "      <td id=\"T_0b3ab_row0_col5\" class=\"data row0 col5\" >-0.0</td>\n",
       "    </tr>\n",
       "    <tr>\n",
       "      <th id=\"T_0b3ab_level0_row1\" class=\"row_heading level0 row1\" >2Yr</th>\n",
       "      <td id=\"T_0b3ab_row1_col0\" class=\"data row1 col0\" >-2.0</td>\n",
       "      <td id=\"T_0b3ab_row1_col1\" class=\"data row1 col1\" >7.9</td>\n",
       "      <td id=\"T_0b3ab_row1_col2\" class=\"data row1 col2\" >-5.9</td>\n",
       "      <td id=\"T_0b3ab_row1_col3\" class=\"data row1 col3\" >-0.0</td>\n",
       "      <td id=\"T_0b3ab_row1_col4\" class=\"data row1 col4\" >-0.1</td>\n",
       "      <td id=\"T_0b3ab_row1_col5\" class=\"data row1 col5\" >-0.1</td>\n",
       "    </tr>\n",
       "    <tr>\n",
       "      <th id=\"T_0b3ab_level0_row2\" class=\"row_heading level0 row2\" >3Yr</th>\n",
       "      <td id=\"T_0b3ab_row2_col0\" class=\"data row2 col0\" >-0.0</td>\n",
       "      <td id=\"T_0b3ab_row2_col1\" class=\"data row2 col1\" >-5.9</td>\n",
       "      <td id=\"T_0b3ab_row2_col2\" class=\"data row2 col2\" >17.9</td>\n",
       "      <td id=\"T_0b3ab_row2_col3\" class=\"data row2 col3\" >-11.8</td>\n",
       "      <td id=\"T_0b3ab_row2_col4\" class=\"data row2 col4\" >-0.2</td>\n",
       "      <td id=\"T_0b3ab_row2_col5\" class=\"data row2 col5\" >-0.1</td>\n",
       "    </tr>\n",
       "    <tr>\n",
       "      <th id=\"T_0b3ab_level0_row3\" class=\"row_heading level0 row3\" >4Yr</th>\n",
       "      <td id=\"T_0b3ab_row3_col0\" class=\"data row3 col0\" >-0.0</td>\n",
       "      <td id=\"T_0b3ab_row3_col1\" class=\"data row3 col1\" >-0.0</td>\n",
       "      <td id=\"T_0b3ab_row3_col2\" class=\"data row3 col2\" >-11.8</td>\n",
       "      <td id=\"T_0b3ab_row3_col3\" class=\"data row3 col3\" >31.8</td>\n",
       "      <td id=\"T_0b3ab_row3_col4\" class=\"data row3 col4\" >-20.0</td>\n",
       "      <td id=\"T_0b3ab_row3_col5\" class=\"data row3 col5\" >-0.0</td>\n",
       "    </tr>\n",
       "    <tr>\n",
       "      <th id=\"T_0b3ab_level0_row4\" class=\"row_heading level0 row4\" >5Yr</th>\n",
       "      <td id=\"T_0b3ab_row4_col0\" class=\"data row4 col0\" >-0.1</td>\n",
       "      <td id=\"T_0b3ab_row4_col1\" class=\"data row4 col1\" >-0.1</td>\n",
       "      <td id=\"T_0b3ab_row4_col2\" class=\"data row4 col2\" >-0.2</td>\n",
       "      <td id=\"T_0b3ab_row4_col3\" class=\"data row4 col3\" >-20.0</td>\n",
       "      <td id=\"T_0b3ab_row4_col4\" class=\"data row4 col4\" >49.0</td>\n",
       "      <td id=\"T_0b3ab_row4_col5\" class=\"data row4 col5\" >28.7</td>\n",
       "    </tr>\n",
       "    <tr>\n",
       "      <th id=\"T_0b3ab_level0_row5\" class=\"row_heading level0 row5\" >Total</th>\n",
       "      <td id=\"T_0b3ab_row5_col0\" class=\"data row5 col0\" >-0.0</td>\n",
       "      <td id=\"T_0b3ab_row5_col1\" class=\"data row5 col1\" >-0.1</td>\n",
       "      <td id=\"T_0b3ab_row5_col2\" class=\"data row5 col2\" >-0.1</td>\n",
       "      <td id=\"T_0b3ab_row5_col3\" class=\"data row5 col3\" >-0.0</td>\n",
       "      <td id=\"T_0b3ab_row5_col4\" class=\"data row5 col4\" >28.7</td>\n",
       "      <td id=\"T_0b3ab_row5_col5\" class=\"data row5 col5\" >28.4</td>\n",
       "    </tr>\n",
       "  </tbody>\n",
       "</table>\n"
      ]
     },
     "execution_count": 14,
     "metadata": {},
     "output_type": "execute_result"
    }
   ],
   "execution_count": 14
  },
  {
   "cell_type": "markdown",
   "id": "15b3939e-80c6-4af9-aa0e-90f8caf69265",
   "metadata": {},
   "source": [
    "Comparison with the simple formula"
   ]
  },
  {
   "cell_type": "code",
   "id": "e833b6f6-eaba-48a9-a8d7-95310a432181",
   "metadata": {
    "ExecuteTime": {
     "end_time": "2025-04-26T17:26:35.220077Z",
     "start_time": "2025-04-26T17:26:35.211451Z"
    }
   },
   "source": [
    "df = pd.DataFrame(portfolio.risk(s_cv), index=names)\n",
    "df.style.format(\"{:,.0f}\").applymap(lambda v: \"color: red;\" if v < 0 else \"\")"
   ],
   "outputs": [
    {
     "name": "stderr",
     "output_type": "stream",
     "text": [
      "C:\\Users\\nicol\\AppData\\Local\\Temp\\ipykernel_37172\\2226592326.py:2: FutureWarning: Styler.applymap has been deprecated. Use Styler.map instead.\n",
      "  df.style.format(\"{:,.0f}\").applymap(lambda v: \"color: red;\" if v < 0 else \"\")\n"
     ]
    },
    {
     "data": {
      "text/plain": [
       "<pandas.io.formats.style.Styler at 0x228bd9deab0>"
      ],
      "text/html": [
       "<style type=\"text/css\">\n",
       "#T_d1698_row4_col0 {\n",
       "  color: red;\n",
       "}\n",
       "</style>\n",
       "<table id=\"T_d1698\">\n",
       "  <thead>\n",
       "    <tr>\n",
       "      <th class=\"blank level0\" >&nbsp;</th>\n",
       "      <th id=\"T_d1698_level0_col0\" class=\"col_heading level0 col0\" >0</th>\n",
       "    </tr>\n",
       "  </thead>\n",
       "  <tbody>\n",
       "    <tr>\n",
       "      <th id=\"T_d1698_level0_row0\" class=\"row_heading level0 row0\" >1Y</th>\n",
       "      <td id=\"T_d1698_row0_col0\" class=\"data row0 col0\" >0</td>\n",
       "    </tr>\n",
       "    <tr>\n",
       "      <th id=\"T_d1698_level0_row1\" class=\"row_heading level0 row1\" >2Y</th>\n",
       "      <td id=\"T_d1698_row1_col0\" class=\"data row1 col0\" >0</td>\n",
       "    </tr>\n",
       "    <tr>\n",
       "      <th id=\"T_d1698_level0_row2\" class=\"row_heading level0 row2\" >3Y</th>\n",
       "      <td id=\"T_d1698_row2_col0\" class=\"data row2 col0\" >0</td>\n",
       "    </tr>\n",
       "    <tr>\n",
       "      <th id=\"T_d1698_level0_row3\" class=\"row_heading level0 row3\" >4Y</th>\n",
       "      <td id=\"T_d1698_row3_col0\" class=\"data row3 col0\" >0</td>\n",
       "    </tr>\n",
       "    <tr>\n",
       "      <th id=\"T_d1698_level0_row4\" class=\"row_heading level0 row4\" >5Y</th>\n",
       "      <td id=\"T_d1698_row4_col0\" class=\"data row4 col0\" >-48,260</td>\n",
       "    </tr>\n",
       "  </tbody>\n",
       "</table>\n"
      ]
     },
     "execution_count": 15,
     "metadata": {},
     "output_type": "execute_result"
    }
   ],
   "execution_count": 15
  },
  {
   "cell_type": "markdown",
   "id": "ac633038-2868-4779-be7e-b8822562179a",
   "metadata": {},
   "source": [
    "$$\\frac{D^2 P}{D \\mathbf{r}^2} \\approx - \\frac{h+i}{10,000} S = \\frac{6 * 48,260}{10,000} = 28.9 $$"
   ]
  }
 ],
 "metadata": {
  "kernelspec": {
   "display_name": "Python 3 (ipykernel)",
   "language": "python",
   "name": "python3"
  },
  "language_info": {
   "codemirror_mode": {
    "name": "ipython",
    "version": 3
   },
   "file_extension": ".py",
   "mimetype": "text/x-python",
   "name": "python",
   "nbconvert_exporter": "python",
   "pygments_lexer": "ipython3",
   "version": "3.9.5"
  }
 },
 "nbformat": 4,
 "nbformat_minor": 5
}
