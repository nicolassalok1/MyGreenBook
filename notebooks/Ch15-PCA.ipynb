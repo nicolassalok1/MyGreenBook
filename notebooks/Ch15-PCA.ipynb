{
 "cells": [
  {
   "cell_type": "code",
   "id": "ea9ee291-d0d2-4715-9cad-106029e99d30",
   "metadata": {
    "ExecuteTime": {
     "end_time": "2025-04-26T17:26:28.581460Z",
     "start_time": "2025-04-26T17:26:27.624952Z"
    }
   },
   "source": [
    "import module_loader\n",
    "import pandas as pd\n",
    "from bookirds.curves import *\n",
    "from bookirds.dual import Dual"
   ],
   "outputs": [],
   "execution_count": 1
  },
  {
   "cell_type": "markdown",
   "id": "a8a1fe0a-5710-4fef-b304-ebfe5e118528",
   "metadata": {},
   "source": [
    "# Principal Component Analysis Methods\n",
    "\n",
    "### Build a simple curve for risking and pricing"
   ]
  },
  {
   "cell_type": "code",
   "id": "983d5e1d-09e5-4270-83cd-f1d7e8d6eac4",
   "metadata": {
    "ExecuteTime": {
     "end_time": "2025-04-26T17:26:28.603403Z",
     "start_time": "2025-04-26T17:26:28.581460Z"
    }
   },
   "source": [
    "nodes = {\n",
    "    datetime(2022, 1, 1): Dual(1, {\"v0\": 1}),\n",
    "    datetime(2024, 1, 1): Dual(1, {\"v1\": 1}),\n",
    "    datetime(2027, 1, 1): Dual(1, {\"v2\": 1}),\n",
    "    datetime(2032, 1, 1): Dual(1, {\"v3\": 1}),\n",
    "    datetime(2052, 1, 1): Dual(1, {\"v4\": 1}),\n",
    "}\n",
    "swaps = {\n",
    "    Swap(datetime(2022, 1, 1), 12*2, 12, 12): 1.20,\n",
    "    Swap(datetime(2022, 1, 1), 12*5, 12, 12): 1.66,\n",
    "    Swap(datetime(2022, 1, 1), 12*10, 12, 12): 1.93,\n",
    "    Swap(datetime(2022, 1, 1), 12*30, 12, 12): 2.20,\n",
    "}\n",
    "s_cv = SolvedCurve(nodes=nodes, interpolation=\"log_linear\", swaps=list(swaps.keys()), obj_rates=list(swaps.values()))\n",
    "s_cv.iterate()  "
   ],
   "outputs": [
    {
     "data": {
      "text/plain": [
       "'tolerance reached (gauss_newton) after 5 iterations, func: 5.269421734819802e-25'"
      ]
     },
     "execution_count": 2,
     "metadata": {},
     "output_type": "execute_result"
    }
   ],
   "execution_count": 2
  },
  {
   "cell_type": "markdown",
   "id": "90fd6e9e-0af0-4984-8a9e-a7054947e8b7",
   "metadata": {},
   "source": [
    "### Add a short historical data sample for covariance"
   ]
  },
  {
   "cell_type": "code",
   "id": "a157d10b-0064-410f-afb9-796f23217928",
   "metadata": {
    "ExecuteTime": {
     "end_time": "2025-04-26T17:26:28.732325Z",
     "start_time": "2025-04-26T17:26:28.725868Z"
    }
   },
   "source": [
    "historical_rates = pd.DataFrame({\n",
    "    \"2Y\": [1.199, 1.228, 1.210, 1.215, 1.203, 1.159, 1.175, 1.188, 1.159, 1.100],\n",
    "    \"5Y\": [1.663, 1.696, 1.665, 1.680, 1.677, 1.657, 1.673, 1.676, 1.653, 1.600],\n",
    "    \"10Y\": [1.928, 1.945, 1.934, 1.93, 1.934, 1.931, 1.958, 1.972, 1.932, 1.900],\n",
    "    \"30Y\": [2.201, 2.217, 2.228, 2.239, 2.226, 2.235, 2.242, 2.236, 2.22, 2.200],\n",
    "})\n",
    "historical_chgs = historical_rates.diff(-1)*100\n",
    "Q = historical_chgs.cov().to_numpy()\n",
    "Q"
   ],
   "outputs": [
    {
     "data": {
      "text/plain": [
       "array([[8.66      , 7.3775    , 5.13625   , 2.185     ],\n",
       "       [7.3775    , 7.3075    , 4.73      , 2.1575    ],\n",
       "       [5.13625   , 4.73      , 4.89111111, 1.76236111],\n",
       "       [2.185     , 2.1575    , 1.76236111, 1.86111111]])"
      ]
     },
     "execution_count": 3,
     "metadata": {},
     "output_type": "execute_result"
    }
   ],
   "execution_count": 3
  },
  {
   "cell_type": "markdown",
   "id": "f2a6b7f0-24cc-45d2-9c3f-9ac7f5017b3e",
   "metadata": {},
   "source": [
    "### Create a portfolio of swaps replicating the risks in the text"
   ]
  },
  {
   "cell_type": "code",
   "id": "b8f8765a-5102-4747-be90-c39d05c8a8a8",
   "metadata": {
    "ExecuteTime": {
     "end_time": "2025-04-26T17:26:28.801331Z",
     "start_time": "2025-04-26T17:26:28.797958Z"
    }
   },
   "source": [
    "portfolio = Portfolio(objects=[\n",
    "    Swap(datetime(2022,1,1), 12*2, 12, 12, notional=-1.272e6),\n",
    "    Swap(datetime(2022,1,1), 12*5, 12, 12, notional=313545),\n",
    "    Swap(datetime(2022,1,1), 12*10, 12, 12, notional=109931),\n",
    "    Swap(datetime(2022,1,1), 12*30, 12, 12, notional=27160),\n",
    "])  "
   ],
   "outputs": [],
   "execution_count": 4
  },
  {
   "cell_type": "markdown",
   "id": "cfb47c04-7cc8-4e4a-a1bd-c2ffc7e0d8ef",
   "metadata": {},
   "source": [
    "### Utilise all the PCA methods displaying results"
   ]
  },
  {
   "cell_type": "code",
   "id": "2761c673-a147-4745-8f16-bcd324813eb5",
   "metadata": {
    "ExecuteTime": {
     "end_time": "2025-04-26T17:26:28.835870Z",
     "start_time": "2025-04-26T17:26:28.829252Z"
    }
   },
   "source": [
    "lambd, E = portfolio.pca(Q)\n",
    "print(lambd)\n",
    "print(E)"
   ],
   "outputs": [
    {
     "name": "stdout",
     "output_type": "stream",
     "text": [
      "[19.58213009  1.52567666  1.05899056  0.5529249 ]\n",
      "[[-0.64607277  0.40863261 -0.05733184 -0.64212337]\n",
      " [-0.5922391   0.25563257  0.18094029  0.74240518]\n",
      " [-0.44001486 -0.72630264 -0.5273608   0.0276041 ]\n",
      " [-0.19552431 -0.49005699  0.82816922 -0.18907706]]\n"
     ]
    }
   ],
   "execution_count": 5
  },
  {
   "cell_type": "code",
   "id": "862a9054-b07d-4cf1-bea3-3135be9eed58",
   "metadata": {
    "ExecuteTime": {
     "end_time": "2025-04-26T17:26:28.874405Z",
     "start_time": "2025-04-26T17:26:28.865962Z"
    }
   },
   "source": [
    "portfolio.historical_multipliers(Q, historical_chgs)"
   ],
   "outputs": [
    {
     "data": {
      "text/plain": [
       "          0         1         2         3\n",
       "0  6.153178 -0.406849 -0.768125 -0.152018\n",
       "1 -2.003498  0.871097 -0.942093  1.564148\n",
       "2  2.514779 -0.736256 -1.273402 -0.393355\n",
       "3  0.233179 -0.176537  1.364321 -0.624503\n",
       "4 -2.718918  2.135376 -0.702667 -0.981917\n",
       "5  4.570520  0.844200  0.737655  0.077537\n",
       "6  2.780586 -0.282155  1.346729  0.640112\n",
       "7 -4.044346 -2.313345 -0.443199 -0.166568\n",
       "8 -7.485479  0.064470  0.680782  0.036564\n",
       "9       NaN       NaN       NaN       NaN"
      ],
      "text/html": [
       "<div>\n",
       "<style scoped>\n",
       "    .dataframe tbody tr th:only-of-type {\n",
       "        vertical-align: middle;\n",
       "    }\n",
       "\n",
       "    .dataframe tbody tr th {\n",
       "        vertical-align: top;\n",
       "    }\n",
       "\n",
       "    .dataframe thead th {\n",
       "        text-align: right;\n",
       "    }\n",
       "</style>\n",
       "<table border=\"1\" class=\"dataframe\">\n",
       "  <thead>\n",
       "    <tr style=\"text-align: right;\">\n",
       "      <th></th>\n",
       "      <th>0</th>\n",
       "      <th>1</th>\n",
       "      <th>2</th>\n",
       "      <th>3</th>\n",
       "    </tr>\n",
       "  </thead>\n",
       "  <tbody>\n",
       "    <tr>\n",
       "      <th>0</th>\n",
       "      <td>6.153178</td>\n",
       "      <td>-0.406849</td>\n",
       "      <td>-0.768125</td>\n",
       "      <td>-0.152018</td>\n",
       "    </tr>\n",
       "    <tr>\n",
       "      <th>1</th>\n",
       "      <td>-2.003498</td>\n",
       "      <td>0.871097</td>\n",
       "      <td>-0.942093</td>\n",
       "      <td>1.564148</td>\n",
       "    </tr>\n",
       "    <tr>\n",
       "      <th>2</th>\n",
       "      <td>2.514779</td>\n",
       "      <td>-0.736256</td>\n",
       "      <td>-1.273402</td>\n",
       "      <td>-0.393355</td>\n",
       "    </tr>\n",
       "    <tr>\n",
       "      <th>3</th>\n",
       "      <td>0.233179</td>\n",
       "      <td>-0.176537</td>\n",
       "      <td>1.364321</td>\n",
       "      <td>-0.624503</td>\n",
       "    </tr>\n",
       "    <tr>\n",
       "      <th>4</th>\n",
       "      <td>-2.718918</td>\n",
       "      <td>2.135376</td>\n",
       "      <td>-0.702667</td>\n",
       "      <td>-0.981917</td>\n",
       "    </tr>\n",
       "    <tr>\n",
       "      <th>5</th>\n",
       "      <td>4.570520</td>\n",
       "      <td>0.844200</td>\n",
       "      <td>0.737655</td>\n",
       "      <td>0.077537</td>\n",
       "    </tr>\n",
       "    <tr>\n",
       "      <th>6</th>\n",
       "      <td>2.780586</td>\n",
       "      <td>-0.282155</td>\n",
       "      <td>1.346729</td>\n",
       "      <td>0.640112</td>\n",
       "    </tr>\n",
       "    <tr>\n",
       "      <th>7</th>\n",
       "      <td>-4.044346</td>\n",
       "      <td>-2.313345</td>\n",
       "      <td>-0.443199</td>\n",
       "      <td>-0.166568</td>\n",
       "    </tr>\n",
       "    <tr>\n",
       "      <th>8</th>\n",
       "      <td>-7.485479</td>\n",
       "      <td>0.064470</td>\n",
       "      <td>0.680782</td>\n",
       "      <td>0.036564</td>\n",
       "    </tr>\n",
       "    <tr>\n",
       "      <th>9</th>\n",
       "      <td>NaN</td>\n",
       "      <td>NaN</td>\n",
       "      <td>NaN</td>\n",
       "      <td>NaN</td>\n",
       "    </tr>\n",
       "  </tbody>\n",
       "</table>\n",
       "</div>"
      ]
     },
     "execution_count": 6,
     "metadata": {},
     "output_type": "execute_result"
    }
   ],
   "execution_count": 6
  },
  {
   "cell_type": "code",
   "id": "c146008f-a07b-4450-9724-749fbfab9a95",
   "metadata": {
    "ExecuteTime": {
     "end_time": "2025-04-26T17:26:28.938868Z",
     "start_time": "2025-04-26T17:26:28.915435Z"
    }
   },
   "source": [
    "portfolio.risk(s_cv)"
   ],
   "outputs": [
    {
     "name": "stdout",
     "output_type": "stream",
     "text": [
      "fwd tolerance reached (gauss_newton) after 2 iterations, func: 2.2162356878892258e-26\n",
      "bck tolerance reached (gauss_newton) after 2 iterations, func: 3.5983594368816996e-26\n",
      "fwd tolerance reached (gauss_newton) after 2 iterations, func: 1.6081028160543478e-26\n",
      "bck tolerance reached (gauss_newton) after 2 iterations, func: 8.522360181942048e-27\n",
      "fwd tolerance reached (gauss_newton) after 2 iterations, func: 1.1069779399365686e-25\n",
      "bck tolerance reached (gauss_newton) after 2 iterations, func: 8.291135189860455e-26\n",
      "fwd tolerance reached (gauss_newton) after 3 iterations, func: 1.3472659577430203e-26\n",
      "bck tolerance reached (gauss_newton) after 3 iterations, func: 1.3475617805824782e-26\n"
     ]
    },
    {
     "data": {
      "text/plain": [
       "array([[-249.89298866],\n",
       "       [ 150.00008767],\n",
       "       [  99.99986258],\n",
       "       [  60.00061436]])"
      ]
     },
     "execution_count": 7,
     "metadata": {},
     "output_type": "execute_result"
    }
   ],
   "execution_count": 7
  },
  {
   "cell_type": "code",
   "id": "3284b146-9bd9-4e50-84e7-ec9f59172e2d",
   "metadata": {
    "ExecuteTime": {
     "end_time": "2025-04-26T17:26:28.981247Z",
     "start_time": "2025-04-26T17:26:28.973540Z"
    }
   },
   "source": [
    "portfolio.pca_risk(s_cv, Q)"
   ],
   "outputs": [
    {
     "data": {
      "text/plain": [
       "array([[  16.88013548],\n",
       "       [-165.80340041],\n",
       "       [  38.42253791],\n",
       "       [ 263.23863763]])"
      ]
     },
     "execution_count": 8,
     "metadata": {},
     "output_type": "execute_result"
    }
   ],
   "execution_count": 8
  },
  {
   "cell_type": "code",
   "id": "62a42fec-5949-4953-8427-c64223319b47",
   "metadata": {
    "ExecuteTime": {
     "end_time": "2025-04-26T17:26:29.059892Z",
     "start_time": "2025-04-26T17:26:29.047796Z"
    }
   },
   "source": [
    "portfolio.pca_covar_alloc(s_cv, Q)"
   ],
   "outputs": [
    {
     "data": {
      "text/plain": [
       "array([[ 18.87367781],\n",
       "       [141.87115991],\n",
       "       [  5.28821294],\n",
       "       [129.60154216]])"
      ]
     },
     "execution_count": 9,
     "metadata": {},
     "output_type": "execute_result"
    }
   ],
   "execution_count": 9
  }
 ],
 "metadata": {
  "kernelspec": {
   "display_name": "Python 3 (ipykernel)",
   "language": "python",
   "name": "python3"
  },
  "language_info": {
   "codemirror_mode": {
    "name": "ipython",
    "version": 3
   },
   "file_extension": ".py",
   "mimetype": "text/x-python",
   "name": "python",
   "nbconvert_exporter": "python",
   "pygments_lexer": "ipython3",
   "version": "3.9.5"
  }
 },
 "nbformat": 4,
 "nbformat_minor": 5
}
