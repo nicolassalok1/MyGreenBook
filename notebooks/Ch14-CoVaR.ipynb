{
 "cells": [
  {
   "cell_type": "code",
   "id": "bc3c3708-168c-4a96-b53d-b12873747c0a",
   "metadata": {
    "ExecuteTime": {
     "end_time": "2025-04-26T17:26:26.781956Z",
     "start_time": "2025-04-26T17:26:25.970260Z"
    }
   },
   "source": [
    "import module_loader\n",
    "import pandas as pd\n",
    "from bookirds.curves import *\n",
    "from bookirds.dual import Dual"
   ],
   "outputs": [],
   "execution_count": 1
  },
  {
   "cell_type": "markdown",
   "id": "02819b91-f949-41e5-8e19-738dc88d3e5c",
   "metadata": {},
   "source": [
    "# Covariance Variance VaR Methods\n",
    "\n",
    "### Build a simple curve for risking and pricing"
   ]
  },
  {
   "cell_type": "code",
   "id": "71e3b2c8-d762-4b02-9cf4-7ca8a45d087e",
   "metadata": {
    "ExecuteTime": {
     "end_time": "2025-04-26T17:26:26.807388Z",
     "start_time": "2025-04-26T17:26:26.789764Z"
    }
   },
   "source": [
    "nodes = {\n",
    "    datetime(2022, 1, 1): Dual(1, {\"v0\": 1}),\n",
    "    datetime(2024, 1, 1): Dual(1, {\"v1\": 1}),\n",
    "    datetime(2027, 1, 1): Dual(1, {\"v2\": 1}),\n",
    "    datetime(2032, 1, 1): Dual(1, {\"v3\": 1}),\n",
    "    datetime(2052, 1, 1): Dual(1, {\"v4\": 1}),\n",
    "}\n",
    "swaps = {\n",
    "    Swap(datetime(2022, 1, 1), 12*2, 12, 12): 1.20,\n",
    "    Swap(datetime(2022, 1, 1), 12*5, 12, 12): 1.66,\n",
    "    Swap(datetime(2022, 1, 1), 12*10, 12, 12): 1.93,\n",
    "    Swap(datetime(2022, 1, 1), 12*30, 12, 12): 2.20,\n",
    "}\n",
    "s_cv = SolvedCurve(nodes=nodes, interpolation=\"log_linear\", swaps=list(swaps.keys()), obj_rates=list(swaps.values()))\n",
    "s_cv.iterate()  "
   ],
   "outputs": [
    {
     "data": {
      "text/plain": [
       "'tolerance reached (gauss_newton) after 5 iterations, func: 5.269421734819802e-25'"
      ]
     },
     "execution_count": 2,
     "metadata": {},
     "output_type": "execute_result"
    }
   ],
   "execution_count": 2
  },
  {
   "cell_type": "markdown",
   "id": "7cbccf8b-582e-43d6-93b5-1263c4c54759",
   "metadata": {},
   "source": [
    "### Add a short historical data sample for covariance"
   ]
  },
  {
   "cell_type": "code",
   "id": "bdd13748-347e-4e36-969b-cb67991d5148",
   "metadata": {
    "ExecuteTime": {
     "end_time": "2025-04-26T17:26:27.381519Z",
     "start_time": "2025-04-26T17:26:26.939824Z"
    }
   },
   "source": [
    "historical_rates = pd.DataFrame({\n",
    "    \"2Y\": [1.199, 1.228, 1.210, 1.215, 1.203, 1.159, 1.175, 1.188, 1.159, 1.100],\n",
    "    \"5Y\": [1.663, 1.696, 1.665, 1.680, 1.677, 1.657, 1.673, 1.676, 1.653, 1.600],\n",
    "    \"10Y\": [1.928, 1.945, 1.934, 1.93, 1.934, 1.931, 1.958, 1.972, 1.932, 1.900],\n",
    "    \"30Y\": [2.201, 2.217, 2.228, 2.239, 2.226, 2.235, 2.242, 2.236, 2.22, 2.200],\n",
    "})\n",
    "historical_chgs = historical_rates.diff(-1)*100\n",
    "historical_chgs.style.format(\"{:,.1f}\")"
   ],
   "outputs": [
    {
     "data": {
      "text/plain": [
       "<pandas.io.formats.style.Styler at 0x21194ced8b0>"
      ],
      "text/html": [
       "<style type=\"text/css\">\n",
       "</style>\n",
       "<table id=\"T_6f9f4\">\n",
       "  <thead>\n",
       "    <tr>\n",
       "      <th class=\"blank level0\" >&nbsp;</th>\n",
       "      <th id=\"T_6f9f4_level0_col0\" class=\"col_heading level0 col0\" >2Y</th>\n",
       "      <th id=\"T_6f9f4_level0_col1\" class=\"col_heading level0 col1\" >5Y</th>\n",
       "      <th id=\"T_6f9f4_level0_col2\" class=\"col_heading level0 col2\" >10Y</th>\n",
       "      <th id=\"T_6f9f4_level0_col3\" class=\"col_heading level0 col3\" >30Y</th>\n",
       "    </tr>\n",
       "  </thead>\n",
       "  <tbody>\n",
       "    <tr>\n",
       "      <th id=\"T_6f9f4_level0_row0\" class=\"row_heading level0 row0\" >0</th>\n",
       "      <td id=\"T_6f9f4_row0_col0\" class=\"data row0 col0\" >-2.9</td>\n",
       "      <td id=\"T_6f9f4_row0_col1\" class=\"data row0 col1\" >-3.3</td>\n",
       "      <td id=\"T_6f9f4_row0_col2\" class=\"data row0 col2\" >-1.7</td>\n",
       "      <td id=\"T_6f9f4_row0_col3\" class=\"data row0 col3\" >-1.6</td>\n",
       "    </tr>\n",
       "    <tr>\n",
       "      <th id=\"T_6f9f4_level0_row1\" class=\"row_heading level0 row1\" >1</th>\n",
       "      <td id=\"T_6f9f4_row1_col0\" class=\"data row1 col0\" >1.8</td>\n",
       "      <td id=\"T_6f9f4_row1_col1\" class=\"data row1 col1\" >3.1</td>\n",
       "      <td id=\"T_6f9f4_row1_col2\" class=\"data row1 col2\" >1.1</td>\n",
       "      <td id=\"T_6f9f4_row1_col3\" class=\"data row1 col3\" >-1.1</td>\n",
       "    </tr>\n",
       "    <tr>\n",
       "      <th id=\"T_6f9f4_level0_row2\" class=\"row_heading level0 row2\" >2</th>\n",
       "      <td id=\"T_6f9f4_row2_col0\" class=\"data row2 col0\" >-0.5</td>\n",
       "      <td id=\"T_6f9f4_row2_col1\" class=\"data row2 col1\" >-1.5</td>\n",
       "      <td id=\"T_6f9f4_row2_col2\" class=\"data row2 col2\" >0.4</td>\n",
       "      <td id=\"T_6f9f4_row2_col3\" class=\"data row2 col3\" >-1.1</td>\n",
       "    </tr>\n",
       "    <tr>\n",
       "      <th id=\"T_6f9f4_level0_row3\" class=\"row_heading level0 row3\" >3</th>\n",
       "      <td id=\"T_6f9f4_row3_col0\" class=\"data row3 col0\" >1.2</td>\n",
       "      <td id=\"T_6f9f4_row3_col1\" class=\"data row3 col1\" >0.3</td>\n",
       "      <td id=\"T_6f9f4_row3_col2\" class=\"data row3 col2\" >-0.4</td>\n",
       "      <td id=\"T_6f9f4_row3_col3\" class=\"data row3 col3\" >1.3</td>\n",
       "    </tr>\n",
       "    <tr>\n",
       "      <th id=\"T_6f9f4_level0_row4\" class=\"row_heading level0 row4\" >4</th>\n",
       "      <td id=\"T_6f9f4_row4_col0\" class=\"data row4 col0\" >4.4</td>\n",
       "      <td id=\"T_6f9f4_row4_col1\" class=\"data row4 col1\" >2.0</td>\n",
       "      <td id=\"T_6f9f4_row4_col2\" class=\"data row4 col2\" >0.3</td>\n",
       "      <td id=\"T_6f9f4_row4_col3\" class=\"data row4 col3\" >-0.9</td>\n",
       "    </tr>\n",
       "    <tr>\n",
       "      <th id=\"T_6f9f4_level0_row5\" class=\"row_heading level0 row5\" >5</th>\n",
       "      <td id=\"T_6f9f4_row5_col0\" class=\"data row5 col0\" >-1.6</td>\n",
       "      <td id=\"T_6f9f4_row5_col1\" class=\"data row5 col1\" >-1.6</td>\n",
       "      <td id=\"T_6f9f4_row5_col2\" class=\"data row5 col2\" >-2.7</td>\n",
       "      <td id=\"T_6f9f4_row5_col3\" class=\"data row5 col3\" >-0.7</td>\n",
       "    </tr>\n",
       "    <tr>\n",
       "      <th id=\"T_6f9f4_level0_row6\" class=\"row_heading level0 row6\" >6</th>\n",
       "      <td id=\"T_6f9f4_row6_col0\" class=\"data row6 col0\" >-1.3</td>\n",
       "      <td id=\"T_6f9f4_row6_col1\" class=\"data row6 col1\" >-0.3</td>\n",
       "      <td id=\"T_6f9f4_row6_col2\" class=\"data row6 col2\" >-1.4</td>\n",
       "      <td id=\"T_6f9f4_row6_col3\" class=\"data row6 col3\" >0.6</td>\n",
       "    </tr>\n",
       "    <tr>\n",
       "      <th id=\"T_6f9f4_level0_row7\" class=\"row_heading level0 row7\" >7</th>\n",
       "      <td id=\"T_6f9f4_row7_col0\" class=\"data row7 col0\" >2.9</td>\n",
       "      <td id=\"T_6f9f4_row7_col1\" class=\"data row7 col1\" >2.3</td>\n",
       "      <td id=\"T_6f9f4_row7_col2\" class=\"data row7 col2\" >4.0</td>\n",
       "      <td id=\"T_6f9f4_row7_col3\" class=\"data row7 col3\" >1.6</td>\n",
       "    </tr>\n",
       "    <tr>\n",
       "      <th id=\"T_6f9f4_level0_row8\" class=\"row_heading level0 row8\" >8</th>\n",
       "      <td id=\"T_6f9f4_row8_col0\" class=\"data row8 col0\" >5.9</td>\n",
       "      <td id=\"T_6f9f4_row8_col1\" class=\"data row8 col1\" >5.3</td>\n",
       "      <td id=\"T_6f9f4_row8_col2\" class=\"data row8 col2\" >3.2</td>\n",
       "      <td id=\"T_6f9f4_row8_col3\" class=\"data row8 col3\" >2.0</td>\n",
       "    </tr>\n",
       "    <tr>\n",
       "      <th id=\"T_6f9f4_level0_row9\" class=\"row_heading level0 row9\" >9</th>\n",
       "      <td id=\"T_6f9f4_row9_col0\" class=\"data row9 col0\" >nan</td>\n",
       "      <td id=\"T_6f9f4_row9_col1\" class=\"data row9 col1\" >nan</td>\n",
       "      <td id=\"T_6f9f4_row9_col2\" class=\"data row9 col2\" >nan</td>\n",
       "      <td id=\"T_6f9f4_row9_col3\" class=\"data row9 col3\" >nan</td>\n",
       "    </tr>\n",
       "  </tbody>\n",
       "</table>\n"
      ]
     },
     "execution_count": 3,
     "metadata": {},
     "output_type": "execute_result"
    }
   ],
   "execution_count": 3
  },
  {
   "cell_type": "code",
   "id": "02a82081-9d81-46c5-a8f6-d0ac00efd811",
   "metadata": {
    "ExecuteTime": {
     "end_time": "2025-04-26T17:26:27.467642Z",
     "start_time": "2025-04-26T17:26:27.461793Z"
    }
   },
   "source": [
    "Q = historical_chgs.cov().to_numpy()\n",
    "Q"
   ],
   "outputs": [
    {
     "data": {
      "text/plain": [
       "array([[8.66      , 7.3775    , 5.13625   , 2.185     ],\n",
       "       [7.3775    , 7.3075    , 4.73      , 2.1575    ],\n",
       "       [5.13625   , 4.73      , 4.89111111, 1.76236111],\n",
       "       [2.185     , 2.1575    , 1.76236111, 1.86111111]])"
      ]
     },
     "execution_count": 4,
     "metadata": {},
     "output_type": "execute_result"
    }
   ],
   "execution_count": 4
  },
  {
   "cell_type": "markdown",
   "id": "90652854-18c6-43cd-8aad-4dcbb733a80e",
   "metadata": {},
   "source": [
    "### Create a portfolio of swaps replicating the risks in the text"
   ]
  },
  {
   "cell_type": "code",
   "id": "ddf450c0-a5ca-4a2c-9e99-a62b537bc797",
   "metadata": {
    "ExecuteTime": {
     "end_time": "2025-04-26T17:26:27.565296Z",
     "start_time": "2025-04-26T17:26:27.561476Z"
    }
   },
   "source": [
    "# target = [-10000, 2500, 10000, -4000]\n",
    "# for i, swap in enumerate(swaps.keys()):\n",
    "#     swap.notional = (target[i] / swap.analytic_delta(s_cv) * 1e6).real\n",
    "    \n",
    "notional = [-50.9e6, 5.23e6, 11.0e6, -1.81e6]\n",
    "for i, swap in enumerate(swaps.keys()):\n",
    "    swap.notional = notional[i]"
   ],
   "outputs": [],
   "execution_count": 5
  },
  {
   "cell_type": "code",
   "id": "4e5d0505-e0f0-438b-8a08-2dfc7be4ffd4",
   "metadata": {
    "ExecuteTime": {
     "end_time": "2025-04-26T17:26:27.621947Z",
     "start_time": "2025-04-26T17:26:27.618683Z"
    }
   },
   "source": [
    "portfolio = Portfolio(objects=list(swaps.keys()))"
   ],
   "outputs": [],
   "execution_count": 6
  },
  {
   "cell_type": "markdown",
   "id": "839ce4bd-bda4-4f7b-8cc2-6e22ca84ce5f",
   "metadata": {},
   "source": [
    "### Utilise all the CoVaR methods displaying results in table"
   ]
  },
  {
   "cell_type": "code",
   "id": "e8a2f3fd-6ccf-472b-ac6f-bd4feef365de",
   "metadata": {
    "ExecuteTime": {
     "end_time": "2025-04-26T17:26:27.719803Z",
     "start_time": "2025-04-26T17:26:27.674621Z"
    }
   },
   "source": [
    "df = pd.DataFrame(\n",
    "    index=[\"2Y\", \"5Y\", \"10Y\", \"30Y\"],\n",
    "    data={\n",
    "        \"S\": portfolio.risk(s_cv)[:, 0],\n",
    "        \"S_trade\": portfolio.covar_smt(s_cv, Q)[:, 0],\n",
    "        \"c_impact\": portfolio.covar_smt_impact(s_cv, Q)[:, 0],\n",
    "        \"%\": portfolio.covar_smt_impact(s_cv, Q)[:, 0] / portfolio.covar(s_cv, Q) * 100,\n",
    "        \"VaR alloc\": portfolio.covar_alloc(s_cv, Q)[:, 0]\n",
    "    }\n",
    ")\n",
    "df.style.format(\"{:,.0f}\")"
   ],
   "outputs": [
    {
     "name": "stdout",
     "output_type": "stream",
     "text": [
      "fwd tolerance reached (gauss_newton) after 2 iterations, func: 2.2196277897816762e-26\n",
      "bck tolerance reached (gauss_newton) after 2 iterations, func: 3.590051745473591e-26\n",
      "fwd tolerance reached (gauss_newton) after 2 iterations, func: 1.6081619806222394e-26\n",
      "bck tolerance reached (gauss_newton) after 2 iterations, func: 8.558056137903299e-27\n",
      "fwd tolerance reached (gauss_newton) after 2 iterations, func: 1.1060470840684078e-25\n",
      "bck tolerance reached (gauss_newton) after 2 iterations, func: 8.277744275994328e-26\n",
      "fwd tolerance reached (gauss_newton) after 3 iterations, func: 1.3472659577430203e-26\n",
      "bck tolerance reached (gauss_newton) after 3 iterations, func: 1.3475617805824782e-26\n"
     ]
    },
    {
     "data": {
      "text/plain": [
       "<pandas.io.formats.style.Styler at 0x211958abf50>"
      ],
      "text/html": [
       "<style type=\"text/css\">\n",
       "</style>\n",
       "<table id=\"T_df822\">\n",
       "  <thead>\n",
       "    <tr>\n",
       "      <th class=\"blank level0\" >&nbsp;</th>\n",
       "      <th id=\"T_df822_level0_col0\" class=\"col_heading level0 col0\" >S</th>\n",
       "      <th id=\"T_df822_level0_col1\" class=\"col_heading level0 col1\" >S_trade</th>\n",
       "      <th id=\"T_df822_level0_col2\" class=\"col_heading level0 col2\" >c_impact</th>\n",
       "      <th id=\"T_df822_level0_col3\" class=\"col_heading level0 col3\" >%</th>\n",
       "      <th id=\"T_df822_level0_col4\" class=\"col_heading level0 col4\" >VaR alloc</th>\n",
       "    </tr>\n",
       "  </thead>\n",
       "  <tbody>\n",
       "    <tr>\n",
       "      <th id=\"T_df822_level0_row0\" class=\"row_heading level0 row0\" >2Y</th>\n",
       "      <td id=\"T_df822_row0_col0\" class=\"data row0 col0\" >-10,000</td>\n",
       "      <td id=\"T_df822_row0_col1\" class=\"data row0 col1\" >2,942</td>\n",
       "      <td id=\"T_df822_row0_col2\" class=\"data row0 col2\" >-2,513</td>\n",
       "      <td id=\"T_df822_row0_col3\" class=\"data row0 col3\" >-16</td>\n",
       "      <td id=\"T_df822_row0_col4\" class=\"data row0 col4\" >15,756</td>\n",
       "    </tr>\n",
       "    <tr>\n",
       "      <th id=\"T_df822_level0_row1\" class=\"row_heading level0 row1\" >5Y</th>\n",
       "      <td id=\"T_df822_row1_col0\" class=\"data row1 col0\" >2,502</td>\n",
       "      <td id=\"T_df822_row1_col1\" class=\"data row1 col1\" >2,297</td>\n",
       "      <td id=\"T_df822_row1_col2\" class=\"data row1 col2\" >-1,240</td>\n",
       "      <td id=\"T_df822_row1_col3\" class=\"data row1 col3\" >-8</td>\n",
       "      <td id=\"T_df822_row1_col4\" class=\"data row1 col4\" >-2,597</td>\n",
       "    </tr>\n",
       "    <tr>\n",
       "      <th id=\"T_df822_level0_row2\" class=\"row_heading level0 row2\" >10Y</th>\n",
       "      <td id=\"T_df822_row2_col0\" class=\"data row2 col0\" >10,006</td>\n",
       "      <td id=\"T_df822_row2_col1\" class=\"data row2 col1\" >-484</td>\n",
       "      <td id=\"T_df822_row2_col2\" class=\"data row2 col2\" >-36</td>\n",
       "      <td id=\"T_df822_row2_col3\" class=\"data row2 col3\" >-0</td>\n",
       "      <td id=\"T_df822_row2_col4\" class=\"data row2 col4\" >1,466</td>\n",
       "    </tr>\n",
       "    <tr>\n",
       "      <th id=\"T_df822_level0_row3\" class=\"row_heading level0 row3\" >30Y</th>\n",
       "      <td id=\"T_df822_row3_col0\" class=\"data row3 col0\" >-3,999</td>\n",
       "      <td id=\"T_df822_row3_col1\" class=\"data row3 col1\" >3,363</td>\n",
       "      <td id=\"T_df822_row3_col2\" class=\"data row3 col2\" >-664</td>\n",
       "      <td id=\"T_df822_row3_col3\" class=\"data row3 col3\" >-4</td>\n",
       "      <td id=\"T_df822_row3_col4\" class=\"data row3 col4\" >1,547</td>\n",
       "    </tr>\n",
       "  </tbody>\n",
       "</table>\n"
      ]
     },
     "execution_count": 7,
     "metadata": {},
     "output_type": "execute_result"
    }
   ],
   "execution_count": 7
  },
  {
   "cell_type": "code",
   "id": "bc2f6fb0-10bd-4c31-9552-d9756fa1c47e",
   "metadata": {
    "ExecuteTime": {
     "end_time": "2025-04-26T17:26:27.735808Z",
     "start_time": "2025-04-26T17:26:27.724808Z"
    }
   },
   "source": [
    "print(\"Total VaR multiplier: \", portfolio.covar(s_cv, Q))"
   ],
   "outputs": [
    {
     "name": "stdout",
     "output_type": "stream",
     "text": [
      "Total VaR multiplier:  16171.641399973932\n"
     ]
    }
   ],
   "execution_count": 8
  },
  {
   "cell_type": "markdown",
   "id": "1fe54b99-6d1b-4238-9b5f-4109b3b51be3",
   "metadata": {},
   "source": [
    "### Demonstrate the Multi-Instrument CoVaR methods"
   ]
  },
  {
   "cell_type": "code",
   "id": "7770efc0-ef8c-4dc7-94a2-569ffa75196a",
   "metadata": {
    "ExecuteTime": {
     "end_time": "2025-04-26T17:26:27.820342Z",
     "start_time": "2025-04-26T17:26:27.743698Z"
    }
   },
   "source": [
    "combinations = [(0,1), (0,2), (0,3), (1,2), (1,3), (2,3)]\n",
    "df_mmt = pd.DataFrame(index=[\"2Y\", \"5Y\", \"10Y\", \"30Y\", \"impact\"])\n",
    "for combo in combinations:\n",
    "    df_mmt.loc[[\"2Y\", \"5Y\", \"10Y\", \"30Y\"], f\"{combo}\"] = portfolio.covar_mmt(s_cv, Q, list(combo))[:, 0]\n",
    "    df_mmt.loc[\"impact\", f\"{combo}\"] = portfolio.covar_mmt_impact(s_cv, Q, list(combo))\n",
    "    \n",
    "df_mmt.style.format(\"{:,.0f}\")"
   ],
   "outputs": [
    {
     "data": {
      "text/plain": [
       "<pandas.io.formats.style.Styler at 0x21195b21640>"
      ],
      "text/html": [
       "<style type=\"text/css\">\n",
       "</style>\n",
       "<table id=\"T_1f242\">\n",
       "  <thead>\n",
       "    <tr>\n",
       "      <th class=\"blank level0\" >&nbsp;</th>\n",
       "      <th id=\"T_1f242_level0_col0\" class=\"col_heading level0 col0\" >(0, 1)</th>\n",
       "      <th id=\"T_1f242_level0_col1\" class=\"col_heading level0 col1\" >(0, 2)</th>\n",
       "      <th id=\"T_1f242_level0_col2\" class=\"col_heading level0 col2\" >(0, 3)</th>\n",
       "      <th id=\"T_1f242_level0_col3\" class=\"col_heading level0 col3\" >(1, 2)</th>\n",
       "      <th id=\"T_1f242_level0_col4\" class=\"col_heading level0 col4\" >(1, 3)</th>\n",
       "      <th id=\"T_1f242_level0_col5\" class=\"col_heading level0 col5\" >(2, 3)</th>\n",
       "    </tr>\n",
       "  </thead>\n",
       "  <tbody>\n",
       "    <tr>\n",
       "      <th id=\"T_1f242_level0_row0\" class=\"row_heading level0 row0\" >2Y</th>\n",
       "      <td id=\"T_1f242_row0_col0\" class=\"data row0 col0\" >7,042</td>\n",
       "      <td id=\"T_1f242_row0_col1\" class=\"data row0 col1\" >8,562</td>\n",
       "      <td id=\"T_1f242_row0_col2\" class=\"data row0 col2\" >2,975</td>\n",
       "      <td id=\"T_1f242_row0_col3\" class=\"data row0 col3\" >0</td>\n",
       "      <td id=\"T_1f242_row0_col4\" class=\"data row0 col4\" >0</td>\n",
       "      <td id=\"T_1f242_row0_col5\" class=\"data row0 col5\" >0</td>\n",
       "    </tr>\n",
       "    <tr>\n",
       "      <th id=\"T_1f242_level0_row1\" class=\"row_heading level0 row1\" >5Y</th>\n",
       "      <td id=\"T_1f242_row1_col0\" class=\"data row1 col0\" >-4,812</td>\n",
       "      <td id=\"T_1f242_row1_col1\" class=\"data row1 col1\" >0</td>\n",
       "      <td id=\"T_1f242_row1_col2\" class=\"data row1 col2\" >0</td>\n",
       "      <td id=\"T_1f242_row1_col3\" class=\"data row1 col3\" >6,979</td>\n",
       "      <td id=\"T_1f242_row1_col4\" class=\"data row1 col4\" >1,983</td>\n",
       "      <td id=\"T_1f242_row1_col5\" class=\"data row1 col5\" >0</td>\n",
       "    </tr>\n",
       "    <tr>\n",
       "      <th id=\"T_1f242_level0_row2\" class=\"row_heading level0 row2\" >10Y</th>\n",
       "      <td id=\"T_1f242_row2_col0\" class=\"data row2 col0\" >0</td>\n",
       "      <td id=\"T_1f242_row2_col1\" class=\"data row2 col1\" >-9,476</td>\n",
       "      <td id=\"T_1f242_row2_col2\" class=\"data row2 col2\" >0</td>\n",
       "      <td id=\"T_1f242_row2_col3\" class=\"data row2 col3\" >-7,234</td>\n",
       "      <td id=\"T_1f242_row2_col4\" class=\"data row2 col4\" >0</td>\n",
       "      <td id=\"T_1f242_row2_col5\" class=\"data row2 col5\" >-2,574</td>\n",
       "    </tr>\n",
       "    <tr>\n",
       "      <th id=\"T_1f242_level0_row3\" class=\"row_heading level0 row3\" >30Y</th>\n",
       "      <td id=\"T_1f242_row3_col0\" class=\"data row3 col0\" >0</td>\n",
       "      <td id=\"T_1f242_row3_col1\" class=\"data row3 col1\" >0</td>\n",
       "      <td id=\"T_1f242_row3_col2\" class=\"data row3 col2\" >-130</td>\n",
       "      <td id=\"T_1f242_row3_col3\" class=\"data row3 col3\" >0</td>\n",
       "      <td id=\"T_1f242_row3_col4\" class=\"data row3 col4\" >1,064</td>\n",
       "      <td id=\"T_1f242_row3_col5\" class=\"data row3 col5\" >5,800</td>\n",
       "    </tr>\n",
       "    <tr>\n",
       "      <th id=\"T_1f242_level0_row4\" class=\"row_heading level0 row4\" >impact</th>\n",
       "      <td id=\"T_1f242_row4_col0\" class=\"data row4 col0\" >-3,410</td>\n",
       "      <td id=\"T_1f242_row4_col1\" class=\"data row4 col1\" >-11,600</td>\n",
       "      <td id=\"T_1f242_row4_col2\" class=\"data row4 col2\" >-2,514</td>\n",
       "      <td id=\"T_1f242_row4_col3\" class=\"data row4 col3\" >-4,892</td>\n",
       "      <td id=\"T_1f242_row4_col4\" class=\"data row4 col4\" >-1,286</td>\n",
       "      <td id=\"T_1f242_row4_col5\" class=\"data row4 col5\" >-1,369</td>\n",
       "    </tr>\n",
       "  </tbody>\n",
       "</table>\n"
      ]
     },
     "execution_count": 9,
     "metadata": {},
     "output_type": "execute_result"
    }
   ],
   "execution_count": 9
  },
  {
   "cell_type": "markdown",
   "id": "275b1873-5555-44b1-8b10-7dc148c7b966",
   "metadata": {},
   "source": [
    "The specific example of the 2Y and 10Y combination is exemplified in the text."
   ]
  }
 ],
 "metadata": {
  "kernelspec": {
   "display_name": "Python 3 (ipykernel)",
   "language": "python",
   "name": "python3"
  },
  "language_info": {
   "codemirror_mode": {
    "name": "ipython",
    "version": 3
   },
   "file_extension": ".py",
   "mimetype": "text/x-python",
   "name": "python",
   "nbconvert_exporter": "python",
   "pygments_lexer": "ipython3",
   "version": "3.9.5"
  }
 },
 "nbformat": 4,
 "nbformat_minor": 5
}
