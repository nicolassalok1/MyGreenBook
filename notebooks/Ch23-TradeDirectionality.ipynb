{
 "cells": [
  {
   "cell_type": "code",
   "id": "70823b56-b69f-46cb-b15d-6a1b729372a0",
   "metadata": {
    "ExecuteTime": {
     "end_time": "2025-04-26T17:26:38.304599Z",
     "start_time": "2025-04-26T17:26:37.607631Z"
    }
   },
   "source": [
    "import module_loader\n",
    "import pandas as pd\n",
    "from bookirds.curves import *\n",
    "from bookirds.dual import Dual"
   ],
   "outputs": [],
   "execution_count": 1
  },
  {
   "cell_type": "markdown",
   "id": "26516857-1830-4335-a318-067c06409a8f",
   "metadata": {},
   "source": [
    "# Trade Directionality Hedging\n",
    "\n",
    "### Add a short historical data sample for covariance"
   ]
  },
  {
   "cell_type": "code",
   "id": "0f361921-60ed-4126-8212-9b1534ddde0d",
   "metadata": {
    "ExecuteTime": {
     "end_time": "2025-04-26T17:26:38.315676Z",
     "start_time": "2025-04-26T17:26:38.308622Z"
    }
   },
   "source": [
    "portfolio = Portfolio()\n",
    "historical_rates = pd.DataFrame({\n",
    "    \"2Y\": [1.199, 1.228, 1.210, 1.215, 1.203, 1.159, 1.175, 1.188, 1.159, 1.100],\n",
    "    \"5Y\": [1.663, 1.696, 1.665, 1.680, 1.677, 1.657, 1.673, 1.676, 1.653, 1.600],\n",
    "    \"10Y\": [1.928, 1.945, 1.934, 1.93, 1.934, 1.931, 1.958, 1.972, 1.932, 1.900],\n",
    "    \"30Y\": [2.201, 2.217, 2.228, 2.239, 2.226, 2.235, 2.242, 2.236, 2.22, 2.200],\n",
    "})\n",
    "historical_chgs = historical_rates.diff(-1)*100\n",
    "Q = historical_chgs.cov().to_numpy()\n",
    "Q"
   ],
   "outputs": [
    {
     "data": {
      "text/plain": [
       "array([[8.66      , 7.3775    , 5.13625   , 2.185     ],\n",
       "       [7.3775    , 7.3075    , 4.73      , 2.1575    ],\n",
       "       [5.13625   , 4.73      , 4.89111111, 1.76236111],\n",
       "       [2.185     , 2.1575    , 1.76236111, 1.86111111]])"
      ]
     },
     "execution_count": 2,
     "metadata": {},
     "output_type": "execute_result"
    }
   ],
   "execution_count": 2
  },
  {
   "cell_type": "markdown",
   "id": "1cba6a52-6a3e-4290-a682-0251d062c41a",
   "metadata": {},
   "source": [
    "### PCA Approach"
   ]
  },
  {
   "cell_type": "code",
   "id": "2d0ad420-0f31-4a62-b593-e576cc7c51c5",
   "metadata": {
    "ExecuteTime": {
     "end_time": "2025-04-26T17:26:38.473178Z",
     "start_time": "2025-04-26T17:26:38.459192Z"
    }
   },
   "source": [
    "lambd, E = portfolio.pca(Q)\n",
    "S_ini = np.array([-1, 2.0, -1, 0])[:, np.newaxis]\n",
    "portfolio.pca_hedge_adjustment(None, Q, S_ini)"
   ],
   "outputs": [
    {
     "data": {
      "text/plain": [
       "array([[-0.06356746],\n",
       "       [-0.05827074],\n",
       "       [-0.04329331],\n",
       "       [-0.01923775]])"
      ]
     },
     "execution_count": 3,
     "metadata": {},
     "output_type": "execute_result"
    }
   ],
   "execution_count": 3
  },
  {
   "cell_type": "markdown",
   "id": "7577993b-cede-47cd-87c7-62ba4c2c4727",
   "metadata": {},
   "source": [
    "The problem with the above minimal adjustment is that it includes a 30Y bucket even though 30Y was not considered in the original trade. We can explicitly set that bucket to be zero in our directionality adjustment."
   ]
  },
  {
   "cell_type": "code",
   "id": "5bc6a608-4e34-4ae8-ac96-7388cfa6f1c9",
   "metadata": {
    "ExecuteTime": {
     "end_time": "2025-04-26T17:26:38.564302Z",
     "start_time": "2025-04-26T17:26:38.558056Z"
    }
   },
   "source": [
    "x = portfolio.pca_hedge_adjustment(None, Q, S_ini, L=[3])\n",
    "x"
   ],
   "outputs": [
    {
     "data": {
      "text/plain": [
       "array([[-6.60942303e-02],\n",
       "       [-6.05869633e-02],\n",
       "       [-4.50141914e-02],\n",
       "       [ 1.05803249e-19]])"
      ]
     },
     "execution_count": 4,
     "metadata": {},
     "output_type": "execute_result"
    }
   ],
   "execution_count": 4
  },
  {
   "cell_type": "code",
   "id": "f39598b8-c21e-43c7-9ec8-d653bfef8fd4",
   "metadata": {
    "ExecuteTime": {
     "end_time": "2025-04-26T17:26:38.635512Z",
     "start_time": "2025-04-26T17:26:38.631741Z"
    }
   },
   "source": [
    "S = (S_ini + x)\n",
    "S"
   ],
   "outputs": [
    {
     "data": {
      "text/plain": [
       "array([[-1.06609423e+00],\n",
       "       [ 1.93941304e+00],\n",
       "       [-1.04501419e+00],\n",
       "       [ 1.05803249e-19]])"
      ]
     },
     "execution_count": 5,
     "metadata": {},
     "output_type": "execute_result"
    }
   ],
   "execution_count": 5
  },
  {
   "cell_type": "code",
   "id": "4f697856-7bcf-4dcc-a74d-3a780ee30f44",
   "metadata": {
    "ExecuteTime": {
     "end_time": "2025-04-26T17:26:38.707189Z",
     "start_time": "2025-04-26T17:26:38.704049Z"
    }
   },
   "source": [
    "delta_r = np.array([17.2, 18.1, 12.5, 8.1])[:, np.newaxis]\n",
    "print(\"PnL: \", np.matmul(S.T, delta_r))"
   ],
   "outputs": [
    {
     "name": "stdout",
     "output_type": "stream",
     "text": [
      "PnL:  [[3.70387781]]\n"
     ]
    }
   ],
   "execution_count": 6
  },
  {
   "cell_type": "markdown",
   "id": "5917c9e3-6a95-40f8-bbeb-75a67103f9df",
   "metadata": {},
   "source": [
    "Below we can calculate the non centralised PC multipliers and explain the PnL from PCA risks and multipliers. The PnL value is invariant."
   ]
  },
  {
   "cell_type": "code",
   "id": "7b85eff3-b59d-432f-a293-3d9f85912f10",
   "metadata": {
    "ExecuteTime": {
     "end_time": "2025-04-26T17:26:38.775247Z",
     "start_time": "2025-04-26T17:26:38.771212Z"
    }
   },
   "source": [
    "non_cent_multipliers = np.matmul(delta_r.T, E).T\n",
    "pca_risk = np.matmul(E.T, S)\n",
    "print(non_cent_multipliers, \"\\n\", pca_risk)"
   ],
   "outputs": [
    {
     "name": "stdout",
     "output_type": "stream",
     "text": [
      "[[-28.91591188]\n",
      " [ -1.39281418]\n",
      " [  2.40507236]\n",
      " [  1.20653883]] \n",
      " [[-5.55318383e-17]\n",
      " [ 8.19132846e-01]\n",
      " [ 9.63138609e-01]\n",
      " [ 2.09554764e+00]]\n"
     ]
    }
   ],
   "execution_count": 7
  },
  {
   "cell_type": "code",
   "id": "2c3ecf57-138e-4aa6-b2d4-84c4c4565a0b",
   "metadata": {
    "ExecuteTime": {
     "end_time": "2025-04-26T17:26:38.856559Z",
     "start_time": "2025-04-26T17:26:38.853325Z"
    }
   },
   "source": [
    "print(\"PnL from PCA: \", np.matmul(pca_risk.T, non_cent_multipliers))"
   ],
   "outputs": [
    {
     "name": "stdout",
     "output_type": "stream",
     "text": [
      "PnL from PCA:  [[3.70387781]]\n"
     ]
    }
   ],
   "execution_count": 8
  },
  {
   "cell_type": "markdown",
   "id": "22ba2c27-186f-424b-b13d-bd7d87cb0712",
   "metadata": {},
   "source": [
    "Since the risk to PC1 is zero we can determine the residuals if we exclude every PC except the first"
   ]
  },
  {
   "cell_type": "code",
   "id": "0bc003e6-1aab-4b1e-8512-2c5374a0b686",
   "metadata": {
    "ExecuteTime": {
     "end_time": "2025-04-26T17:26:38.930354Z",
     "start_time": "2025-04-26T17:26:38.922652Z"
    }
   },
   "source": [
    "nc_multiplier_neg = non_cent_multipliers.copy()\n",
    "nc_multiplier_neg[1,0] = 0\n",
    "nc_multiplier_neg[2,0] = 0\n",
    "nc_multiplier_neg[3,0] = 0"
   ],
   "outputs": [],
   "execution_count": 9
  },
  {
   "cell_type": "code",
   "id": "4c35d9e6-bdec-4258-86c8-23ef444d4490",
   "metadata": {
    "ExecuteTime": {
     "end_time": "2025-04-26T17:26:38.967564Z",
     "start_time": "2025-04-26T17:26:38.964521Z"
    }
   },
   "source": [
    "delta_r_adj = np.matmul(E, nc_multiplier_neg)\n",
    "delta_r_adj"
   ],
   "outputs": [
    {
     "data": {
      "text/plain": [
       "array([[18.68178329],\n",
       "       [17.1251335 ],\n",
       "       [12.72343084],\n",
       "       [ 5.65376358]])"
      ]
     },
     "execution_count": 10,
     "metadata": {},
     "output_type": "execute_result"
    }
   ],
   "execution_count": 10
  },
  {
   "cell_type": "code",
   "id": "60114d31-cc9f-4105-84eb-99584a642f8c",
   "metadata": {
    "ExecuteTime": {
     "end_time": "2025-04-26T17:26:39.020026Z",
     "start_time": "2025-04-26T17:26:39.016010Z"
    }
   },
   "source": [
    "residuals = delta_r - delta_r_adj\n",
    "residuals"
   ],
   "outputs": [
    {
     "data": {
      "text/plain": [
       "array([[-1.48178329],\n",
       "       [ 0.9748665 ],\n",
       "       [-0.22343084],\n",
       "       [ 2.44623642]])"
      ]
     },
     "execution_count": 11,
     "metadata": {},
     "output_type": "execute_result"
    }
   ],
   "execution_count": 11
  },
  {
   "cell_type": "markdown",
   "id": "44f1fabd-c6cb-4f23-a7db-311cd6e92ebf",
   "metadata": {},
   "source": [
    "The PnL from residuals is invariant since PC1 risk was explcitly set to be zero."
   ]
  },
  {
   "cell_type": "code",
   "id": "9cd1ccc2-213f-489d-b86c-ad3c2a515e12",
   "metadata": {
    "ExecuteTime": {
     "end_time": "2025-04-26T17:26:39.072766Z",
     "start_time": "2025-04-26T17:26:39.068538Z"
    }
   },
   "source": [
    "print(\"PnL from residuals: \", np.matmul(S.T, residuals))"
   ],
   "outputs": [
    {
     "name": "stdout",
     "output_type": "stream",
     "text": [
      "PnL from residuals:  [[3.70387781]]\n"
     ]
    }
   ],
   "execution_count": 12
  },
  {
   "cell_type": "markdown",
   "id": "1040e33d-c1d1-49e0-a9c6-1b841f3d43c5",
   "metadata": {},
   "source": [
    "### CoVaR Minimisation Approach"
   ]
  },
  {
   "cell_type": "code",
   "id": "d9c9220a-0a35-45e7-be6d-e351610570fc",
   "metadata": {
    "ExecuteTime": {
     "end_time": "2025-04-26T17:26:39.243147Z",
     "start_time": "2025-04-26T17:26:39.239723Z"
    }
   },
   "source": [
    "S_ini1 = np.array([-1, 2, -1.0, 0])[:, np.newaxis]\n",
    "S_ini2 = np.array([-1, 2, -1.0, 0])[:, np.newaxis]"
   ],
   "outputs": [],
   "execution_count": 13
  },
  {
   "cell_type": "code",
   "id": "4f2a497b-f5c7-49ec-98d2-461149d713df",
   "metadata": {
    "ExecuteTime": {
     "end_time": "2025-04-26T17:26:39.314563Z",
     "start_time": "2025-04-26T17:26:39.310405Z"
    }
   },
   "source": [
    "x1 = portfolio.covar_mmt(None, Q, [1], S_ini1)\n",
    "x2 = portfolio.covar_mmt(None, Q, [0,2], S_ini2)"
   ],
   "outputs": [],
   "execution_count": 14
  },
  {
   "cell_type": "code",
   "id": "cd4b9ae0-633f-4729-8509-d9eb7fde807d",
   "metadata": {
    "ExecuteTime": {
     "end_time": "2025-04-26T17:26:39.426728Z",
     "start_time": "2025-04-26T17:26:39.423328Z"
    }
   },
   "source": [
    "S1 = (S_ini1 + x1) \n",
    "S1 * 1.9394 / S1[1,0]"
   ],
   "outputs": [
    {
     "data": {
      "text/plain": [
       "array([[-1.17052781],\n",
       "       [ 1.9394    ],\n",
       "       [-1.17052781],\n",
       "       [ 0.        ]])"
      ]
     },
     "execution_count": 15,
     "metadata": {},
     "output_type": "execute_result"
    }
   ],
   "execution_count": 15
  },
  {
   "cell_type": "code",
   "id": "6d8d96b9-c6a9-45f7-88dc-87a57c24e59d",
   "metadata": {
    "ExecuteTime": {
     "end_time": "2025-04-26T17:26:39.487719Z",
     "start_time": "2025-04-26T17:26:39.484488Z"
    }
   },
   "source": [
    "S2 = (S_ini2 + x2)\n",
    "S2 * 1.9394 / S2[1,0]"
   ],
   "outputs": [
    {
     "data": {
      "text/plain": [
       "array([[-1.43121075],\n",
       "       [ 1.9394    ],\n",
       "       [-0.37257501],\n",
       "       [ 0.        ]])"
      ]
     },
     "execution_count": 16,
     "metadata": {},
     "output_type": "execute_result"
    }
   ],
   "execution_count": 16
  },
  {
   "cell_type": "markdown",
   "id": "761dd4f6-045c-406f-ac70-f5d0bafe5a8b",
   "metadata": {},
   "source": [
    "### Multivariate Least Squares Regression"
   ]
  },
  {
   "cell_type": "code",
   "id": "c51b1b52-31a8-424c-8ba5-0426fe5fff4c",
   "metadata": {
    "ExecuteTime": {
     "end_time": "2025-04-26T17:26:39.553242Z",
     "start_time": "2025-04-26T17:26:39.549433Z"
    }
   },
   "source": [
    "delta_r = historical_chgs.iloc[:9,:].to_numpy()\n",
    "delta_r = delta_r - delta_r.mean(axis=0)\n",
    "delta_r"
   ],
   "outputs": [
    {
     "data": {
      "text/plain": [
       "array([[-4.        , -4.        , -2.01111111, -1.61111111],\n",
       "       [ 0.7       ,  2.4       ,  0.78888889, -1.11111111],\n",
       "       [-1.6       , -2.2       ,  0.08888889, -1.11111111],\n",
       "       [ 0.1       , -0.4       , -0.71111111,  1.28888889],\n",
       "       [ 3.3       ,  1.3       , -0.01111111, -0.91111111],\n",
       "       [-2.7       , -2.3       , -3.01111111, -0.71111111],\n",
       "       [-2.4       , -1.        , -1.71111111,  0.58888889],\n",
       "       [ 1.8       ,  1.6       ,  3.68888889,  1.58888889],\n",
       "       [ 4.8       ,  4.6       ,  2.88888889,  1.98888889]])"
      ]
     },
     "execution_count": 17,
     "metadata": {},
     "output_type": "execute_result"
    }
   ],
   "execution_count": 17
  },
  {
   "cell_type": "markdown",
   "id": "654a1683-a1e4-48fe-a7c1-8841292a4278",
   "metadata": {},
   "source": [
    "Assume a 2s5s10s trade hedged for 5Y only"
   ]
  },
  {
   "cell_type": "code",
   "id": "0caed6b0-df23-4302-a886-5a263341f6b4",
   "metadata": {
    "ExecuteTime": {
     "end_time": "2025-04-26T17:26:39.670459Z",
     "start_time": "2025-04-26T17:26:39.667147Z"
    }
   },
   "source": [
    "S_ini = np.array([-1, 2.0, -1, 0])[:, np.newaxis]\n",
    "y = np.matmul(delta_r, S_ini)\n",
    "x_1 = np.array([0, 1.0, 0, 0])[:, np.newaxis]\n",
    "X = np.matmul(delta_r, x_1)"
   ],
   "outputs": [],
   "execution_count": 18
  },
  {
   "cell_type": "code",
   "id": "caf2e7ba-2060-46fa-b2d7-cbe50f3db9f6",
   "metadata": {
    "ExecuteTime": {
     "end_time": "2025-04-26T17:26:39.754142Z",
     "start_time": "2025-04-26T17:26:39.743800Z"
    }
   },
   "source": [
    "beta = np.matmul(1/np.matmul(X.T, X), np.matmul(X.T, y))"
   ],
   "outputs": [],
   "execution_count": 19
  },
  {
   "cell_type": "code",
   "id": "b8a0bacd-1435-4b41-b856-44ddcff85316",
   "metadata": {
    "ExecuteTime": {
     "end_time": "2025-04-26T17:26:39.833738Z",
     "start_time": "2025-04-26T17:26:39.829879Z"
    }
   },
   "source": [
    "S_trade = -np.matmul(x_1, beta)\n",
    "S_trade"
   ],
   "outputs": [
    {
     "data": {
      "text/plain": [
       "array([[-0.        ],\n",
       "       [-0.34314061],\n",
       "       [-0.        ],\n",
       "       [-0.        ]])"
      ]
     },
     "execution_count": 20,
     "metadata": {},
     "output_type": "execute_result"
    }
   ],
   "execution_count": 20
  },
  {
   "cell_type": "code",
   "id": "8ee27448-38c9-4922-984a-09f3ef4e49b3",
   "metadata": {
    "ExecuteTime": {
     "end_time": "2025-04-26T17:26:39.890044Z",
     "start_time": "2025-04-26T17:26:39.885901Z"
    }
   },
   "source": [
    "S = S_ini + S_trade\n",
    "S * 1.9394 / S[1,0]"
   ],
   "outputs": [
    {
     "data": {
      "text/plain": [
       "array([[-1.17052781],\n",
       "       [ 1.9394    ],\n",
       "       [-1.17052781],\n",
       "       [ 0.        ]])"
      ]
     },
     "execution_count": 21,
     "metadata": {},
     "output_type": "execute_result"
    }
   ],
   "execution_count": 21
  },
  {
   "cell_type": "markdown",
   "id": "a53ef1ab-c980-47bd-ba81-78fb6b42e5e0",
   "metadata": {},
   "source": [
    "This result is the same as the CoVaR minimisation against the single 5Y instrument"
   ]
  },
  {
   "cell_type": "markdown",
   "id": "3316438e-3a18-4b2e-b71f-a1fc7a45ef47",
   "metadata": {},
   "source": [
    "Now assume a hedge to 2y and 10y."
   ]
  },
  {
   "cell_type": "code",
   "id": "312b224f-f54e-4308-9a53-bffb82d8ce38",
   "metadata": {
    "ExecuteTime": {
     "end_time": "2025-04-26T17:26:39.995373Z",
     "start_time": "2025-04-26T17:26:39.990485Z"
    }
   },
   "source": [
    "x_j = np.array([\n",
    "    [1.0, 0],\n",
    "    [0, 0],\n",
    "    [0, 1.0],\n",
    "    [0, 0]\n",
    "])\n",
    "X = np.matmul(delta_r, x_j)\n",
    "beta = np.linalg.solve(np.matmul(X.T, X), np.matmul(X.T, y))\n",
    "S_trade = - np.matmul(x_j, beta)\n",
    "S = S_ini + S_trade\n",
    "S * 1.9394 / S[1,0]"
   ],
   "outputs": [
    {
     "data": {
      "text/plain": [
       "array([[-1.43121075],\n",
       "       [ 1.9394    ],\n",
       "       [-0.37257501],\n",
       "       [ 0.        ]])"
      ]
     },
     "execution_count": 22,
     "metadata": {},
     "output_type": "execute_result"
    }
   ],
   "execution_count": 22
  },
  {
   "cell_type": "markdown",
   "id": "ee8b3b20-92ce-4989-8e17-bf2e19203c5f",
   "metadata": {},
   "source": [
    "This result is the same as the multi-instrument VaR minimisation strategy measured over 2Y and 10Y."
   ]
  },
  {
   "cell_type": "markdown",
   "id": "cf57e2e3-b86a-4286-83d5-02718da396b8",
   "metadata": {},
   "source": [
    "Now we will try to hedge against the first PC"
   ]
  },
  {
   "cell_type": "code",
   "id": "0871bb75-eaa4-4286-9022-6041916b6e9e",
   "metadata": {
    "ExecuteTime": {
     "end_time": "2025-04-26T17:26:40.048803Z",
     "start_time": "2025-04-26T17:26:40.044808Z"
    }
   },
   "source": [
    "x_1 = E[:, [0]]\n",
    "x_1[3, 0] = 0\n",
    "X = np.matmul(delta_r, x_1)\n",
    "beta = np.linalg.solve(np.matmul(X.T, X), np.matmul(X.T, y))\n",
    "S_trade = - np.matmul(x_1, beta)\n",
    "S = S_ini + S_trade\n",
    "S\n",
    "# S * 1.93941304 / S[1,0]"
   ],
   "outputs": [
    {
     "data": {
      "text/plain": [
       "array([[-1.06600256],\n",
       "       [ 1.93949707],\n",
       "       [-1.04495176],\n",
       "       [ 0.        ]])"
      ]
     },
     "execution_count": 23,
     "metadata": {},
     "output_type": "execute_result"
    }
   ],
   "execution_count": 23
  },
  {
   "cell_type": "code",
   "id": "37d00caa-c627-409c-b27d-5951015746aa",
   "metadata": {
    "ExecuteTime": {
     "end_time": "2025-04-26T17:26:40.122979Z",
     "start_time": "2025-04-26T17:26:40.114385Z"
    }
   },
   "source": [
    "pca_risk = np.matmul(E.T, S)\n",
    "pca_risk"
   ],
   "outputs": [
    {
     "data": {
      "text/plain": [
       "array([[-1.36462561e-04],\n",
       "       [ 8.19146441e-01],\n",
       "       [ 9.63115634e-01],\n",
       "       [ 2.09555288e+00]])"
      ]
     },
     "execution_count": 24,
     "metadata": {},
     "output_type": "execute_result"
    }
   ],
   "execution_count": 24
  },
  {
   "cell_type": "markdown",
   "id": "f34067f8-ebcc-4851-a92b-0c4fdc9a5261",
   "metadata": {},
   "source": [
    "This result is very close to the PCA minimisation approach and we see above that risk to PC1 is essentially fully hedged."
   ]
  }
 ],
 "metadata": {
  "kernelspec": {
   "display_name": "Python 3 (ipykernel)",
   "language": "python",
   "name": "python3"
  },
  "language_info": {
   "codemirror_mode": {
    "name": "ipython",
    "version": 3
   },
   "file_extension": ".py",
   "mimetype": "text/x-python",
   "name": "python",
   "nbconvert_exporter": "python",
   "pygments_lexer": "ipython3",
   "version": "3.9.5"
  }
 },
 "nbformat": 4,
 "nbformat_minor": 5
}
